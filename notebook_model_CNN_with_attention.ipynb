{
 "cells": [
  {
   "cell_type": "code",
   "execution_count": 1,
   "id": "0b997f16",
   "metadata": {},
   "outputs": [],
   "source": [
    "%load_ext tensorboard"
   ]
  },
  {
   "cell_type": "code",
   "execution_count": 2,
   "id": "eada695a",
   "metadata": {
    "ExecuteTime": {
     "end_time": "2023-06-22T20:27:28.338325Z",
     "start_time": "2023-06-22T20:27:28.325752Z"
    },
    "id": "QRGvE-Pt3x3c"
   },
   "outputs": [
    {
     "name": "stderr",
     "output_type": "stream",
     "text": [
      "2023-07-31 15:00:24.313606: I tensorflow/core/util/port.cc:110] oneDNN custom operations are on. You may see slightly different numerical results due to floating-point round-off errors from different computation orders. To turn them off, set the environment variable `TF_ENABLE_ONEDNN_OPTS=0`.\n",
      "2023-07-31 15:00:24.334715: I tensorflow/core/platform/cpu_feature_guard.cc:182] This TensorFlow binary is optimized to use available CPU instructions in performance-critical operations.\n",
      "To enable the following instructions: AVX2 AVX_VNNI FMA, in other operations, rebuild TensorFlow with the appropriate compiler flags.\n",
      "2023-07-31 15:00:24.680747: W tensorflow/compiler/tf2tensorrt/utils/py_utils.cc:38] TF-TRT Warning: Could not find TensorRT\n"
     ]
    },
    {
     "name": "stdout",
     "output_type": "stream",
     "text": [
      "Num GPUs Available:  1\n"
     ]
    },
    {
     "name": "stderr",
     "output_type": "stream",
     "text": [
      "2023-07-31 15:00:26.064820: I tensorflow/compiler/xla/stream_executor/cuda/cuda_gpu_executor.cc:995] successful NUMA node read from SysFS had negative value (-1), but there must be at least one NUMA node, so returning NUMA node zero. See more at https://github.com/torvalds/linux/blob/v6.0/Documentation/ABI/testing/sysfs-bus-pci#L344-L355\n",
      "2023-07-31 15:00:26.065284: I tensorflow/compiler/xla/stream_executor/cuda/cuda_gpu_executor.cc:995] successful NUMA node read from SysFS had negative value (-1), but there must be at least one NUMA node, so returning NUMA node zero. See more at https://github.com/torvalds/linux/blob/v6.0/Documentation/ABI/testing/sysfs-bus-pci#L344-L355\n",
      "2023-07-31 15:00:26.065339: I tensorflow/compiler/xla/stream_executor/cuda/cuda_gpu_executor.cc:995] successful NUMA node read from SysFS had negative value (-1), but there must be at least one NUMA node, so returning NUMA node zero. See more at https://github.com/torvalds/linux/blob/v6.0/Documentation/ABI/testing/sysfs-bus-pci#L344-L355\n"
     ]
    }
   ],
   "source": [
    "import sys\n",
    "import tensorflow as tf\n",
    "import matplotlib.pyplot as plt\n",
    "from sklearn import metrics\n",
    "from sklearn.impute import SimpleImputer\n",
    "from sklearn.metrics import accuracy_score\n",
    "import numpy as np, scipy as sp, scipy.stats, os, sys, joblib\n",
    "import os, numpy as np, scipy as sp, scipy.io, scipy.io.wavfile\n",
    "from sklearn.ensemble import RandomForestClassifier\n",
    "from sklearn.model_selection import train_test_split\n",
    "from sklearn.metrics import ConfusionMatrixDisplay\n",
    "from sklearn.metrics import confusion_matrix\n",
    "from sklearn.metrics import balanced_accuracy_score\n",
    "from sklearn.utils import class_weight\n",
    "import random\n",
    "import pandas as pd\n",
    "import importlib\n",
    "import datetime\n",
    "import useful_functions\n",
    "import preprocessing_functions\n",
    "import Chatgpt_model\n",
    "import results_functions\n",
    "import metrics_loss_functions\n",
    "print(\"Num GPUs Available: \", len(tf.config.list_physical_devices('GPU')))\n",
    "importlib.reload(Chatgpt_model)\n",
    "from Chatgpt_model import *\n",
    "importlib.reload(metrics_loss_functions)\n",
    "from metrics_loss_functions import *"
   ]
  },
  {
   "cell_type": "code",
   "execution_count": null,
   "id": "68323278",
   "metadata": {},
   "outputs": [],
   "source": []
  },
  {
   "cell_type": "code",
   "execution_count": 3,
   "id": "89021430",
   "metadata": {
    "ExecuteTime": {
     "end_time": "2023-06-22T20:28:02.185714Z",
     "start_time": "2023-06-22T20:28:02.152645Z"
    }
   },
   "outputs": [],
   "source": [
    "importlib.reload(useful_functions)\n",
    "importlib.reload(preprocessing_functions)\n",
    "importlib.reload(Chatgpt_model)\n",
    "from useful_functions import *\n",
    "from preprocessing_functions import *\n",
    "from Chatgpt_model import *"
   ]
  },
  {
   "cell_type": "code",
   "execution_count": 4,
   "id": "a411c3a7",
   "metadata": {},
   "outputs": [],
   "source": [
    " # Define the data and model foldes.\n",
    "data_folder = r\"../training_data\"\n",
    "model_folder = r\"../model\"\n",
    "wind_size = 6000\n",
    "verbose = 3"
   ]
  },
  {
   "cell_type": "code",
   "execution_count": 5,
   "id": "c8b4da30",
   "metadata": {},
   "outputs": [
    {
     "data": {
      "text/html": [
       "<div>\n",
       "<style scoped>\n",
       "    .dataframe tbody tr th:only-of-type {\n",
       "        vertical-align: middle;\n",
       "    }\n",
       "\n",
       "    .dataframe tbody tr th {\n",
       "        vertical-align: top;\n",
       "    }\n",
       "\n",
       "    .dataframe thead th {\n",
       "        text-align: right;\n",
       "    }\n",
       "</style>\n",
       "<table border=\"1\" class=\"dataframe\">\n",
       "  <thead>\n",
       "    <tr style=\"text-align: right;\">\n",
       "      <th></th>\n",
       "      <th>patient_id</th>\n",
       "      <th>recording_type</th>\n",
       "      <th>recording</th>\n",
       "      <th>murmur</th>\n",
       "    </tr>\n",
       "  </thead>\n",
       "  <tbody>\n",
       "    <tr>\n",
       "      <th>0</th>\n",
       "      <td>2530.0</td>\n",
       "      <td>1.0</td>\n",
       "      <td>[254.62053374948147, 332.41397606699405, -727....</td>\n",
       "      <td>0.0</td>\n",
       "    </tr>\n",
       "    <tr>\n",
       "      <th>1</th>\n",
       "      <td>2530.0</td>\n",
       "      <td>1.0</td>\n",
       "      <td>[20.550841480663475, -18.884669077279337, 152....</td>\n",
       "      <td>0.0</td>\n",
       "    </tr>\n",
       "    <tr>\n",
       "      <th>2</th>\n",
       "      <td>2530.0</td>\n",
       "      <td>1.0</td>\n",
       "      <td>[2296.0082592261, 1161.8953810714854, 106.9764...</td>\n",
       "      <td>0.0</td>\n",
       "    </tr>\n",
       "    <tr>\n",
       "      <th>3</th>\n",
       "      <td>2530.0</td>\n",
       "      <td>1.0</td>\n",
       "      <td>[-1.2132347511973676, -24.042684343382245, -14...</td>\n",
       "      <td>0.0</td>\n",
       "    </tr>\n",
       "    <tr>\n",
       "      <th>4</th>\n",
       "      <td>2530.0</td>\n",
       "      <td>1.0</td>\n",
       "      <td>[219.40892010033423, 106.21377642082071, 296.9...</td>\n",
       "      <td>0.0</td>\n",
       "    </tr>\n",
       "  </tbody>\n",
       "</table>\n",
       "</div>"
      ],
      "text/plain": [
       "   patient_id  recording_type  \\\n",
       "0      2530.0             1.0   \n",
       "1      2530.0             1.0   \n",
       "2      2530.0             1.0   \n",
       "3      2530.0             1.0   \n",
       "4      2530.0             1.0   \n",
       "\n",
       "                                           recording  murmur  \n",
       "0  [254.62053374948147, 332.41397606699405, -727....     0.0  \n",
       "1  [20.550841480663475, -18.884669077279337, 152....     0.0  \n",
       "2  [2296.0082592261, 1161.8953810714854, 106.9764...     0.0  \n",
       "3  [-1.2132347511973676, -24.042684343382245, -14...     0.0  \n",
       "4  [219.40892010033423, 106.21377642082071, 296.9...     0.0  "
      ]
     },
     "execution_count": 5,
     "metadata": {},
     "output_type": "execute_result"
    }
   ],
   "source": [
    "recordings,patient_label,patient_id = create_rec_patient_list(data_folder)\n",
    "df = build_dataset_df(recordings,patient_id,patient_label,wind_size)\n",
    "df.head()"
   ]
  },
  {
   "cell_type": "code",
   "execution_count": 6,
   "id": "8c066276",
   "metadata": {
    "ExecuteTime": {
     "end_time": "2023-04-28T19:30:19.950046Z",
     "start_time": "2023-04-28T19:30:19.849971Z"
    },
    "id": "P9HTtXrm78dV"
   },
   "outputs": [],
   "source": [
    "# check correctness of dataframe loaded\n",
    "for i in range(df.shape[0]):\n",
    "  if len(df[\"recording\"][i]) != wind_size:\n",
    "    print(\"problem sir\")"
   ]
  },
  {
   "cell_type": "code",
   "execution_count": 7,
   "id": "704c5b24",
   "metadata": {
    "ExecuteTime": {
     "end_time": "2023-04-28T19:30:20.212107Z",
     "start_time": "2023-04-28T19:30:20.210980Z"
    },
    "id": "fElXRT5T4a36"
   },
   "outputs": [],
   "source": [
    "# select only two columns\n",
    "new_df = df[['patient_id', 'murmur']]\n",
    "new_df = new_df.drop_duplicates()\n",
    "new_df = new_df.reset_index(drop=True)"
   ]
  },
  {
   "cell_type": "code",
   "execution_count": 8,
   "id": "cf46440a",
   "metadata": {
    "ExecuteTime": {
     "end_time": "2023-04-28T19:30:20.478399Z",
     "start_time": "2023-04-28T19:30:20.402161Z"
    },
    "colab": {
     "base_uri": "https://localhost:8080/"
    },
    "id": "6T9wZX1WyE83",
    "outputId": "d3fbb777-7c62-410b-fc50-0621a5692645"
   },
   "outputs": [
    {
     "name": "stdout",
     "output_type": "stream",
     "text": [
      "179\n",
      "695\n"
     ]
    }
   ],
   "source": [
    "# check murmur/non-murmur balance\n",
    "nb_murmur_present = (new_df.loc[new_df['murmur'] == 1]).shape[0]\n",
    "nb_murmur_absent = (new_df.loc[new_df['murmur'] == 0]).shape[0]\n",
    "print(nb_murmur_present)\n",
    "print(nb_murmur_absent)"
   ]
  },
  {
   "cell_type": "code",
   "execution_count": 9,
   "id": "af1d9aaa",
   "metadata": {
    "ExecuteTime": {
     "end_time": "2023-04-28T19:30:20.729364Z",
     "start_time": "2023-04-28T19:30:20.665901Z"
    },
    "colab": {
     "base_uri": "https://localhost:8080/",
     "height": 424
    },
    "id": "mzg9rqHzxyal",
    "outputId": "b703a36e-c0e1-42f6-bf19-54cf7bd0851e"
   },
   "outputs": [
    {
     "data": {
      "text/html": [
       "<div>\n",
       "<style scoped>\n",
       "    .dataframe tbody tr th:only-of-type {\n",
       "        vertical-align: middle;\n",
       "    }\n",
       "\n",
       "    .dataframe tbody tr th {\n",
       "        vertical-align: top;\n",
       "    }\n",
       "\n",
       "    .dataframe thead th {\n",
       "        text-align: right;\n",
       "    }\n",
       "</style>\n",
       "<table border=\"1\" class=\"dataframe\">\n",
       "  <thead>\n",
       "    <tr style=\"text-align: right;\">\n",
       "      <th></th>\n",
       "      <th>patient_id</th>\n",
       "      <th>murmur</th>\n",
       "    </tr>\n",
       "  </thead>\n",
       "  <tbody>\n",
       "    <tr>\n",
       "      <th>0</th>\n",
       "      <td>2530.0</td>\n",
       "      <td>0.0</td>\n",
       "    </tr>\n",
       "    <tr>\n",
       "      <th>1</th>\n",
       "      <td>9979.0</td>\n",
       "      <td>1.0</td>\n",
       "    </tr>\n",
       "    <tr>\n",
       "      <th>2</th>\n",
       "      <td>13918.0</td>\n",
       "      <td>1.0</td>\n",
       "    </tr>\n",
       "    <tr>\n",
       "      <th>3</th>\n",
       "      <td>14241.0</td>\n",
       "      <td>1.0</td>\n",
       "    </tr>\n",
       "    <tr>\n",
       "      <th>4</th>\n",
       "      <td>14998.0</td>\n",
       "      <td>0.0</td>\n",
       "    </tr>\n",
       "    <tr>\n",
       "      <th>...</th>\n",
       "      <td>...</td>\n",
       "      <td>...</td>\n",
       "    </tr>\n",
       "    <tr>\n",
       "      <th>869</th>\n",
       "      <td>85340.0</td>\n",
       "      <td>0.0</td>\n",
       "    </tr>\n",
       "    <tr>\n",
       "      <th>870</th>\n",
       "      <td>85341.0</td>\n",
       "      <td>0.0</td>\n",
       "    </tr>\n",
       "    <tr>\n",
       "      <th>871</th>\n",
       "      <td>85343.0</td>\n",
       "      <td>1.0</td>\n",
       "    </tr>\n",
       "    <tr>\n",
       "      <th>872</th>\n",
       "      <td>85345.0</td>\n",
       "      <td>0.0</td>\n",
       "    </tr>\n",
       "    <tr>\n",
       "      <th>873</th>\n",
       "      <td>85349.0</td>\n",
       "      <td>0.0</td>\n",
       "    </tr>\n",
       "  </tbody>\n",
       "</table>\n",
       "<p>874 rows × 2 columns</p>\n",
       "</div>"
      ],
      "text/plain": [
       "     patient_id  murmur\n",
       "0        2530.0     0.0\n",
       "1        9979.0     1.0\n",
       "2       13918.0     1.0\n",
       "3       14241.0     1.0\n",
       "4       14998.0     0.0\n",
       "..          ...     ...\n",
       "869     85340.0     0.0\n",
       "870     85341.0     0.0\n",
       "871     85343.0     1.0\n",
       "872     85345.0     0.0\n",
       "873     85349.0     0.0\n",
       "\n",
       "[874 rows x 2 columns]"
      ]
     },
     "execution_count": 9,
     "metadata": {},
     "output_type": "execute_result"
    }
   ],
   "source": [
    "# display\n",
    "new_df"
   ]
  },
  {
   "cell_type": "code",
   "execution_count": 10,
   "id": "52368980",
   "metadata": {
    "ExecuteTime": {
     "end_time": "2023-04-28T19:30:20.900406Z",
     "start_time": "2023-04-28T19:30:20.872700Z"
    },
    "id": "Un2S1LxU675v"
   },
   "outputs": [],
   "source": [
    "# complete list of distinct patient id's and corresponding label\n",
    "list_id = new_df['patient_id']\n",
    "list_label = new_df['murmur']"
   ]
  },
  {
   "cell_type": "code",
   "execution_count": 11,
   "id": "814df570",
   "metadata": {
    "ExecuteTime": {
     "end_time": "2023-04-28T19:30:22.427855Z",
     "start_time": "2023-04-28T19:30:22.330256Z"
    },
    "id": "uR6aqz5g9oOj"
   },
   "outputs": [],
   "source": [
    "id_train, id_valtest, label_train, label_valtest = train_test_split(list_id, list_label , test_size=0.4, random_state=42)\n",
    "id_val, id_test, label_val, label_test = train_test_split(id_valtest, label_valtest , test_size=0.5, random_state=42)"
   ]
  },
  {
   "cell_type": "code",
   "execution_count": 12,
   "id": "7f3253d4",
   "metadata": {
    "ExecuteTime": {
     "end_time": "2023-04-28T19:30:22.805600Z",
     "start_time": "2023-04-28T19:30:22.633347Z"
    },
    "id": "BlEJD1ce4H1O"
   },
   "outputs": [],
   "source": [
    "def select_rows(id_list,dframe):\n",
    "  #for id in list_id:\n",
    "  sub_df = dframe.loc[dframe['patient_id'].isin([int(id) for id in id_list])]\n",
    "  return sub_df\n",
    "\n",
    "df_train = select_rows(id_train,df)\n",
    "df_val = select_rows(id_val,df)\n",
    "df_test = select_rows(id_test,df)"
   ]
  },
  {
   "cell_type": "code",
   "execution_count": 13,
   "id": "65d7faab",
   "metadata": {
    "ExecuteTime": {
     "end_time": "2023-04-28T19:30:23.019154Z",
     "start_time": "2023-04-28T19:30:22.890730Z"
    },
    "colab": {
     "base_uri": "https://localhost:8080/"
    },
    "id": "E2w-MxY1_ClQ",
    "outputId": "d8b06ceb-2d69-4941-a7dd-cb34b1591e7f"
   },
   "outputs": [
    {
     "name": "stdout",
     "output_type": "stream",
     "text": [
      "Number of Murmur present :  2697\n",
      "Number of Murmur absent :  11832\n"
     ]
    }
   ],
   "source": [
    "print(\"Number of Murmur present : \",(df_train.loc[df_train['murmur'] == 1]).shape[0])\n",
    "print(\"Number of Murmur absent : \",(df_train.loc[df_train['murmur'] == 0]).shape[0])"
   ]
  },
  {
   "cell_type": "code",
   "execution_count": 14,
   "id": "fa107a23",
   "metadata": {
    "ExecuteTime": {
     "end_time": "2023-04-28T19:30:23.135492Z",
     "start_time": "2023-04-28T19:30:23.031706Z"
    },
    "id": "jfbOL3Un_ESV"
   },
   "outputs": [],
   "source": [
    "X_train = np.vstack(df_train['recording'])\n",
    "y_train = np.array(df_train['murmur'])\n",
    "\n",
    "X_val = np.vstack(df_val['recording'])\n",
    "y_val = np.array(df_val['murmur'])\n",
    "\n",
    "X_test = np.vstack(df_test['recording'])\n",
    "y_test = np.array(df_test['murmur'])"
   ]
  },
  {
   "cell_type": "code",
   "execution_count": 15,
   "id": "4221bb83",
   "metadata": {},
   "outputs": [
    {
     "name": "stdout",
     "output_type": "stream",
     "text": [
      "<class 'numpy.ndarray'>\n",
      "<class 'numpy.ndarray'>\n"
     ]
    }
   ],
   "source": [
    "print(type(y_val))\n",
    "print(type(np.array(y_val)))"
   ]
  },
  {
   "cell_type": "code",
   "execution_count": 16,
   "id": "29aaaf54",
   "metadata": {
    "ExecuteTime": {
     "end_time": "2023-04-28T19:30:23.394668Z",
     "start_time": "2023-04-28T19:30:23.343654Z"
    },
    "id": "YAlU7MUoCi6r"
   },
   "outputs": [],
   "source": [
    "X_train = X_train.reshape(len(X_train),len(X_train[1]),1)\n",
    "X_val = X_val.reshape(len(X_val),len(X_val[1]),1)\n",
    "X_test = X_test.reshape(len(X_test),len(X_test[1]),1)"
   ]
  },
  {
   "cell_type": "code",
   "execution_count": 17,
   "id": "751d25ab",
   "metadata": {
    "ExecuteTime": {
     "end_time": "2023-04-28T19:30:23.566721Z",
     "start_time": "2023-04-28T19:30:23.565669Z"
    }
   },
   "outputs": [
    {
     "data": {
      "text/plain": [
       "(14529, 6000, 1)"
      ]
     },
     "execution_count": 17,
     "metadata": {},
     "output_type": "execute_result"
    }
   ],
   "source": [
    "X_train.shape"
   ]
  },
  {
   "cell_type": "code",
   "execution_count": 42,
   "id": "fd4719ea",
   "metadata": {
    "ExecuteTime": {
     "end_time": "2023-04-28T19:30:23.833671Z",
     "start_time": "2023-04-28T19:30:23.810191Z"
    }
   },
   "outputs": [],
   "source": [
    "importlib.reload(Chatgpt_model)\n",
    "from Chatgpt_model import *\n",
    "\n",
    "model = create_clique_LSTM_model(input_shape=X_train.shape[1:])\n",
    "\n",
    "\n",
    "#model = make_model(input_shape=X_train.shape[1:])"
   ]
  },
  {
   "cell_type": "code",
   "execution_count": 43,
   "id": "847851a7",
   "metadata": {
    "ExecuteTime": {
     "end_time": "2023-04-28T19:30:24.050572Z",
     "start_time": "2023-04-28T19:30:24.031597Z"
    },
    "colab": {
     "base_uri": "https://localhost:8080/"
    },
    "id": "f_gayKfl_qdh",
    "outputId": "cbb9656e-720f-4852-ab80-34cda175fbff",
    "scrolled": true
   },
   "outputs": [
    {
     "name": "stdout",
     "output_type": "stream",
     "text": [
      "Model: \"model_5\"\n",
      "__________________________________________________________________________________________________\n",
      " Layer (type)                Output Shape                 Param #   Connected to                  \n",
      "==================================================================================================\n",
      " input_7 (InputLayer)        [(None, 6000, 1)]            0         []                            \n",
      "                                                                                                  \n",
      " conv1d_252 (Conv1D)         (None, 3000, 12)             96        ['input_7[0][0]']             \n",
      "                                                                                                  \n",
      " max_pooling1d_6 (MaxPoolin  (None, 1500, 12)             0         ['conv1d_252[0][0]']          \n",
      " g1D)                                                                                             \n",
      "                                                                                                  \n",
      " batch_normalization_376 (B  (None, 1500, 12)             48        ['max_pooling1d_6[0][0]']     \n",
      " atchNormalization)                                                                               \n",
      "                                                                                                  \n",
      " conv1d_253 (Conv1D)         (None, 1500, 72)             936       ['batch_normalization_376[0][0\n",
      "                                                                    ]']                           \n",
      "                                                                                                  \n",
      " batch_normalization_377 (B  (None, 1500, 72)             288       ['conv1d_253[0][0]']          \n",
      " atchNormalization)                                                                               \n",
      "                                                                                                  \n",
      " re_lu_252 (ReLU)            (None, 1500, 72)             0         ['batch_normalization_377[0][0\n",
      "                                                                    ]']                           \n",
      "                                                                                                  \n",
      " depthwise_conv1d_120 (Dept  (None, 1500, 72)             288       ['re_lu_252[0][0]']           \n",
      " hwiseConv1D)                                                                                     \n",
      "                                                                                                  \n",
      " batch_normalization_378 (B  (None, 1500, 72)             288       ['depthwise_conv1d_120[0][0]']\n",
      " atchNormalization)                                                                               \n",
      "                                                                                                  \n",
      " re_lu_253 (ReLU)            (None, 1500, 72)             0         ['batch_normalization_378[0][0\n",
      "                                                                    ]']                           \n",
      "                                                                                                  \n",
      " conv1d_254 (Conv1D)         (None, 1500, 12)             876       ['re_lu_253[0][0]']           \n",
      "                                                                                                  \n",
      " concatenate_126 (Concatena  (None, 1500, 24)             0         ['max_pooling1d_6[0][0]',     \n",
      " te)                                                                 'conv1d_254[0][0]']          \n",
      "                                                                                                  \n",
      " batch_normalization_379 (B  (None, 1500, 24)             96        ['concatenate_126[0][0]']     \n",
      " atchNormalization)                                                                               \n",
      "                                                                                                  \n",
      " conv1d_255 (Conv1D)         (None, 1500, 144)            3600      ['batch_normalization_379[0][0\n",
      "                                                                    ]']                           \n",
      "                                                                                                  \n",
      " batch_normalization_380 (B  (None, 1500, 144)            576       ['conv1d_255[0][0]']          \n",
      " atchNormalization)                                                                               \n",
      "                                                                                                  \n",
      " re_lu_254 (ReLU)            (None, 1500, 144)            0         ['batch_normalization_380[0][0\n",
      "                                                                    ]']                           \n",
      "                                                                                                  \n",
      " depthwise_conv1d_121 (Dept  (None, 1500, 144)            576       ['re_lu_254[0][0]']           \n",
      " hwiseConv1D)                                                                                     \n",
      "                                                                                                  \n",
      " batch_normalization_381 (B  (None, 1500, 144)            576       ['depthwise_conv1d_121[0][0]']\n",
      " atchNormalization)                                                                               \n",
      "                                                                                                  \n",
      " re_lu_255 (ReLU)            (None, 1500, 144)            0         ['batch_normalization_381[0][0\n",
      "                                                                    ]']                           \n",
      "                                                                                                  \n",
      " conv1d_256 (Conv1D)         (None, 1500, 12)             1740      ['re_lu_255[0][0]']           \n",
      "                                                                                                  \n",
      " concatenate_127 (Concatena  (None, 1500, 36)             0         ['max_pooling1d_6[0][0]',     \n",
      " te)                                                                 'conv1d_254[0][0]',          \n",
      "                                                                     'conv1d_256[0][0]']          \n",
      "                                                                                                  \n",
      " batch_normalization_382 (B  (None, 1500, 36)             144       ['concatenate_127[0][0]']     \n",
      " atchNormalization)                                                                               \n",
      "                                                                                                  \n",
      " conv1d_257 (Conv1D)         (None, 1500, 216)            7992      ['batch_normalization_382[0][0\n",
      "                                                                    ]']                           \n",
      "                                                                                                  \n",
      " batch_normalization_383 (B  (None, 1500, 216)            864       ['conv1d_257[0][0]']          \n",
      " atchNormalization)                                                                               \n",
      "                                                                                                  \n",
      " re_lu_256 (ReLU)            (None, 1500, 216)            0         ['batch_normalization_383[0][0\n",
      "                                                                    ]']                           \n",
      "                                                                                                  \n",
      " depthwise_conv1d_122 (Dept  (None, 1500, 216)            864       ['re_lu_256[0][0]']           \n",
      " hwiseConv1D)                                                                                     \n",
      "                                                                                                  \n",
      " batch_normalization_384 (B  (None, 1500, 216)            864       ['depthwise_conv1d_122[0][0]']\n",
      " atchNormalization)                                                                               \n",
      "                                                                                                  \n",
      " re_lu_257 (ReLU)            (None, 1500, 216)            0         ['batch_normalization_384[0][0\n",
      "                                                                    ]']                           \n"
     ]
    },
    {
     "name": "stdout",
     "output_type": "stream",
     "text": [
      "                                                                                                  \n",
      " conv1d_258 (Conv1D)         (None, 1500, 12)             2604      ['re_lu_257[0][0]']           \n",
      "                                                                                                  \n",
      " concatenate_128 (Concatena  (None, 1500, 48)             0         ['max_pooling1d_6[0][0]',     \n",
      " te)                                                                 'conv1d_254[0][0]',          \n",
      "                                                                     'conv1d_256[0][0]',          \n",
      "                                                                     'conv1d_258[0][0]']          \n",
      "                                                                                                  \n",
      " batch_normalization_385 (B  (None, 1500, 48)             192       ['concatenate_128[0][0]']     \n",
      " atchNormalization)                                                                               \n",
      "                                                                                                  \n",
      " conv1d_259 (Conv1D)         (None, 1500, 288)            14112     ['batch_normalization_385[0][0\n",
      "                                                                    ]']                           \n",
      "                                                                                                  \n",
      " batch_normalization_386 (B  (None, 1500, 288)            1152      ['conv1d_259[0][0]']          \n",
      " atchNormalization)                                                                               \n",
      "                                                                                                  \n",
      " re_lu_258 (ReLU)            (None, 1500, 288)            0         ['batch_normalization_386[0][0\n",
      "                                                                    ]']                           \n",
      "                                                                                                  \n",
      " depthwise_conv1d_123 (Dept  (None, 1500, 288)            1152      ['re_lu_258[0][0]']           \n",
      " hwiseConv1D)                                                                                     \n",
      "                                                                                                  \n",
      " batch_normalization_387 (B  (None, 1500, 288)            1152      ['depthwise_conv1d_123[0][0]']\n",
      " atchNormalization)                                                                               \n",
      "                                                                                                  \n",
      " re_lu_259 (ReLU)            (None, 1500, 288)            0         ['batch_normalization_387[0][0\n",
      "                                                                    ]']                           \n",
      "                                                                                                  \n",
      " conv1d_260 (Conv1D)         (None, 1500, 12)             3468      ['re_lu_259[0][0]']           \n",
      "                                                                                                  \n",
      " concatenate_129 (Concatena  (None, 1500, 60)             0         ['max_pooling1d_6[0][0]',     \n",
      " te)                                                                 'conv1d_254[0][0]',          \n",
      "                                                                     'conv1d_256[0][0]',          \n",
      "                                                                     'conv1d_258[0][0]',          \n",
      "                                                                     'conv1d_260[0][0]']          \n",
      "                                                                                                  \n",
      " batch_normalization_388 (B  (None, 1500, 60)             240       ['concatenate_129[0][0]']     \n",
      " atchNormalization)                                                                               \n",
      "                                                                                                  \n",
      " conv1d_261 (Conv1D)         (None, 1500, 360)            21960     ['batch_normalization_388[0][0\n",
      "                                                                    ]']                           \n",
      "                                                                                                  \n",
      " batch_normalization_389 (B  (None, 1500, 360)            1440      ['conv1d_261[0][0]']          \n",
      " atchNormalization)                                                                               \n",
      "                                                                                                  \n",
      " re_lu_260 (ReLU)            (None, 1500, 360)            0         ['batch_normalization_389[0][0\n",
      "                                                                    ]']                           \n",
      "                                                                                                  \n",
      " depthwise_conv1d_124 (Dept  (None, 1500, 360)            1440      ['re_lu_260[0][0]']           \n",
      " hwiseConv1D)                                                                                     \n",
      "                                                                                                  \n",
      " batch_normalization_390 (B  (None, 1500, 360)            1440      ['depthwise_conv1d_124[0][0]']\n",
      " atchNormalization)                                                                               \n",
      "                                                                                                  \n",
      " re_lu_261 (ReLU)            (None, 1500, 360)            0         ['batch_normalization_390[0][0\n",
      "                                                                    ]']                           \n",
      "                                                                                                  \n",
      " conv1d_262 (Conv1D)         (None, 1500, 12)             4332      ['re_lu_261[0][0]']           \n",
      "                                                                                                  \n",
      " concatenate_130 (Concatena  (None, 1500, 36)             0         ['conv1d_258[0][0]',          \n",
      " te)                                                                 'conv1d_260[0][0]',          \n",
      "                                                                     'conv1d_262[0][0]']          \n",
      "                                                                                                  \n",
      " batch_normalization_391 (B  (None, 1500, 36)             144       ['concatenate_130[0][0]']     \n",
      " atchNormalization)                                                                               \n",
      "                                                                                                  \n",
      " conv1d_263 (Conv1D)         (None, 1500, 216)            7992      ['batch_normalization_391[0][0\n",
      "                                                                    ]']                           \n",
      "                                                                                                  \n",
      " batch_normalization_392 (B  (None, 1500, 216)            864       ['conv1d_263[0][0]']          \n",
      " atchNormalization)                                                                               \n",
      "                                                                                                  \n",
      " re_lu_262 (ReLU)            (None, 1500, 216)            0         ['batch_normalization_392[0][0\n",
      "                                                                    ]']                           \n",
      "                                                                                                  \n",
      " depthwise_conv1d_125 (Dept  (None, 1500, 216)            864       ['re_lu_262[0][0]']           \n",
      " hwiseConv1D)                                                                                     \n",
      "                                                                                                  \n",
      " batch_normalization_393 (B  (None, 1500, 216)            864       ['depthwise_conv1d_125[0][0]']\n",
      " atchNormalization)                                                                               \n",
      "                                                                                                  \n",
      " re_lu_263 (ReLU)            (None, 1500, 216)            0         ['batch_normalization_393[0][0\n"
     ]
    },
    {
     "name": "stdout",
     "output_type": "stream",
     "text": [
      "                                                                    ]']                           \n",
      "                                                                                                  \n",
      " conv1d_264 (Conv1D)         (None, 1500, 12)             2604      ['re_lu_263[0][0]']           \n",
      "                                                                                                  \n",
      " concatenate_131 (Concatena  (None, 1500, 36)             0         ['conv1d_260[0][0]',          \n",
      " te)                                                                 'conv1d_262[0][0]',          \n",
      "                                                                     'conv1d_264[0][0]']          \n",
      "                                                                                                  \n",
      " batch_normalization_394 (B  (None, 1500, 36)             144       ['concatenate_131[0][0]']     \n",
      " atchNormalization)                                                                               \n",
      "                                                                                                  \n",
      " conv1d_265 (Conv1D)         (None, 1500, 216)            7992      ['batch_normalization_394[0][0\n",
      "                                                                    ]']                           \n",
      "                                                                                                  \n",
      " batch_normalization_395 (B  (None, 1500, 216)            864       ['conv1d_265[0][0]']          \n",
      " atchNormalization)                                                                               \n",
      "                                                                                                  \n",
      " re_lu_264 (ReLU)            (None, 1500, 216)            0         ['batch_normalization_395[0][0\n",
      "                                                                    ]']                           \n",
      "                                                                                                  \n",
      " depthwise_conv1d_126 (Dept  (None, 1500, 216)            864       ['re_lu_264[0][0]']           \n",
      " hwiseConv1D)                                                                                     \n",
      "                                                                                                  \n",
      " batch_normalization_396 (B  (None, 1500, 216)            864       ['depthwise_conv1d_126[0][0]']\n",
      " atchNormalization)                                                                               \n",
      "                                                                                                  \n",
      " re_lu_265 (ReLU)            (None, 1500, 216)            0         ['batch_normalization_396[0][0\n",
      "                                                                    ]']                           \n",
      "                                                                                                  \n",
      " conv1d_266 (Conv1D)         (None, 1500, 12)             2604      ['re_lu_265[0][0]']           \n",
      "                                                                                                  \n",
      " concatenate_132 (Concatena  (None, 1500, 36)             0         ['conv1d_262[0][0]',          \n",
      " te)                                                                 'conv1d_264[0][0]',          \n",
      "                                                                     'conv1d_266[0][0]']          \n",
      "                                                                                                  \n",
      " batch_normalization_397 (B  (None, 1500, 36)             144       ['concatenate_132[0][0]']     \n",
      " atchNormalization)                                                                               \n",
      "                                                                                                  \n",
      " conv1d_267 (Conv1D)         (None, 1500, 216)            7992      ['batch_normalization_397[0][0\n",
      "                                                                    ]']                           \n",
      "                                                                                                  \n",
      " batch_normalization_398 (B  (None, 1500, 216)            864       ['conv1d_267[0][0]']          \n",
      " atchNormalization)                                                                               \n",
      "                                                                                                  \n",
      " re_lu_266 (ReLU)            (None, 1500, 216)            0         ['batch_normalization_398[0][0\n",
      "                                                                    ]']                           \n",
      "                                                                                                  \n",
      " depthwise_conv1d_127 (Dept  (None, 1500, 216)            864       ['re_lu_266[0][0]']           \n",
      " hwiseConv1D)                                                                                     \n",
      "                                                                                                  \n",
      " batch_normalization_399 (B  (None, 1500, 216)            864       ['depthwise_conv1d_127[0][0]']\n",
      " atchNormalization)                                                                               \n",
      "                                                                                                  \n",
      " re_lu_267 (ReLU)            (None, 1500, 216)            0         ['batch_normalization_399[0][0\n",
      "                                                                    ]']                           \n",
      "                                                                                                  \n",
      " conv1d_268 (Conv1D)         (None, 1500, 12)             2604      ['re_lu_267[0][0]']           \n",
      "                                                                                                  \n",
      " concatenate_133 (Concatena  (None, 1500, 36)             0         ['conv1d_264[0][0]',          \n",
      " te)                                                                 'conv1d_266[0][0]',          \n",
      "                                                                     'conv1d_268[0][0]']          \n",
      "                                                                                                  \n",
      " batch_normalization_400 (B  (None, 1500, 36)             144       ['concatenate_133[0][0]']     \n",
      " atchNormalization)                                                                               \n",
      "                                                                                                  \n",
      " conv1d_269 (Conv1D)         (None, 1500, 216)            7992      ['batch_normalization_400[0][0\n",
      "                                                                    ]']                           \n",
      "                                                                                                  \n",
      " batch_normalization_401 (B  (None, 1500, 216)            864       ['conv1d_269[0][0]']          \n",
      " atchNormalization)                                                                               \n",
      "                                                                                                  \n",
      " re_lu_268 (ReLU)            (None, 1500, 216)            0         ['batch_normalization_401[0][0\n",
      "                                                                    ]']                           \n",
      "                                                                                                  \n",
      " depthwise_conv1d_128 (Dept  (None, 1500, 216)            864       ['re_lu_268[0][0]']           \n",
      " hwiseConv1D)                                                                                     \n",
      "                                                                                                  \n",
      " batch_normalization_402 (B  (None, 1500, 216)            864       ['depthwise_conv1d_128[0][0]']\n",
      " atchNormalization)                                                                               \n",
      "                                                                                                  \n",
      " re_lu_269 (ReLU)            (None, 1500, 216)            0         ['batch_normalization_402[0][0\n",
      "                                                                    ]']                           \n",
      "                                                                                                  \n"
     ]
    },
    {
     "name": "stdout",
     "output_type": "stream",
     "text": [
      " conv1d_270 (Conv1D)         (None, 1500, 12)             2604      ['re_lu_269[0][0]']           \n",
      "                                                                                                  \n",
      " concatenate_134 (Concatena  (None, 1500, 36)             0         ['conv1d_266[0][0]',          \n",
      " te)                                                                 'conv1d_268[0][0]',          \n",
      "                                                                     'conv1d_270[0][0]']          \n",
      "                                                                                                  \n",
      " batch_normalization_403 (B  (None, 1500, 36)             144       ['concatenate_134[0][0]']     \n",
      " atchNormalization)                                                                               \n",
      "                                                                                                  \n",
      " conv1d_271 (Conv1D)         (None, 1500, 216)            7992      ['batch_normalization_403[0][0\n",
      "                                                                    ]']                           \n",
      "                                                                                                  \n",
      " batch_normalization_404 (B  (None, 1500, 216)            864       ['conv1d_271[0][0]']          \n",
      " atchNormalization)                                                                               \n",
      "                                                                                                  \n",
      " re_lu_270 (ReLU)            (None, 1500, 216)            0         ['batch_normalization_404[0][0\n",
      "                                                                    ]']                           \n",
      "                                                                                                  \n",
      " depthwise_conv1d_129 (Dept  (None, 1500, 216)            864       ['re_lu_270[0][0]']           \n",
      " hwiseConv1D)                                                                                     \n",
      "                                                                                                  \n",
      " batch_normalization_405 (B  (None, 1500, 216)            864       ['depthwise_conv1d_129[0][0]']\n",
      " atchNormalization)                                                                               \n",
      "                                                                                                  \n",
      " re_lu_271 (ReLU)            (None, 1500, 216)            0         ['batch_normalization_405[0][0\n",
      "                                                                    ]']                           \n",
      "                                                                                                  \n",
      " conv1d_272 (Conv1D)         (None, 1500, 12)             2604      ['re_lu_271[0][0]']           \n",
      "                                                                                                  \n",
      " concatenate_135 (Concatena  (None, 1500, 24)             0         ['max_pooling1d_6[0][0]',     \n",
      " te)                                                                 'conv1d_272[0][0]']          \n",
      "                                                                                                  \n",
      " batch_normalization_406 (B  (None, 1500, 24)             96        ['concatenate_135[0][0]']     \n",
      " atchNormalization)                                                                               \n",
      "                                                                                                  \n",
      " re_lu_272 (ReLU)            (None, 1500, 24)             0         ['batch_normalization_406[0][0\n",
      "                                                                    ]']                           \n",
      "                                                                                                  \n",
      " max_pooling1d_7 (MaxPoolin  (None, 750, 24)              0         ['re_lu_272[0][0]']           \n",
      " g1D)                                                                                             \n",
      "                                                                                                  \n",
      " lstm_6 (LSTM)               (None, 750, 128)             78336     ['max_pooling1d_7[0][0]']     \n",
      "                                                                                                  \n",
      " dropout_16 (Dropout)        (None, 750, 128)             0         ['lstm_6[0][0]']              \n",
      "                                                                                                  \n",
      " lstm_7 (LSTM)               (None, 750, 64)              49408     ['dropout_16[0][0]']          \n",
      "                                                                                                  \n",
      " dropout_17 (Dropout)        (None, 750, 64)              0         ['lstm_7[0][0]']              \n",
      "                                                                                                  \n",
      " global_average_pooling1d_1  (None, 64)                   0         ['dropout_17[0][0]']          \n",
      " 8 (GlobalAveragePooling1D)                                                                       \n",
      "                                                                                                  \n",
      " dense_28 (Dense)            (None, 32)                   2080      ['global_average_pooling1d_18[\n",
      "                                                                    0][0]']                       \n",
      "                                                                                                  \n",
      " batch_normalization_407 (B  (None, 32)                   128       ['dense_28[0][0]']            \n",
      " atchNormalization)                                                                               \n",
      "                                                                                                  \n",
      " dropout_18 (Dropout)        (None, 32)                   0         ['batch_normalization_407[0][0\n",
      "                                                                    ]']                           \n",
      "                                                                                                  \n",
      " dense_29 (Dense)            (None, 16)                   528       ['dropout_18[0][0]']          \n",
      "                                                                                                  \n",
      " batch_normalization_408 (B  (None, 16)                   64        ['dense_29[0][0]']            \n",
      " atchNormalization)                                                                               \n",
      "                                                                                                  \n",
      " dropout_19 (Dropout)        (None, 16)                   0         ['batch_normalization_408[0][0\n",
      "                                                                    ]']                           \n",
      "                                                                                                  \n",
      " dense_30 (Dense)            (None, 1)                    17        ['dropout_19[0][0]']          \n",
      "                                                                                                  \n",
      "==================================================================================================\n",
      "Total params: 272713 (1.04 MB)\n",
      "Trainable params: 263209 (1.00 MB)\n",
      "Non-trainable params: 9504 (37.12 KB)\n",
      "__________________________________________________________________________________________________\n"
     ]
    }
   ],
   "source": [
    "\n",
    "model.summary()\n"
   ]
  },
  {
   "cell_type": "code",
   "execution_count": 22,
   "id": "c07e1014",
   "metadata": {},
   "outputs": [
    {
     "name": "stdout",
     "output_type": "stream",
     "text": [
      "The tensorboard extension is already loaded. To reload it, use:\n",
      "  %reload_ext tensorboard\n"
     ]
    }
   ],
   "source": [
    "weights = class_weight.compute_class_weight(  class_weight ='balanced',\n",
    "                                    classes = np.unique(y_train),\n",
    "                                    y = y_train)\n",
    "class_weights = dict(zip(np.unique(y_train), weights))\n",
    "class_weights\n",
    "wghts = {0: 0.6139705882352942, 1: 2.693548387096774}\n",
    "\n",
    "# Load the TensorBoard notebook extension\n",
    "%load_ext tensorboard"
   ]
  },
  {
   "cell_type": "code",
   "execution_count": 23,
   "id": "367a6ebf",
   "metadata": {},
   "outputs": [
    {
     "data": {
      "text/plain": [
       "array([0.61397059, 2.69354839])"
      ]
     },
     "execution_count": 23,
     "metadata": {},
     "output_type": "execute_result"
    }
   ],
   "source": [
    "weights"
   ]
  },
  {
   "cell_type": "code",
   "execution_count": 24,
   "id": "a97b51a5",
   "metadata": {},
   "outputs": [],
   "source": [
    "importlib.reload(results_functions)\n",
    "from results_functions import *"
   ]
  },
  {
   "cell_type": "code",
   "execution_count": 25,
   "id": "78b22685",
   "metadata": {},
   "outputs": [],
   "source": [
    "fscore = tf.keras.metrics.FBetaScore(beta=2.0,threshold=0.5, average='weighted')\n",
    "auc = tf.keras.metrics.AUC(name='auc',curve='PR')"
   ]
  },
  {
   "cell_type": "code",
   "execution_count": 44,
   "id": "7465f75c",
   "metadata": {
    "scrolled": false
   },
   "outputs": [
    {
     "name": "stdout",
     "output_type": "stream",
     "text": [
      "Epoch 1/100\n",
      "454/455 [============================>.] - ETA: 0s - loss: 0.6113 - fbeta_score: 0.5451 - auc: 0.5085 - acc: 0.7011\n",
      "Epoch 1: saving model to checkpoint_dir/20230731-155349Clique_LSTM_maxpool_patience25/M_0_cp.ckpt\n",
      "455/455 [==============================] - 68s 127ms/step - loss: 0.6113 - fbeta_score: 0.5451 - auc: 0.5085 - acc: 0.7011 - val_loss: 0.9621 - val_fbeta_score: 0.0329 - val_auc: 0.3830 - val_acc: 0.7846 - lr: 0.0010\n",
      "Epoch 2/100\n",
      "454/455 [============================>.] - ETA: 0s - loss: 0.5736 - fbeta_score: 0.5545 - auc: 0.5163 - acc: 0.7578\n",
      "Epoch 2: saving model to checkpoint_dir/20230731-155349Clique_LSTM_maxpool_patience25/M_0_cp.ckpt\n",
      "455/455 [==============================] - 57s 126ms/step - loss: 0.5737 - fbeta_score: 0.5543 - auc: 0.5162 - acc: 0.7577 - val_loss: 0.6249 - val_fbeta_score: 0.5899 - val_auc: 0.5497 - val_acc: 0.6529 - lr: 0.0010\n",
      "Epoch 3/100\n",
      "454/455 [============================>.] - ETA: 0s - loss: 0.5677 - fbeta_score: 0.5634 - auc: 0.5340 - acc: 0.7568\n",
      "Epoch 3: saving model to checkpoint_dir/20230731-155349Clique_LSTM_maxpool_patience25/M_0_cp.ckpt\n",
      "455/455 [==============================] - 57s 126ms/step - loss: 0.5677 - fbeta_score: 0.5634 - auc: 0.5340 - acc: 0.7568 - val_loss: 0.8217 - val_fbeta_score: 0.5974 - val_auc: 0.4818 - val_acc: 0.5177 - lr: 0.0010\n",
      "Epoch 4/100\n",
      "454/455 [============================>.] - ETA: 0s - loss: 0.5710 - fbeta_score: 0.5587 - auc: 0.5145 - acc: 0.7677\n",
      "Epoch 4: saving model to checkpoint_dir/20230731-155349Clique_LSTM_maxpool_patience25/M_0_cp.ckpt\n",
      "455/455 [==============================] - 57s 126ms/step - loss: 0.5709 - fbeta_score: 0.5587 - auc: 0.5145 - acc: 0.7677 - val_loss: 0.7498 - val_fbeta_score: 0.5609 - val_auc: 0.4917 - val_acc: 0.5695 - lr: 0.0010\n",
      "Epoch 5/100\n",
      "454/455 [============================>.] - ETA: 0s - loss: 0.5697 - fbeta_score: 0.5445 - auc: 0.5218 - acc: 0.7689\n",
      "Epoch 5: saving model to checkpoint_dir/20230731-155349Clique_LSTM_maxpool_patience25/M_0_cp.ckpt\n",
      "455/455 [==============================] - 57s 126ms/step - loss: 0.5697 - fbeta_score: 0.5445 - auc: 0.5217 - acc: 0.7689 - val_loss: 0.6221 - val_fbeta_score: 0.5086 - val_auc: 0.6396 - val_acc: 0.8391 - lr: 0.0010\n",
      "Epoch 6/100\n",
      "454/455 [============================>.] - ETA: 0s - loss: 0.5408 - fbeta_score: 0.5856 - auc: 0.5719 - acc: 0.7734\n",
      "Epoch 6: saving model to checkpoint_dir/20230731-155349Clique_LSTM_maxpool_patience25/M_0_cp.ckpt\n",
      "455/455 [==============================] - 57s 126ms/step - loss: 0.5408 - fbeta_score: 0.5856 - auc: 0.5719 - acc: 0.7734 - val_loss: 0.6174 - val_fbeta_score: 0.5687 - val_auc: 0.5592 - val_acc: 0.7658 - lr: 0.0010\n",
      "Epoch 7/100\n",
      "454/455 [============================>.] - ETA: 0s - loss: 0.5013 - fbeta_score: 0.6344 - auc: 0.6478 - acc: 0.7889\n",
      "Epoch 7: saving model to checkpoint_dir/20230731-155349Clique_LSTM_maxpool_patience25/M_0_cp.ckpt\n",
      "455/455 [==============================] - 58s 127ms/step - loss: 0.5013 - fbeta_score: 0.6344 - auc: 0.6478 - acc: 0.7889 - val_loss: 0.5464 - val_fbeta_score: 0.6381 - val_auc: 0.7103 - val_acc: 0.7919 - lr: 0.0010\n",
      "Epoch 8/100\n",
      "454/455 [============================>.] - ETA: 0s - loss: 0.4815 - fbeta_score: 0.6520 - auc: 0.6755 - acc: 0.8007\n",
      "Epoch 8: saving model to checkpoint_dir/20230731-155349Clique_LSTM_maxpool_patience25/M_0_cp.ckpt\n",
      "455/455 [==============================] - 57s 126ms/step - loss: 0.4815 - fbeta_score: 0.6520 - auc: 0.6755 - acc: 0.8007 - val_loss: 0.6623 - val_fbeta_score: 0.5707 - val_auc: 0.6328 - val_acc: 0.6061 - lr: 0.0010\n",
      "Epoch 9/100\n",
      "454/455 [============================>.] - ETA: 0s - loss: 0.4795 - fbeta_score: 0.6470 - auc: 0.6872 - acc: 0.8058\n",
      "Epoch 9: saving model to checkpoint_dir/20230731-155349Clique_LSTM_maxpool_patience25/M_0_cp.ckpt\n",
      "455/455 [==============================] - 57s 126ms/step - loss: 0.4794 - fbeta_score: 0.6470 - auc: 0.6871 - acc: 0.8058 - val_loss: 0.5473 - val_fbeta_score: 0.6385 - val_auc: 0.6871 - val_acc: 0.7093 - lr: 0.0010\n",
      "Epoch 10/100\n",
      "454/455 [============================>.] - ETA: 0s - loss: 0.4672 - fbeta_score: 0.6643 - auc: 0.7026 - acc: 0.8086\n",
      "Epoch 10: saving model to checkpoint_dir/20230731-155349Clique_LSTM_maxpool_patience25/M_0_cp.ckpt\n",
      "455/455 [==============================] - 57s 126ms/step - loss: 0.4672 - fbeta_score: 0.6643 - auc: 0.7026 - acc: 0.8087 - val_loss: 0.6203 - val_fbeta_score: 0.6201 - val_auc: 0.6116 - val_acc: 0.6152 - lr: 0.0010\n",
      "Epoch 11/100\n",
      "454/455 [============================>.] - ETA: 0s - loss: 0.4736 - fbeta_score: 0.6626 - auc: 0.6862 - acc: 0.7989\n",
      "Epoch 11: saving model to checkpoint_dir/20230731-155349Clique_LSTM_maxpool_patience25/M_0_cp.ckpt\n",
      "455/455 [==============================] - 57s 126ms/step - loss: 0.4737 - fbeta_score: 0.6624 - auc: 0.6861 - acc: 0.7989 - val_loss: 0.5798 - val_fbeta_score: 0.6195 - val_auc: 0.6417 - val_acc: 0.6730 - lr: 0.0010\n",
      "Epoch 12/100\n",
      "454/455 [============================>.] - ETA: 0s - loss: 0.4684 - fbeta_score: 0.6575 - auc: 0.7011 - acc: 0.8045\n",
      "Epoch 12: saving model to checkpoint_dir/20230731-155349Clique_LSTM_maxpool_patience25/M_0_cp.ckpt\n",
      "455/455 [==============================] - 57s 126ms/step - loss: 0.4686 - fbeta_score: 0.6574 - auc: 0.7010 - acc: 0.8045 - val_loss: 0.5285 - val_fbeta_score: 0.6349 - val_auc: 0.7366 - val_acc: 0.8432 - lr: 0.0010\n",
      "Epoch 13/100\n",
      "454/455 [============================>.] - ETA: 0s - loss: 0.4354 - fbeta_score: 0.6831 - auc: 0.7345 - acc: 0.8154\n",
      "Epoch 13: saving model to checkpoint_dir/20230731-155349Clique_LSTM_maxpool_patience25/M_0_cp.ckpt\n",
      "455/455 [==============================] - 57s 126ms/step - loss: 0.4354 - fbeta_score: 0.6831 - auc: 0.7345 - acc: 0.8154 - val_loss: 0.5386 - val_fbeta_score: 0.6535 - val_auc: 0.7374 - val_acc: 0.8461 - lr: 0.0010\n",
      "Epoch 14/100\n",
      "454/455 [============================>.] - ETA: 0s - loss: 0.4305 - fbeta_score: 0.6861 - auc: 0.7394 - acc: 0.8272\n",
      "Epoch 14: saving model to checkpoint_dir/20230731-155349Clique_LSTM_maxpool_patience25/M_0_cp.ckpt\n",
      "455/455 [==============================] - 57s 126ms/step - loss: 0.4305 - fbeta_score: 0.6861 - auc: 0.7394 - acc: 0.8272 - val_loss: 0.5227 - val_fbeta_score: 0.6747 - val_auc: 0.7475 - val_acc: 0.7090 - lr: 0.0010\n",
      "Epoch 15/100\n",
      "454/455 [============================>.] - ETA: 0s - loss: 0.4094 - fbeta_score: 0.7105 - auc: 0.7476 - acc: 0.8274\n",
      "Epoch 15: saving model to checkpoint_dir/20230731-155349Clique_LSTM_maxpool_patience25/M_0_cp.ckpt\n",
      "455/455 [==============================] - 57s 126ms/step - loss: 0.4094 - fbeta_score: 0.7105 - auc: 0.7475 - acc: 0.8274 - val_loss: 0.5725 - val_fbeta_score: 0.6271 - val_auc: 0.7188 - val_acc: 0.8049 - lr: 0.0010\n",
      "Epoch 16/100\n",
      "454/455 [============================>.] - ETA: 0s - loss: 0.4323 - fbeta_score: 0.6960 - auc: 0.7346 - acc: 0.8258\n",
      "Epoch 16: saving model to checkpoint_dir/20230731-155349Clique_LSTM_maxpool_patience25/M_0_cp.ckpt\n",
      "455/455 [==============================] - 58s 126ms/step - loss: 0.4323 - fbeta_score: 0.6960 - auc: 0.7346 - acc: 0.8258 - val_loss: 0.5303 - val_fbeta_score: 0.6597 - val_auc: 0.7190 - val_acc: 0.6993 - lr: 0.0010\n",
      "Epoch 17/100\n",
      "454/455 [============================>.] - ETA: 0s - loss: 0.4654 - fbeta_score: 0.6544 - auc: 0.6938 - acc: 0.8153\n",
      "Epoch 17: saving model to checkpoint_dir/20230731-155349Clique_LSTM_maxpool_patience25/M_0_cp.ckpt\n",
      "455/455 [==============================] - 58s 126ms/step - loss: 0.4654 - fbeta_score: 0.6544 - auc: 0.6938 - acc: 0.8153 - val_loss: 0.8521 - val_fbeta_score: 0.0713 - val_auc: 0.3165 - val_acc: 0.7803 - lr: 0.0010\n",
      "Epoch 18/100\n",
      "454/455 [============================>.] - ETA: 0s - loss: 0.5968 - fbeta_score: 0.5107 - auc: 0.4583 - acc: 0.7526\n",
      "Epoch 18: saving model to checkpoint_dir/20230731-155349Clique_LSTM_maxpool_patience25/M_0_cp.ckpt\n",
      "455/455 [==============================] - 58s 126ms/step - loss: 0.5968 - fbeta_score: 0.5107 - auc: 0.4582 - acc: 0.7526 - val_loss: 0.6203 - val_fbeta_score: 0.5142 - val_auc: 0.5789 - val_acc: 0.8070 - lr: 0.0010\n",
      "Epoch 19/100\n",
      "454/455 [============================>.] - ETA: 0s - loss: 0.5430 - fbeta_score: 0.5930 - auc: 0.5741 - acc: 0.7616\n",
      "Epoch 19: saving model to checkpoint_dir/20230731-155349Clique_LSTM_maxpool_patience25/M_0_cp.ckpt\n"
     ]
    },
    {
     "name": "stdout",
     "output_type": "stream",
     "text": [
      "455/455 [==============================] - 58s 127ms/step - loss: 0.5431 - fbeta_score: 0.5928 - auc: 0.5741 - acc: 0.7615 - val_loss: 0.5585 - val_fbeta_score: 0.6368 - val_auc: 0.6801 - val_acc: 0.6975 - lr: 0.0010\n",
      "Epoch 20/100\n",
      "454/455 [============================>.] - ETA: 0s - loss: 0.4769 - fbeta_score: 0.6533 - auc: 0.6803 - acc: 0.7969\n",
      "Epoch 20: saving model to checkpoint_dir/20230731-155349Clique_LSTM_maxpool_patience25/M_0_cp.ckpt\n",
      "455/455 [==============================] - 57s 126ms/step - loss: 0.4769 - fbeta_score: 0.6533 - auc: 0.6803 - acc: 0.7970 - val_loss: 0.5415 - val_fbeta_score: 0.6198 - val_auc: 0.7472 - val_acc: 0.8569 - lr: 0.0010\n",
      "Epoch 21/100\n",
      "454/455 [============================>.] - ETA: 0s - loss: 0.4235 - fbeta_score: 0.6944 - auc: 0.7502 - acc: 0.8304\n",
      "Epoch 21: saving model to checkpoint_dir/20230731-155349Clique_LSTM_maxpool_patience25/M_0_cp.ckpt\n",
      "455/455 [==============================] - 57s 126ms/step - loss: 0.4237 - fbeta_score: 0.6942 - auc: 0.7500 - acc: 0.8303 - val_loss: 0.5331 - val_fbeta_score: 0.6373 - val_auc: 0.7392 - val_acc: 0.8364 - lr: 0.0010\n",
      "Epoch 22/100\n",
      "454/455 [============================>.] - ETA: 0s - loss: 0.4383 - fbeta_score: 0.6857 - auc: 0.7324 - acc: 0.8219\n",
      "Epoch 22: saving model to checkpoint_dir/20230731-155349Clique_LSTM_maxpool_patience25/M_0_cp.ckpt\n",
      "455/455 [==============================] - 57s 126ms/step - loss: 0.4383 - fbeta_score: 0.6857 - auc: 0.7324 - acc: 0.8219 - val_loss: 0.5999 - val_fbeta_score: 0.6154 - val_auc: 0.7438 - val_acc: 0.8495 - lr: 0.0010\n",
      "Epoch 23/100\n",
      "454/455 [============================>.] - ETA: 0s - loss: 0.4292 - fbeta_score: 0.6945 - auc: 0.7429 - acc: 0.8283\n",
      "Epoch 23: saving model to checkpoint_dir/20230731-155349Clique_LSTM_maxpool_patience25/M_0_cp.ckpt\n",
      "455/455 [==============================] - 58s 126ms/step - loss: 0.4292 - fbeta_score: 0.6945 - auc: 0.7429 - acc: 0.8283 - val_loss: 0.5199 - val_fbeta_score: 0.6515 - val_auc: 0.7370 - val_acc: 0.8111 - lr: 0.0010\n",
      "Epoch 24/100\n",
      "454/455 [============================>.] - ETA: 0s - loss: 0.4090 - fbeta_score: 0.7107 - auc: 0.7657 - acc: 0.8363\n",
      "Epoch 24: saving model to checkpoint_dir/20230731-155349Clique_LSTM_maxpool_patience25/M_0_cp.ckpt\n",
      "455/455 [==============================] - 57s 126ms/step - loss: 0.4089 - fbeta_score: 0.7107 - auc: 0.7657 - acc: 0.8363 - val_loss: 0.5303 - val_fbeta_score: 0.6432 - val_auc: 0.7520 - val_acc: 0.8405 - lr: 0.0010\n",
      "Epoch 25/100\n",
      "454/455 [============================>.] - ETA: 0s - loss: 0.3918 - fbeta_score: 0.7162 - auc: 0.7799 - acc: 0.8345\n",
      "Epoch 25: saving model to checkpoint_dir/20230731-155349Clique_LSTM_maxpool_patience25/M_0_cp.ckpt\n",
      "455/455 [==============================] - 57s 126ms/step - loss: 0.3918 - fbeta_score: 0.7162 - auc: 0.7799 - acc: 0.8345 - val_loss: 0.6096 - val_fbeta_score: 0.6143 - val_auc: 0.7542 - val_acc: 0.8729 - lr: 0.0010\n",
      "Epoch 26/100\n",
      "454/455 [============================>.] - ETA: 0s - loss: 0.3845 - fbeta_score: 0.7317 - auc: 0.7805 - acc: 0.8504\n",
      "Epoch 26: saving model to checkpoint_dir/20230731-155349Clique_LSTM_maxpool_patience25/M_0_cp.ckpt\n",
      "455/455 [==============================] - 58s 126ms/step - loss: 0.3847 - fbeta_score: 0.7315 - auc: 0.7803 - acc: 0.8504 - val_loss: 0.6989 - val_fbeta_score: 0.5430 - val_auc: 0.6930 - val_acc: 0.8517 - lr: 0.0010\n",
      "Epoch 27/100\n",
      "454/455 [============================>.] - ETA: 0s - loss: 0.3853 - fbeta_score: 0.7234 - auc: 0.7824 - acc: 0.8412\n",
      "Epoch 27: saving model to checkpoint_dir/20230731-155349Clique_LSTM_maxpool_patience25/M_0_cp.ckpt\n",
      "455/455 [==============================] - 57s 126ms/step - loss: 0.3853 - fbeta_score: 0.7234 - auc: 0.7824 - acc: 0.8412 - val_loss: 0.5622 - val_fbeta_score: 0.6097 - val_auc: 0.7083 - val_acc: 0.8279 - lr: 0.0010\n",
      "Epoch 28/100\n",
      "454/455 [============================>.] - ETA: 0s - loss: 0.3689 - fbeta_score: 0.7395 - auc: 0.7966 - acc: 0.8510\n",
      "Epoch 28: saving model to checkpoint_dir/20230731-155349Clique_LSTM_maxpool_patience25/M_0_cp.ckpt\n",
      "455/455 [==============================] - 57s 126ms/step - loss: 0.3689 - fbeta_score: 0.7395 - auc: 0.7966 - acc: 0.8511 - val_loss: 0.5319 - val_fbeta_score: 0.6790 - val_auc: 0.7507 - val_acc: 0.7751 - lr: 0.0010\n",
      "Epoch 29/100\n",
      "454/455 [============================>.] - ETA: 0s - loss: 0.3640 - fbeta_score: 0.7424 - auc: 0.8014 - acc: 0.8552\n",
      "Epoch 29: saving model to checkpoint_dir/20230731-155349Clique_LSTM_maxpool_patience25/M_0_cp.ckpt\n",
      "455/455 [==============================] - 58s 127ms/step - loss: 0.3640 - fbeta_score: 0.7424 - auc: 0.8014 - acc: 0.8553 - val_loss: 0.6659 - val_fbeta_score: 0.6319 - val_auc: 0.7460 - val_acc: 0.8528 - lr: 0.0010\n",
      "Epoch 30/100\n",
      "454/455 [============================>.] - ETA: 0s - loss: 0.3633 - fbeta_score: 0.7430 - auc: 0.7977 - acc: 0.8523\n",
      "Epoch 30: saving model to checkpoint_dir/20230731-155349Clique_LSTM_maxpool_patience25/M_0_cp.ckpt\n",
      "455/455 [==============================] - 57s 126ms/step - loss: 0.3635 - fbeta_score: 0.7428 - auc: 0.7976 - acc: 0.8522 - val_loss: 0.6160 - val_fbeta_score: 0.6378 - val_auc: 0.7529 - val_acc: 0.8579 - lr: 0.0010\n",
      "Epoch 31/100\n",
      "454/455 [============================>.] - ETA: 0s - loss: 0.3462 - fbeta_score: 0.7548 - auc: 0.8144 - acc: 0.8583\n",
      "Epoch 31: saving model to checkpoint_dir/20230731-155349Clique_LSTM_maxpool_patience25/M_0_cp.ckpt\n",
      "455/455 [==============================] - 57s 126ms/step - loss: 0.3464 - fbeta_score: 0.7546 - auc: 0.8143 - acc: 0.8583 - val_loss: 0.5908 - val_fbeta_score: 0.6614 - val_auc: 0.7502 - val_acc: 0.8097 - lr: 0.0010\n",
      "Epoch 32/100\n",
      "454/455 [============================>.] - ETA: 0s - loss: 0.3433 - fbeta_score: 0.7648 - auc: 0.8185 - acc: 0.8623\n",
      "Epoch 32: saving model to checkpoint_dir/20230731-155349Clique_LSTM_maxpool_patience25/M_0_cp.ckpt\n",
      "455/455 [==============================] - 57s 126ms/step - loss: 0.3433 - fbeta_score: 0.7648 - auc: 0.8185 - acc: 0.8623 - val_loss: 0.5789 - val_fbeta_score: 0.6208 - val_auc: 0.7173 - val_acc: 0.8236 - lr: 0.0010\n",
      "Epoch 33/100\n",
      "454/455 [============================>.] - ETA: 0s - loss: 0.3310 - fbeta_score: 0.7670 - auc: 0.8285 - acc: 0.8653\n",
      "Epoch 33: saving model to checkpoint_dir/20230731-155349Clique_LSTM_maxpool_patience25/M_0_cp.ckpt\n",
      "455/455 [==============================] - 57s 126ms/step - loss: 0.3312 - fbeta_score: 0.7668 - auc: 0.8284 - acc: 0.8652 - val_loss: 0.7083 - val_fbeta_score: 0.6012 - val_auc: 0.6997 - val_acc: 0.8385 - lr: 0.0010\n",
      "Epoch 34/100\n",
      "454/455 [============================>.] - ETA: 0s - loss: 0.3107 - fbeta_score: 0.7869 - auc: 0.8471 - acc: 0.8737\n",
      "Epoch 34: saving model to checkpoint_dir/20230731-155349Clique_LSTM_maxpool_patience25/M_0_cp.ckpt\n",
      "455/455 [==============================] - 58s 127ms/step - loss: 0.3109 - fbeta_score: 0.7867 - auc: 0.8470 - acc: 0.8736 - val_loss: 0.6862 - val_fbeta_score: 0.6281 - val_auc: 0.7378 - val_acc: 0.8451 - lr: 5.0000e-04\n",
      "Epoch 35/100\n",
      "454/455 [============================>.] - ETA: 0s - loss: 0.3015 - fbeta_score: 0.7881 - auc: 0.8498 - acc: 0.8755\n",
      "Epoch 35: saving model to checkpoint_dir/20230731-155349Clique_LSTM_maxpool_patience25/M_0_cp.ckpt\n",
      "455/455 [==============================] - 57s 126ms/step - loss: 0.3017 - fbeta_score: 0.7879 - auc: 0.8496 - acc: 0.8754 - val_loss: 0.5746 - val_fbeta_score: 0.6583 - val_auc: 0.7474 - val_acc: 0.8171 - lr: 5.0000e-04\n",
      "Epoch 36/100\n",
      "454/455 [============================>.] - ETA: 0s - loss: 0.2959 - fbeta_score: 0.7990 - auc: 0.8536 - acc: 0.8785\n",
      "Epoch 36: saving model to checkpoint_dir/20230731-155349Clique_LSTM_maxpool_patience25/M_0_cp.ckpt\n",
      "455/455 [==============================] - 57s 126ms/step - loss: 0.2962 - fbeta_score: 0.7988 - auc: 0.8534 - acc: 0.8784 - val_loss: 0.8574 - val_fbeta_score: 0.5783 - val_auc: 0.7472 - val_acc: 0.8758 - lr: 5.0000e-04\n",
      "Epoch 37/100\n",
      "454/455 [============================>.] - ETA: 0s - loss: 0.2875 - fbeta_score: 0.8042 - auc: 0.8604 - acc: 0.8837\n",
      "Epoch 37: saving model to checkpoint_dir/20230731-155349Clique_LSTM_maxpool_patience25/M_0_cp.ckpt\n",
      "455/455 [==============================] - 57s 126ms/step - loss: 0.2874 - fbeta_score: 0.8042 - auc: 0.8604 - acc: 0.8837 - val_loss: 0.6411 - val_fbeta_score: 0.6642 - val_auc: 0.7611 - val_acc: 0.8466 - lr: 5.0000e-04\n"
     ]
    },
    {
     "name": "stdout",
     "output_type": "stream",
     "text": [
      "Epoch 38/100\n",
      "454/455 [============================>.] - ETA: 0s - loss: 0.2830 - fbeta_score: 0.8039 - auc: 0.8638 - acc: 0.8828\n",
      "Epoch 38: saving model to checkpoint_dir/20230731-155349Clique_LSTM_maxpool_patience25/M_0_cp.ckpt\n",
      "455/455 [==============================] - 57s 126ms/step - loss: 0.2830 - fbeta_score: 0.8039 - auc: 0.8638 - acc: 0.8828 - val_loss: 0.6788 - val_fbeta_score: 0.6428 - val_auc: 0.7453 - val_acc: 0.8495 - lr: 5.0000e-04\n",
      "Epoch 39/100\n",
      "454/455 [============================>.] - ETA: 0s - loss: 0.2763 - fbeta_score: 0.8150 - auc: 0.8682 - acc: 0.8915\n",
      "Epoch 39: saving model to checkpoint_dir/20230731-155349Clique_LSTM_maxpool_patience25/M_0_cp.ckpt\n",
      "455/455 [==============================] - 57s 126ms/step - loss: 0.2766 - fbeta_score: 0.8147 - auc: 0.8680 - acc: 0.8915 - val_loss: 0.6860 - val_fbeta_score: 0.6416 - val_auc: 0.7388 - val_acc: 0.8294 - lr: 5.0000e-04\n",
      "Epoch 40/100\n",
      "454/455 [============================>.] - ETA: 0s - loss: 0.2745 - fbeta_score: 0.8141 - auc: 0.8687 - acc: 0.8884\n",
      "Epoch 40: saving model to checkpoint_dir/20230731-155349Clique_LSTM_maxpool_patience25/M_0_cp.ckpt\n",
      "455/455 [==============================] - 58s 127ms/step - loss: 0.2745 - fbeta_score: 0.8141 - auc: 0.8687 - acc: 0.8884 - val_loss: 0.7440 - val_fbeta_score: 0.6320 - val_auc: 0.7411 - val_acc: 0.8505 - lr: 5.0000e-04\n",
      "Epoch 41/100\n",
      "454/455 [============================>.] - ETA: 0s - loss: 0.2630 - fbeta_score: 0.8231 - auc: 0.8795 - acc: 0.8941\n",
      "Epoch 41: saving model to checkpoint_dir/20230731-155349Clique_LSTM_maxpool_patience25/M_0_cp.ckpt\n",
      "455/455 [==============================] - 57s 126ms/step - loss: 0.2630 - fbeta_score: 0.8231 - auc: 0.8795 - acc: 0.8941 - val_loss: 0.7830 - val_fbeta_score: 0.6224 - val_auc: 0.7456 - val_acc: 0.8590 - lr: 5.0000e-04\n",
      "Epoch 42/100\n",
      "454/455 [============================>.] - ETA: 0s - loss: 0.2553 - fbeta_score: 0.8213 - auc: 0.8842 - acc: 0.8955\n",
      "Epoch 42: saving model to checkpoint_dir/20230731-155349Clique_LSTM_maxpool_patience25/M_0_cp.ckpt\n",
      "455/455 [==============================] - 57s 126ms/step - loss: 0.2556 - fbeta_score: 0.8211 - auc: 0.8840 - acc: 0.8955 - val_loss: 0.7767 - val_fbeta_score: 0.6196 - val_auc: 0.7322 - val_acc: 0.8466 - lr: 5.0000e-04\n",
      "Epoch 43/100\n",
      "454/455 [============================>.] - ETA: 0s - loss: 0.2565 - fbeta_score: 0.8254 - auc: 0.8838 - acc: 0.8958\n",
      "Epoch 43: saving model to checkpoint_dir/20230731-155349Clique_LSTM_maxpool_patience25/M_0_cp.ckpt\n",
      "455/455 [==============================] - 58s 126ms/step - loss: 0.2565 - fbeta_score: 0.8254 - auc: 0.8838 - acc: 0.8958 - val_loss: 0.7396 - val_fbeta_score: 0.6278 - val_auc: 0.7385 - val_acc: 0.8457 - lr: 5.0000e-04\n",
      "Epoch 44/100\n",
      "454/455 [============================>.] - ETA: 0s - loss: 0.2317 - fbeta_score: 0.8456 - auc: 0.8964 - acc: 0.9046\n",
      "Epoch 44: saving model to checkpoint_dir/20230731-155349Clique_LSTM_maxpool_patience25/M_0_cp.ckpt\n",
      "455/455 [==============================] - 57s 126ms/step - loss: 0.2317 - fbeta_score: 0.8456 - auc: 0.8964 - acc: 0.9046 - val_loss: 0.8664 - val_fbeta_score: 0.6039 - val_auc: 0.7482 - val_acc: 0.8642 - lr: 2.5000e-04\n",
      "Epoch 45/100\n",
      "454/455 [============================>.] - ETA: 0s - loss: 0.2324 - fbeta_score: 0.8441 - auc: 0.8972 - acc: 0.9050\n",
      "Epoch 45: saving model to checkpoint_dir/20230731-155349Clique_LSTM_maxpool_patience25/M_0_cp.ckpt\n",
      "455/455 [==============================] - 57s 126ms/step - loss: 0.2327 - fbeta_score: 0.8438 - auc: 0.8970 - acc: 0.9049 - val_loss: 0.7872 - val_fbeta_score: 0.6255 - val_auc: 0.7472 - val_acc: 0.8542 - lr: 2.5000e-04\n",
      "Epoch 46/100\n",
      "454/455 [============================>.] - ETA: 0s - loss: 0.2119 - fbeta_score: 0.8582 - auc: 0.9083 - acc: 0.9120\n",
      "Epoch 46: saving model to checkpoint_dir/20230731-155349Clique_LSTM_maxpool_patience25/M_0_cp.ckpt\n",
      "455/455 [==============================] - 57s 126ms/step - loss: 0.2123 - fbeta_score: 0.8580 - auc: 0.9081 - acc: 0.9120 - val_loss: 0.7366 - val_fbeta_score: 0.6517 - val_auc: 0.7453 - val_acc: 0.8443 - lr: 2.5000e-04\n",
      "Epoch 47/100\n",
      "454/455 [============================>.] - ETA: 0s - loss: 0.2184 - fbeta_score: 0.8521 - auc: 0.9041 - acc: 0.9093\n",
      "Epoch 47: saving model to checkpoint_dir/20230731-155349Clique_LSTM_maxpool_patience25/M_0_cp.ckpt\n",
      "455/455 [==============================] - 57s 126ms/step - loss: 0.2187 - fbeta_score: 0.8519 - auc: 0.9039 - acc: 0.9092 - val_loss: 0.8116 - val_fbeta_score: 0.6267 - val_auc: 0.7441 - val_acc: 0.8588 - lr: 2.5000e-04\n",
      "Epoch 48/100\n",
      "454/455 [============================>.] - ETA: 0s - loss: 0.2108 - fbeta_score: 0.8585 - auc: 0.9088 - acc: 0.9120\n",
      "Epoch 48: saving model to checkpoint_dir/20230731-155349Clique_LSTM_maxpool_patience25/M_0_cp.ckpt\n",
      "Restoring model weights from the end of the best epoch: 23.\n",
      "455/455 [==============================] - 58s 127ms/step - loss: 0.2108 - fbeta_score: 0.8585 - auc: 0.9088 - acc: 0.9120 - val_loss: 0.9364 - val_fbeta_score: 0.6140 - val_auc: 0.7471 - val_acc: 0.8623 - lr: 2.5000e-04\n",
      "Epoch 48: early stopping\n"
     ]
    }
   ],
   "source": [
    "importlib.reload(Chatgpt_model)\n",
    "from Chatgpt_model import *\n",
    "importlib.reload(metrics_loss_functions)\n",
    "from metrics_loss_functions import *\n",
    "\n",
    "epochs = 100\n",
    "batch_size = 32\n",
    "\n",
    "dir_path = \"checkpoint_dir/\"+ datetime.datetime.now().strftime(\"%Y%m%d-%H%M%S\")\n",
    "\n",
    "\n",
    "for i in range(1):\n",
    "    checkpoint_path = dir_path + \"Clique_LSTM_maxpool_patience25/\"+\"M_\"+str(i)+\"_cp.ckpt\"\n",
    "    checkpoint_dir = os.path.dirname(checkpoint_path)\n",
    "    log_dir = \"logs/fit/\" + datetime.datetime.now().strftime(\"%Y%m%d-%H%M%S\")\n",
    "    tensorboard_callback = tf.keras.callbacks.TensorBoard(log_dir=log_dir, histogram_freq=1)\n",
    "    checkpoint_dir = os.path.dirname(checkpoint_path)\n",
    "\n",
    "\n",
    "\n",
    "    callbacks = [\n",
    "        tf.keras.callbacks.ModelCheckpoint(filepath=checkpoint_path,\n",
    "                                                     save_weights_only=True,\n",
    "                                                     verbose=1),\n",
    "        tf.keras.callbacks.ReduceLROnPlateau(\n",
    "            monitor=\"val_loss\", factor=0.5, patience=10, min_lr=0.0001\n",
    "        ),\n",
    "        tf.keras.callbacks.EarlyStopping(monitor='val_loss', patience=25, verbose=1,restore_best_weights=True,mode='min'),\n",
    "        tensorboard_callback,\n",
    "        #custom_validation_loss,\n",
    "    ]\n",
    "\n",
    "    model = create_clique_LSTM_model(input_shape=X_train.shape[1:])\n",
    "    model.compile(\n",
    "        optimizer=tf.keras.optimizers.Adam(learning_rate=0.001),\n",
    "        loss=weighted_bincrossentropy,\n",
    "        metrics=[fscore,auc],\n",
    "        weighted_metrics = 'acc' ,\n",
    "    )\n",
    "\n",
    "\n",
    "    history = model.fit(\n",
    "        X_train,\n",
    "        np.array(y_train),\n",
    "        batch_size=batch_size,\n",
    "        epochs=epochs,\n",
    "        callbacks=callbacks,\n",
    "        validation_data=(X_val,np.array(y_val)),\n",
    "        verbose=1,\n",
    "        #class_weight = class_weights,\n",
    "    )\n",
    "\n",
    "    model.save_weights(dir_path + \"Clique_LSTM_maxpool_patience25/\"+\"M_\"+str(i)+\"_restored_weight\"+\"_cp.ckpt\")\n",
    "\n"
   ]
  },
  {
   "cell_type": "code",
   "execution_count": 25,
   "id": "9d1d0341",
   "metadata": {},
   "outputs": [
    {
     "name": "stdout",
     "output_type": "stream",
     "text": [
      "\n",
      "Epoch 1: saving model to checkpoint_dir/20230728-070619new_loss_patience25_compress12_dropout01/M_0_cp.ckpt\n",
      "\n",
      "Epoch 2: saving model to checkpoint_dir/20230728-070619new_loss_patience25_compress12_dropout01/M_0_cp.ckpt\n",
      "\n",
      "Epoch 3: saving model to checkpoint_dir/20230728-070619new_loss_patience25_compress12_dropout01/M_0_cp.ckpt\n",
      "\n",
      "Epoch 4: saving model to checkpoint_dir/20230728-070619new_loss_patience25_compress12_dropout01/M_0_cp.ckpt\n",
      "\n",
      "Epoch 5: saving model to checkpoint_dir/20230728-070619new_loss_patience25_compress12_dropout01/M_0_cp.ckpt\n",
      "\n",
      "Epoch 6: saving model to checkpoint_dir/20230728-070619new_loss_patience25_compress12_dropout01/M_0_cp.ckpt\n",
      "\n",
      "Epoch 7: saving model to checkpoint_dir/20230728-070619new_loss_patience25_compress12_dropout01/M_0_cp.ckpt\n",
      "\n",
      "Epoch 8: saving model to checkpoint_dir/20230728-070619new_loss_patience25_compress12_dropout01/M_0_cp.ckpt\n",
      "\n",
      "Epoch 9: saving model to checkpoint_dir/20230728-070619new_loss_patience25_compress12_dropout01/M_0_cp.ckpt\n",
      "\n",
      "Epoch 10: saving model to checkpoint_dir/20230728-070619new_loss_patience25_compress12_dropout01/M_0_cp.ckpt\n",
      "\n",
      "Epoch 11: saving model to checkpoint_dir/20230728-070619new_loss_patience25_compress12_dropout01/M_0_cp.ckpt\n",
      "\n",
      "Epoch 12: saving model to checkpoint_dir/20230728-070619new_loss_patience25_compress12_dropout01/M_0_cp.ckpt\n",
      "\n",
      "Epoch 13: saving model to checkpoint_dir/20230728-070619new_loss_patience25_compress12_dropout01/M_0_cp.ckpt\n",
      "\n",
      "Epoch 14: saving model to checkpoint_dir/20230728-070619new_loss_patience25_compress12_dropout01/M_0_cp.ckpt\n",
      "\n",
      "Epoch 15: saving model to checkpoint_dir/20230728-070619new_loss_patience25_compress12_dropout01/M_0_cp.ckpt\n",
      "\n",
      "Epoch 16: saving model to checkpoint_dir/20230728-070619new_loss_patience25_compress12_dropout01/M_0_cp.ckpt\n",
      "\n",
      "Epoch 17: saving model to checkpoint_dir/20230728-070619new_loss_patience25_compress12_dropout01/M_0_cp.ckpt\n",
      "\n",
      "Epoch 18: saving model to checkpoint_dir/20230728-070619new_loss_patience25_compress12_dropout01/M_0_cp.ckpt\n",
      "\n",
      "Epoch 19: saving model to checkpoint_dir/20230728-070619new_loss_patience25_compress12_dropout01/M_0_cp.ckpt\n",
      "\n",
      "Epoch 20: saving model to checkpoint_dir/20230728-070619new_loss_patience25_compress12_dropout01/M_0_cp.ckpt\n",
      "\n",
      "Epoch 21: saving model to checkpoint_dir/20230728-070619new_loss_patience25_compress12_dropout01/M_0_cp.ckpt\n",
      "\n",
      "Epoch 22: saving model to checkpoint_dir/20230728-070619new_loss_patience25_compress12_dropout01/M_0_cp.ckpt\n",
      "\n",
      "Epoch 23: saving model to checkpoint_dir/20230728-070619new_loss_patience25_compress12_dropout01/M_0_cp.ckpt\n",
      "\n",
      "Epoch 24: saving model to checkpoint_dir/20230728-070619new_loss_patience25_compress12_dropout01/M_0_cp.ckpt\n",
      "\n",
      "Epoch 25: saving model to checkpoint_dir/20230728-070619new_loss_patience25_compress12_dropout01/M_0_cp.ckpt\n",
      "\n",
      "Epoch 26: saving model to checkpoint_dir/20230728-070619new_loss_patience25_compress12_dropout01/M_0_cp.ckpt\n",
      "\n",
      "Epoch 27: saving model to checkpoint_dir/20230728-070619new_loss_patience25_compress12_dropout01/M_0_cp.ckpt\n",
      "\n",
      "Epoch 28: saving model to checkpoint_dir/20230728-070619new_loss_patience25_compress12_dropout01/M_0_cp.ckpt\n",
      "\n",
      "Epoch 29: saving model to checkpoint_dir/20230728-070619new_loss_patience25_compress12_dropout01/M_0_cp.ckpt\n",
      "\n",
      "Epoch 30: saving model to checkpoint_dir/20230728-070619new_loss_patience25_compress12_dropout01/M_0_cp.ckpt\n",
      "\n",
      "Epoch 31: saving model to checkpoint_dir/20230728-070619new_loss_patience25_compress12_dropout01/M_0_cp.ckpt\n",
      "\n",
      "Epoch 32: saving model to checkpoint_dir/20230728-070619new_loss_patience25_compress12_dropout01/M_0_cp.ckpt\n",
      "\n",
      "Epoch 33: saving model to checkpoint_dir/20230728-070619new_loss_patience25_compress12_dropout01/M_0_cp.ckpt\n",
      "\n",
      "Epoch 34: saving model to checkpoint_dir/20230728-070619new_loss_patience25_compress12_dropout01/M_0_cp.ckpt\n",
      "\n",
      "Epoch 35: saving model to checkpoint_dir/20230728-070619new_loss_patience25_compress12_dropout01/M_0_cp.ckpt\n",
      "\n",
      "Epoch 36: saving model to checkpoint_dir/20230728-070619new_loss_patience25_compress12_dropout01/M_0_cp.ckpt\n",
      "\n",
      "Epoch 37: saving model to checkpoint_dir/20230728-070619new_loss_patience25_compress12_dropout01/M_0_cp.ckpt\n",
      "\n",
      "Epoch 38: saving model to checkpoint_dir/20230728-070619new_loss_patience25_compress12_dropout01/M_0_cp.ckpt\n",
      "\n",
      "Epoch 39: saving model to checkpoint_dir/20230728-070619new_loss_patience25_compress12_dropout01/M_0_cp.ckpt\n",
      "\n",
      "Epoch 40: saving model to checkpoint_dir/20230728-070619new_loss_patience25_compress12_dropout01/M_0_cp.ckpt\n",
      "\n",
      "Epoch 41: saving model to checkpoint_dir/20230728-070619new_loss_patience25_compress12_dropout01/M_0_cp.ckpt\n",
      "\n",
      "Epoch 42: saving model to checkpoint_dir/20230728-070619new_loss_patience25_compress12_dropout01/M_0_cp.ckpt\n",
      "\n",
      "Epoch 43: saving model to checkpoint_dir/20230728-070619new_loss_patience25_compress12_dropout01/M_0_cp.ckpt\n",
      "\n",
      "Epoch 44: saving model to checkpoint_dir/20230728-070619new_loss_patience25_compress12_dropout01/M_0_cp.ckpt\n",
      "\n",
      "Epoch 45: saving model to checkpoint_dir/20230728-070619new_loss_patience25_compress12_dropout01/M_0_cp.ckpt\n",
      "\n",
      "Epoch 46: saving model to checkpoint_dir/20230728-070619new_loss_patience25_compress12_dropout01/M_0_cp.ckpt\n",
      "\n",
      "Epoch 47: saving model to checkpoint_dir/20230728-070619new_loss_patience25_compress12_dropout01/M_0_cp.ckpt\n",
      "\n",
      "Epoch 48: saving model to checkpoint_dir/20230728-070619new_loss_patience25_compress12_dropout01/M_0_cp.ckpt\n",
      "\n",
      "Epoch 49: saving model to checkpoint_dir/20230728-070619new_loss_patience25_compress12_dropout01/M_0_cp.ckpt\n",
      "\n",
      "Epoch 50: saving model to checkpoint_dir/20230728-070619new_loss_patience25_compress12_dropout01/M_0_cp.ckpt\n",
      "\n",
      "Epoch 51: saving model to checkpoint_dir/20230728-070619new_loss_patience25_compress12_dropout01/M_0_cp.ckpt\n",
      "\n",
      "Epoch 52: saving model to checkpoint_dir/20230728-070619new_loss_patience25_compress12_dropout01/M_0_cp.ckpt\n",
      "\n",
      "Epoch 53: saving model to checkpoint_dir/20230728-070619new_loss_patience25_compress12_dropout01/M_0_cp.ckpt\n",
      "\n",
      "Epoch 54: saving model to checkpoint_dir/20230728-070619new_loss_patience25_compress12_dropout01/M_0_cp.ckpt\n",
      "\n",
      "Epoch 55: saving model to checkpoint_dir/20230728-070619new_loss_patience25_compress12_dropout01/M_0_cp.ckpt\n",
      "\n",
      "Epoch 56: saving model to checkpoint_dir/20230728-070619new_loss_patience25_compress12_dropout01/M_0_cp.ckpt\n",
      "Restoring model weights from the end of the best epoch: 31.\n",
      "Epoch 56: early stopping\n",
      "\n",
      "Epoch 1: saving model to checkpoint_dir/20230728-070619new_loss_patience25_compress12_dropout01/M_0_cp.ckpt\n",
      "\n",
      "Epoch 2: saving model to checkpoint_dir/20230728-070619new_loss_patience25_compress12_dropout01/M_0_cp.ckpt\n",
      "\n",
      "Epoch 3: saving model to checkpoint_dir/20230728-070619new_loss_patience25_compress12_dropout01/M_0_cp.ckpt\n",
      "\n",
      "Epoch 4: saving model to checkpoint_dir/20230728-070619new_loss_patience25_compress12_dropout01/M_0_cp.ckpt\n",
      "\n",
      "Epoch 5: saving model to checkpoint_dir/20230728-070619new_loss_patience25_compress12_dropout01/M_0_cp.ckpt\n",
      "\n",
      "Epoch 6: saving model to checkpoint_dir/20230728-070619new_loss_patience25_compress12_dropout01/M_0_cp.ckpt\n",
      "\n",
      "Epoch 7: saving model to checkpoint_dir/20230728-070619new_loss_patience25_compress12_dropout01/M_0_cp.ckpt\n",
      "\n",
      "Epoch 8: saving model to checkpoint_dir/20230728-070619new_loss_patience25_compress12_dropout01/M_0_cp.ckpt\n",
      "\n",
      "Epoch 9: saving model to checkpoint_dir/20230728-070619new_loss_patience25_compress12_dropout01/M_0_cp.ckpt\n",
      "\n",
      "Epoch 10: saving model to checkpoint_dir/20230728-070619new_loss_patience25_compress12_dropout01/M_0_cp.ckpt\n",
      "\n",
      "Epoch 11: saving model to checkpoint_dir/20230728-070619new_loss_patience25_compress12_dropout01/M_0_cp.ckpt\n",
      "\n",
      "Epoch 12: saving model to checkpoint_dir/20230728-070619new_loss_patience25_compress12_dropout01/M_0_cp.ckpt\n",
      "\n",
      "Epoch 13: saving model to checkpoint_dir/20230728-070619new_loss_patience25_compress12_dropout01/M_0_cp.ckpt\n",
      "\n",
      "Epoch 14: saving model to checkpoint_dir/20230728-070619new_loss_patience25_compress12_dropout01/M_0_cp.ckpt\n",
      "\n",
      "Epoch 15: saving model to checkpoint_dir/20230728-070619new_loss_patience25_compress12_dropout01/M_0_cp.ckpt\n",
      "\n",
      "Epoch 16: saving model to checkpoint_dir/20230728-070619new_loss_patience25_compress12_dropout01/M_0_cp.ckpt\n",
      "\n",
      "Epoch 17: saving model to checkpoint_dir/20230728-070619new_loss_patience25_compress12_dropout01/M_0_cp.ckpt\n",
      "\n",
      "Epoch 18: saving model to checkpoint_dir/20230728-070619new_loss_patience25_compress12_dropout01/M_0_cp.ckpt\n"
     ]
    },
    {
     "name": "stdout",
     "output_type": "stream",
     "text": [
      "\n",
      "Epoch 19: saving model to checkpoint_dir/20230728-070619new_loss_patience25_compress12_dropout01/M_0_cp.ckpt\n",
      "\n",
      "Epoch 20: saving model to checkpoint_dir/20230728-070619new_loss_patience25_compress12_dropout01/M_0_cp.ckpt\n",
      "\n",
      "Epoch 21: saving model to checkpoint_dir/20230728-070619new_loss_patience25_compress12_dropout01/M_0_cp.ckpt\n",
      "\n",
      "Epoch 22: saving model to checkpoint_dir/20230728-070619new_loss_patience25_compress12_dropout01/M_0_cp.ckpt\n",
      "\n",
      "Epoch 23: saving model to checkpoint_dir/20230728-070619new_loss_patience25_compress12_dropout01/M_0_cp.ckpt\n",
      "\n",
      "Epoch 24: saving model to checkpoint_dir/20230728-070619new_loss_patience25_compress12_dropout01/M_0_cp.ckpt\n",
      "\n",
      "Epoch 25: saving model to checkpoint_dir/20230728-070619new_loss_patience25_compress12_dropout01/M_0_cp.ckpt\n",
      "\n",
      "Epoch 26: saving model to checkpoint_dir/20230728-070619new_loss_patience25_compress12_dropout01/M_0_cp.ckpt\n",
      "\n",
      "Epoch 27: saving model to checkpoint_dir/20230728-070619new_loss_patience25_compress12_dropout01/M_0_cp.ckpt\n",
      "\n",
      "Epoch 28: saving model to checkpoint_dir/20230728-070619new_loss_patience25_compress12_dropout01/M_0_cp.ckpt\n",
      "\n",
      "Epoch 29: saving model to checkpoint_dir/20230728-070619new_loss_patience25_compress12_dropout01/M_0_cp.ckpt\n",
      "\n",
      "Epoch 30: saving model to checkpoint_dir/20230728-070619new_loss_patience25_compress12_dropout01/M_0_cp.ckpt\n",
      "\n",
      "Epoch 31: saving model to checkpoint_dir/20230728-070619new_loss_patience25_compress12_dropout01/M_0_cp.ckpt\n",
      "\n",
      "Epoch 32: saving model to checkpoint_dir/20230728-070619new_loss_patience25_compress12_dropout01/M_0_cp.ckpt\n",
      "\n",
      "Epoch 33: saving model to checkpoint_dir/20230728-070619new_loss_patience25_compress12_dropout01/M_0_cp.ckpt\n",
      "\n",
      "Epoch 34: saving model to checkpoint_dir/20230728-070619new_loss_patience25_compress12_dropout01/M_0_cp.ckpt\n",
      "\n",
      "Epoch 35: saving model to checkpoint_dir/20230728-070619new_loss_patience25_compress12_dropout01/M_0_cp.ckpt\n",
      "\n",
      "Epoch 36: saving model to checkpoint_dir/20230728-070619new_loss_patience25_compress12_dropout01/M_0_cp.ckpt\n",
      "\n",
      "Epoch 37: saving model to checkpoint_dir/20230728-070619new_loss_patience25_compress12_dropout01/M_0_cp.ckpt\n",
      "\n",
      "Epoch 38: saving model to checkpoint_dir/20230728-070619new_loss_patience25_compress12_dropout01/M_0_cp.ckpt\n",
      "\n",
      "Epoch 39: saving model to checkpoint_dir/20230728-070619new_loss_patience25_compress12_dropout01/M_0_cp.ckpt\n",
      "\n",
      "Epoch 40: saving model to checkpoint_dir/20230728-070619new_loss_patience25_compress12_dropout01/M_0_cp.ckpt\n",
      "\n",
      "Epoch 41: saving model to checkpoint_dir/20230728-070619new_loss_patience25_compress12_dropout01/M_0_cp.ckpt\n",
      "\n",
      "Epoch 42: saving model to checkpoint_dir/20230728-070619new_loss_patience25_compress12_dropout01/M_0_cp.ckpt\n",
      "\n",
      "Epoch 43: saving model to checkpoint_dir/20230728-070619new_loss_patience25_compress12_dropout01/M_0_cp.ckpt\n",
      "\n",
      "Epoch 44: saving model to checkpoint_dir/20230728-070619new_loss_patience25_compress12_dropout01/M_0_cp.ckpt\n",
      "\n",
      "Epoch 45: saving model to checkpoint_dir/20230728-070619new_loss_patience25_compress12_dropout01/M_0_cp.ckpt\n",
      "\n",
      "Epoch 46: saving model to checkpoint_dir/20230728-070619new_loss_patience25_compress12_dropout01/M_0_cp.ckpt\n",
      "Restoring model weights from the end of the best epoch: 21.\n",
      "Epoch 46: early stopping\n",
      "\n",
      "Epoch 1: saving model to checkpoint_dir/20230728-070619new_loss_patience25_compress12_dropout01/M_0_cp.ckpt\n",
      "\n",
      "Epoch 2: saving model to checkpoint_dir/20230728-070619new_loss_patience25_compress12_dropout01/M_0_cp.ckpt\n",
      "\n",
      "Epoch 3: saving model to checkpoint_dir/20230728-070619new_loss_patience25_compress12_dropout01/M_0_cp.ckpt\n",
      "\n",
      "Epoch 4: saving model to checkpoint_dir/20230728-070619new_loss_patience25_compress12_dropout01/M_0_cp.ckpt\n",
      "\n",
      "Epoch 5: saving model to checkpoint_dir/20230728-070619new_loss_patience25_compress12_dropout01/M_0_cp.ckpt\n",
      "\n",
      "Epoch 6: saving model to checkpoint_dir/20230728-070619new_loss_patience25_compress12_dropout01/M_0_cp.ckpt\n",
      "\n",
      "Epoch 7: saving model to checkpoint_dir/20230728-070619new_loss_patience25_compress12_dropout01/M_0_cp.ckpt\n",
      "\n",
      "Epoch 8: saving model to checkpoint_dir/20230728-070619new_loss_patience25_compress12_dropout01/M_0_cp.ckpt\n",
      "\n",
      "Epoch 9: saving model to checkpoint_dir/20230728-070619new_loss_patience25_compress12_dropout01/M_0_cp.ckpt\n",
      "\n",
      "Epoch 10: saving model to checkpoint_dir/20230728-070619new_loss_patience25_compress12_dropout01/M_0_cp.ckpt\n",
      "\n",
      "Epoch 11: saving model to checkpoint_dir/20230728-070619new_loss_patience25_compress12_dropout01/M_0_cp.ckpt\n",
      "\n",
      "Epoch 12: saving model to checkpoint_dir/20230728-070619new_loss_patience25_compress12_dropout01/M_0_cp.ckpt\n",
      "\n",
      "Epoch 13: saving model to checkpoint_dir/20230728-070619new_loss_patience25_compress12_dropout01/M_0_cp.ckpt\n",
      "\n",
      "Epoch 14: saving model to checkpoint_dir/20230728-070619new_loss_patience25_compress12_dropout01/M_0_cp.ckpt\n",
      "\n",
      "Epoch 15: saving model to checkpoint_dir/20230728-070619new_loss_patience25_compress12_dropout01/M_0_cp.ckpt\n",
      "\n",
      "Epoch 16: saving model to checkpoint_dir/20230728-070619new_loss_patience25_compress12_dropout01/M_0_cp.ckpt\n",
      "\n",
      "Epoch 17: saving model to checkpoint_dir/20230728-070619new_loss_patience25_compress12_dropout01/M_0_cp.ckpt\n",
      "\n",
      "Epoch 18: saving model to checkpoint_dir/20230728-070619new_loss_patience25_compress12_dropout01/M_0_cp.ckpt\n",
      "\n",
      "Epoch 19: saving model to checkpoint_dir/20230728-070619new_loss_patience25_compress12_dropout01/M_0_cp.ckpt\n",
      "\n",
      "Epoch 20: saving model to checkpoint_dir/20230728-070619new_loss_patience25_compress12_dropout01/M_0_cp.ckpt\n",
      "\n",
      "Epoch 21: saving model to checkpoint_dir/20230728-070619new_loss_patience25_compress12_dropout01/M_0_cp.ckpt\n",
      "\n",
      "Epoch 22: saving model to checkpoint_dir/20230728-070619new_loss_patience25_compress12_dropout01/M_0_cp.ckpt\n",
      "\n",
      "Epoch 23: saving model to checkpoint_dir/20230728-070619new_loss_patience25_compress12_dropout01/M_0_cp.ckpt\n",
      "\n",
      "Epoch 24: saving model to checkpoint_dir/20230728-070619new_loss_patience25_compress12_dropout01/M_0_cp.ckpt\n",
      "\n",
      "Epoch 25: saving model to checkpoint_dir/20230728-070619new_loss_patience25_compress12_dropout01/M_0_cp.ckpt\n",
      "\n",
      "Epoch 26: saving model to checkpoint_dir/20230728-070619new_loss_patience25_compress12_dropout01/M_0_cp.ckpt\n",
      "\n",
      "Epoch 27: saving model to checkpoint_dir/20230728-070619new_loss_patience25_compress12_dropout01/M_0_cp.ckpt\n",
      "\n",
      "Epoch 28: saving model to checkpoint_dir/20230728-070619new_loss_patience25_compress12_dropout01/M_0_cp.ckpt\n",
      "\n",
      "Epoch 29: saving model to checkpoint_dir/20230728-070619new_loss_patience25_compress12_dropout01/M_0_cp.ckpt\n",
      "\n",
      "Epoch 30: saving model to checkpoint_dir/20230728-070619new_loss_patience25_compress12_dropout01/M_0_cp.ckpt\n",
      "\n",
      "Epoch 31: saving model to checkpoint_dir/20230728-070619new_loss_patience25_compress12_dropout01/M_0_cp.ckpt\n",
      "\n",
      "Epoch 32: saving model to checkpoint_dir/20230728-070619new_loss_patience25_compress12_dropout01/M_0_cp.ckpt\n",
      "\n",
      "Epoch 33: saving model to checkpoint_dir/20230728-070619new_loss_patience25_compress12_dropout01/M_0_cp.ckpt\n",
      "\n",
      "Epoch 34: saving model to checkpoint_dir/20230728-070619new_loss_patience25_compress12_dropout01/M_0_cp.ckpt\n",
      "\n",
      "Epoch 35: saving model to checkpoint_dir/20230728-070619new_loss_patience25_compress12_dropout01/M_0_cp.ckpt\n",
      "\n",
      "Epoch 36: saving model to checkpoint_dir/20230728-070619new_loss_patience25_compress12_dropout01/M_0_cp.ckpt\n",
      "\n",
      "Epoch 37: saving model to checkpoint_dir/20230728-070619new_loss_patience25_compress12_dropout01/M_0_cp.ckpt\n",
      "\n",
      "Epoch 38: saving model to checkpoint_dir/20230728-070619new_loss_patience25_compress12_dropout01/M_0_cp.ckpt\n",
      "\n",
      "Epoch 39: saving model to checkpoint_dir/20230728-070619new_loss_patience25_compress12_dropout01/M_0_cp.ckpt\n",
      "\n",
      "Epoch 40: saving model to checkpoint_dir/20230728-070619new_loss_patience25_compress12_dropout01/M_0_cp.ckpt\n",
      "\n",
      "Epoch 41: saving model to checkpoint_dir/20230728-070619new_loss_patience25_compress12_dropout01/M_0_cp.ckpt\n",
      "Restoring model weights from the end of the best epoch: 16.\n",
      "Epoch 41: early stopping\n",
      "\n",
      "Epoch 1: saving model to checkpoint_dir/20230728-070619new_loss_patience25_compress12_dropout01/M_0_cp.ckpt\n",
      "\n",
      "Epoch 2: saving model to checkpoint_dir/20230728-070619new_loss_patience25_compress12_dropout01/M_0_cp.ckpt\n",
      "\n",
      "Epoch 3: saving model to checkpoint_dir/20230728-070619new_loss_patience25_compress12_dropout01/M_0_cp.ckpt\n",
      "\n",
      "Epoch 4: saving model to checkpoint_dir/20230728-070619new_loss_patience25_compress12_dropout01/M_0_cp.ckpt\n",
      "\n",
      "Epoch 5: saving model to checkpoint_dir/20230728-070619new_loss_patience25_compress12_dropout01/M_0_cp.ckpt\n"
     ]
    },
    {
     "name": "stdout",
     "output_type": "stream",
     "text": [
      "\n",
      "Epoch 6: saving model to checkpoint_dir/20230728-070619new_loss_patience25_compress12_dropout01/M_0_cp.ckpt\n",
      "\n",
      "Epoch 7: saving model to checkpoint_dir/20230728-070619new_loss_patience25_compress12_dropout01/M_0_cp.ckpt\n",
      "\n",
      "Epoch 8: saving model to checkpoint_dir/20230728-070619new_loss_patience25_compress12_dropout01/M_0_cp.ckpt\n",
      "\n",
      "Epoch 9: saving model to checkpoint_dir/20230728-070619new_loss_patience25_compress12_dropout01/M_0_cp.ckpt\n",
      "\n",
      "Epoch 10: saving model to checkpoint_dir/20230728-070619new_loss_patience25_compress12_dropout01/M_0_cp.ckpt\n"
     ]
    },
    {
     "ename": "KeyboardInterrupt",
     "evalue": "",
     "output_type": "error",
     "traceback": [
      "\u001b[0;31m---------------------------------------------------------------------------\u001b[0m",
      "\u001b[0;31mKeyboardInterrupt\u001b[0m                         Traceback (most recent call last)",
      "Cell \u001b[0;32mIn[25], line 42\u001b[0m\n\u001b[1;32m     33\u001b[0m model \u001b[38;5;241m=\u001b[39m create_small_model(input_shape\u001b[38;5;241m=\u001b[39mX_train\u001b[38;5;241m.\u001b[39mshape[\u001b[38;5;241m1\u001b[39m:])\n\u001b[1;32m     34\u001b[0m model\u001b[38;5;241m.\u001b[39mcompile(\n\u001b[1;32m     35\u001b[0m     optimizer\u001b[38;5;241m=\u001b[39mtf\u001b[38;5;241m.\u001b[39mkeras\u001b[38;5;241m.\u001b[39moptimizers\u001b[38;5;241m.\u001b[39mAdam(learning_rate\u001b[38;5;241m=\u001b[39m\u001b[38;5;241m0.001\u001b[39m),\n\u001b[1;32m     36\u001b[0m     loss\u001b[38;5;241m=\u001b[39mweighted_bincrossentropy,\n\u001b[1;32m     37\u001b[0m     metrics\u001b[38;5;241m=\u001b[39m[fscore,auc],\n\u001b[1;32m     38\u001b[0m     weighted_metrics \u001b[38;5;241m=\u001b[39m \u001b[38;5;124m'\u001b[39m\u001b[38;5;124macc\u001b[39m\u001b[38;5;124m'\u001b[39m ,\n\u001b[1;32m     39\u001b[0m )\n\u001b[0;32m---> 42\u001b[0m history \u001b[38;5;241m=\u001b[39m \u001b[43mmodel\u001b[49m\u001b[38;5;241;43m.\u001b[39;49m\u001b[43mfit\u001b[49m\u001b[43m(\u001b[49m\n\u001b[1;32m     43\u001b[0m \u001b[43m    \u001b[49m\u001b[43mX_train\u001b[49m\u001b[43m,\u001b[49m\n\u001b[1;32m     44\u001b[0m \u001b[43m    \u001b[49m\u001b[43mnp\u001b[49m\u001b[38;5;241;43m.\u001b[39;49m\u001b[43marray\u001b[49m\u001b[43m(\u001b[49m\u001b[43my_train\u001b[49m\u001b[43m)\u001b[49m\u001b[43m,\u001b[49m\n\u001b[1;32m     45\u001b[0m \u001b[43m    \u001b[49m\u001b[43mbatch_size\u001b[49m\u001b[38;5;241;43m=\u001b[39;49m\u001b[43mbatch_size\u001b[49m\u001b[43m,\u001b[49m\n\u001b[1;32m     46\u001b[0m \u001b[43m    \u001b[49m\u001b[43mepochs\u001b[49m\u001b[38;5;241;43m=\u001b[39;49m\u001b[43mepochs\u001b[49m\u001b[43m,\u001b[49m\n\u001b[1;32m     47\u001b[0m \u001b[43m    \u001b[49m\u001b[43mcallbacks\u001b[49m\u001b[38;5;241;43m=\u001b[39;49m\u001b[43mcallbacks\u001b[49m\u001b[43m,\u001b[49m\n\u001b[1;32m     48\u001b[0m \u001b[43m    \u001b[49m\u001b[43mvalidation_data\u001b[49m\u001b[38;5;241;43m=\u001b[39;49m\u001b[43m(\u001b[49m\u001b[43mX_val\u001b[49m\u001b[43m,\u001b[49m\u001b[43mnp\u001b[49m\u001b[38;5;241;43m.\u001b[39;49m\u001b[43marray\u001b[49m\u001b[43m(\u001b[49m\u001b[43my_val\u001b[49m\u001b[43m)\u001b[49m\u001b[43m)\u001b[49m\u001b[43m,\u001b[49m\n\u001b[1;32m     49\u001b[0m \u001b[43m    \u001b[49m\u001b[43mverbose\u001b[49m\u001b[38;5;241;43m=\u001b[39;49m\u001b[38;5;241;43m0\u001b[39;49m\u001b[43m,\u001b[49m\n\u001b[1;32m     50\u001b[0m \u001b[43m    \u001b[49m\u001b[38;5;66;43;03m#class_weight = class_weights,\u001b[39;49;00m\n\u001b[1;32m     51\u001b[0m \u001b[43m\u001b[49m\u001b[43m)\u001b[49m\n\u001b[1;32m     53\u001b[0m model\u001b[38;5;241m.\u001b[39msave_weights(dir_path \u001b[38;5;241m+\u001b[39m \u001b[38;5;124m\"\u001b[39m\u001b[38;5;124mnew_loss_patience25_compress12_dropout01/\u001b[39m\u001b[38;5;124m\"\u001b[39m\u001b[38;5;241m+\u001b[39m\u001b[38;5;124m\"\u001b[39m\u001b[38;5;124mM_\u001b[39m\u001b[38;5;124m\"\u001b[39m\u001b[38;5;241m+\u001b[39m\u001b[38;5;28mstr\u001b[39m(\u001b[38;5;241m0\u001b[39m)\u001b[38;5;241m+\u001b[39m\u001b[38;5;124m\"\u001b[39m\u001b[38;5;124m_restored_weight\u001b[39m\u001b[38;5;124m\"\u001b[39m\u001b[38;5;241m+\u001b[39m\u001b[38;5;124m\"\u001b[39m\u001b[38;5;124m_cp.ckpt\u001b[39m\u001b[38;5;124m\"\u001b[39m)\n",
      "File \u001b[0;32m~/anaconda3/lib/python3.10/site-packages/keras/src/utils/traceback_utils.py:65\u001b[0m, in \u001b[0;36mfilter_traceback.<locals>.error_handler\u001b[0;34m(*args, **kwargs)\u001b[0m\n\u001b[1;32m     63\u001b[0m filtered_tb \u001b[38;5;241m=\u001b[39m \u001b[38;5;28;01mNone\u001b[39;00m\n\u001b[1;32m     64\u001b[0m \u001b[38;5;28;01mtry\u001b[39;00m:\n\u001b[0;32m---> 65\u001b[0m     \u001b[38;5;28;01mreturn\u001b[39;00m \u001b[43mfn\u001b[49m\u001b[43m(\u001b[49m\u001b[38;5;241;43m*\u001b[39;49m\u001b[43margs\u001b[49m\u001b[43m,\u001b[49m\u001b[43m \u001b[49m\u001b[38;5;241;43m*\u001b[39;49m\u001b[38;5;241;43m*\u001b[39;49m\u001b[43mkwargs\u001b[49m\u001b[43m)\u001b[49m\n\u001b[1;32m     66\u001b[0m \u001b[38;5;28;01mexcept\u001b[39;00m \u001b[38;5;167;01mException\u001b[39;00m \u001b[38;5;28;01mas\u001b[39;00m e:\n\u001b[1;32m     67\u001b[0m     filtered_tb \u001b[38;5;241m=\u001b[39m _process_traceback_frames(e\u001b[38;5;241m.\u001b[39m__traceback__)\n",
      "File \u001b[0;32m~/anaconda3/lib/python3.10/site-packages/keras/src/engine/training.py:1733\u001b[0m, in \u001b[0;36mModel.fit\u001b[0;34m(self, x, y, batch_size, epochs, verbose, callbacks, validation_split, validation_data, shuffle, class_weight, sample_weight, initial_epoch, steps_per_epoch, validation_steps, validation_batch_size, validation_freq, max_queue_size, workers, use_multiprocessing)\u001b[0m\n\u001b[1;32m   1731\u001b[0m callbacks\u001b[38;5;241m.\u001b[39mon_epoch_begin(epoch)\n\u001b[1;32m   1732\u001b[0m \u001b[38;5;28;01mwith\u001b[39;00m data_handler\u001b[38;5;241m.\u001b[39mcatch_stop_iteration():\n\u001b[0;32m-> 1733\u001b[0m     \u001b[38;5;28;01mfor\u001b[39;00m step \u001b[38;5;129;01min\u001b[39;00m data_handler\u001b[38;5;241m.\u001b[39msteps():\n\u001b[1;32m   1734\u001b[0m         \u001b[38;5;28;01mwith\u001b[39;00m tf\u001b[38;5;241m.\u001b[39mprofiler\u001b[38;5;241m.\u001b[39mexperimental\u001b[38;5;241m.\u001b[39mTrace(\n\u001b[1;32m   1735\u001b[0m             \u001b[38;5;124m\"\u001b[39m\u001b[38;5;124mtrain\u001b[39m\u001b[38;5;124m\"\u001b[39m,\n\u001b[1;32m   1736\u001b[0m             epoch_num\u001b[38;5;241m=\u001b[39mepoch,\n\u001b[0;32m   (...)\u001b[0m\n\u001b[1;32m   1739\u001b[0m             _r\u001b[38;5;241m=\u001b[39m\u001b[38;5;241m1\u001b[39m,\n\u001b[1;32m   1740\u001b[0m         ):\n\u001b[1;32m   1741\u001b[0m             callbacks\u001b[38;5;241m.\u001b[39mon_train_batch_begin(step)\n",
      "File \u001b[0;32m~/anaconda3/lib/python3.10/site-packages/keras/src/engine/data_adapter.py:1401\u001b[0m, in \u001b[0;36mDataHandler.steps\u001b[0;34m(self)\u001b[0m\n\u001b[1;32m   1399\u001b[0m \u001b[38;5;28;01mif\u001b[39;00m \u001b[38;5;28mself\u001b[39m\u001b[38;5;241m.\u001b[39m_insufficient_data:  \u001b[38;5;66;03m# Set by `catch_stop_iteration`.\u001b[39;00m\n\u001b[1;32m   1400\u001b[0m     \u001b[38;5;28;01mbreak\u001b[39;00m\n\u001b[0;32m-> 1401\u001b[0m original_spe \u001b[38;5;241m=\u001b[39m \u001b[38;5;28;43mself\u001b[39;49m\u001b[38;5;241;43m.\u001b[39;49m\u001b[43m_steps_per_execution\u001b[49m\u001b[38;5;241;43m.\u001b[39;49m\u001b[43mnumpy\u001b[49m\u001b[43m(\u001b[49m\u001b[43m)\u001b[49m\u001b[38;5;241m.\u001b[39mitem()\n\u001b[1;32m   1402\u001b[0m can_run_full_execution \u001b[38;5;241m=\u001b[39m (\n\u001b[1;32m   1403\u001b[0m     original_spe \u001b[38;5;241m==\u001b[39m \u001b[38;5;241m1\u001b[39m\n\u001b[1;32m   1404\u001b[0m     \u001b[38;5;129;01mor\u001b[39;00m \u001b[38;5;28mself\u001b[39m\u001b[38;5;241m.\u001b[39m_inferred_steps \u001b[38;5;129;01mis\u001b[39;00m \u001b[38;5;28;01mNone\u001b[39;00m\n\u001b[1;32m   1405\u001b[0m     \u001b[38;5;129;01mor\u001b[39;00m \u001b[38;5;28mself\u001b[39m\u001b[38;5;241m.\u001b[39m_inferred_steps \u001b[38;5;241m-\u001b[39m \u001b[38;5;28mself\u001b[39m\u001b[38;5;241m.\u001b[39m_current_step \u001b[38;5;241m>\u001b[39m\u001b[38;5;241m=\u001b[39m original_spe\n\u001b[1;32m   1406\u001b[0m )\n\u001b[1;32m   1408\u001b[0m \u001b[38;5;28;01mif\u001b[39;00m can_run_full_execution:\n",
      "File \u001b[0;32m~/anaconda3/lib/python3.10/site-packages/tensorflow/python/ops/resource_variable_ops.py:688\u001b[0m, in \u001b[0;36mBaseResourceVariable.numpy\u001b[0;34m(self)\u001b[0m\n\u001b[1;32m    686\u001b[0m \u001b[38;5;28;01mdef\u001b[39;00m \u001b[38;5;21mnumpy\u001b[39m(\u001b[38;5;28mself\u001b[39m):\n\u001b[1;32m    687\u001b[0m   \u001b[38;5;28;01mif\u001b[39;00m context\u001b[38;5;241m.\u001b[39mexecuting_eagerly():\n\u001b[0;32m--> 688\u001b[0m     \u001b[38;5;28;01mreturn\u001b[39;00m \u001b[38;5;28;43mself\u001b[39;49m\u001b[38;5;241;43m.\u001b[39;49m\u001b[43mread_value\u001b[49m\u001b[43m(\u001b[49m\u001b[43m)\u001b[49m\u001b[38;5;241;43m.\u001b[39;49m\u001b[43mnumpy\u001b[49m\u001b[43m(\u001b[49m\u001b[43m)\u001b[49m\n\u001b[1;32m    689\u001b[0m   \u001b[38;5;28;01mraise\u001b[39;00m \u001b[38;5;167;01mNotImplementedError\u001b[39;00m(\n\u001b[1;32m    690\u001b[0m       \u001b[38;5;124m\"\u001b[39m\u001b[38;5;124mnumpy() is only available when eager execution is enabled.\u001b[39m\u001b[38;5;124m\"\u001b[39m)\n",
      "File \u001b[0;32m~/anaconda3/lib/python3.10/site-packages/tensorflow/python/framework/ops.py:1141\u001b[0m, in \u001b[0;36m_EagerTensorBase.numpy\u001b[0;34m(self)\u001b[0m\n\u001b[1;32m   1118\u001b[0m \u001b[38;5;250m\u001b[39m\u001b[38;5;124;03m\"\"\"Copy of the contents of this Tensor into a NumPy array or scalar.\u001b[39;00m\n\u001b[1;32m   1119\u001b[0m \n\u001b[1;32m   1120\u001b[0m \u001b[38;5;124;03mUnlike NumPy arrays, Tensors are immutable, so this method has to copy\u001b[39;00m\n\u001b[0;32m   (...)\u001b[0m\n\u001b[1;32m   1138\u001b[0m \u001b[38;5;124;03m    NumPy dtype.\u001b[39;00m\n\u001b[1;32m   1139\u001b[0m \u001b[38;5;124;03m\"\"\"\u001b[39;00m\n\u001b[1;32m   1140\u001b[0m \u001b[38;5;66;03m# TODO(slebedev): Consider avoiding a copy for non-CPU or remote tensors.\u001b[39;00m\n\u001b[0;32m-> 1141\u001b[0m maybe_arr \u001b[38;5;241m=\u001b[39m \u001b[38;5;28;43mself\u001b[39;49m\u001b[38;5;241;43m.\u001b[39;49m\u001b[43m_numpy\u001b[49m\u001b[43m(\u001b[49m\u001b[43m)\u001b[49m  \u001b[38;5;66;03m# pylint: disable=protected-access\u001b[39;00m\n\u001b[1;32m   1142\u001b[0m \u001b[38;5;28;01mreturn\u001b[39;00m maybe_arr\u001b[38;5;241m.\u001b[39mcopy() \u001b[38;5;28;01mif\u001b[39;00m \u001b[38;5;28misinstance\u001b[39m(maybe_arr, np\u001b[38;5;241m.\u001b[39mndarray) \u001b[38;5;28;01melse\u001b[39;00m maybe_arr\n",
      "File \u001b[0;32m~/anaconda3/lib/python3.10/site-packages/tensorflow/python/framework/ops.py:1107\u001b[0m, in \u001b[0;36m_EagerTensorBase._numpy\u001b[0;34m(self)\u001b[0m\n\u001b[1;32m   1105\u001b[0m \u001b[38;5;28;01mdef\u001b[39;00m \u001b[38;5;21m_numpy\u001b[39m(\u001b[38;5;28mself\u001b[39m):\n\u001b[1;32m   1106\u001b[0m   \u001b[38;5;28;01mtry\u001b[39;00m:\n\u001b[0;32m-> 1107\u001b[0m     \u001b[38;5;28;01mreturn\u001b[39;00m \u001b[38;5;28;43mself\u001b[39;49m\u001b[38;5;241;43m.\u001b[39;49m\u001b[43m_numpy_internal\u001b[49m\u001b[43m(\u001b[49m\u001b[43m)\u001b[49m\n\u001b[1;32m   1108\u001b[0m   \u001b[38;5;28;01mexcept\u001b[39;00m core\u001b[38;5;241m.\u001b[39m_NotOkStatusException \u001b[38;5;28;01mas\u001b[39;00m e:  \u001b[38;5;66;03m# pylint: disable=protected-access\u001b[39;00m\n\u001b[1;32m   1109\u001b[0m     \u001b[38;5;28;01mraise\u001b[39;00m core\u001b[38;5;241m.\u001b[39m_status_to_exception(e) \u001b[38;5;28;01mfrom\u001b[39;00m \u001b[38;5;28;01mNone\u001b[39;00m\n",
      "\u001b[0;31mKeyboardInterrupt\u001b[0m: "
     ]
    }
   ],
   "source": [
    "importlib.reload(Chatgpt_model)\n",
    "from Chatgpt_model import *\n",
    "importlib.reload(metrics_loss_functions)\n",
    "from metrics_loss_functions import *\n",
    "\n",
    "epochs = 100\n",
    "batch_size = 32\n",
    "\n",
    "dir_path = \"checkpoint_dir/\"+ datetime.datetime.now().strftime(\"%Y%m%d-%H%M%S\")\n",
    "\n",
    "\n",
    "for i in range(5):\n",
    "    checkpoint_path = dir_path + \"new_loss_patience25_compress12_dropout01/\"+\"M_\"+str(0)+\"_cp.ckpt\"\n",
    "    checkpoint_dir = os.path.dirname(checkpoint_path)\n",
    "    log_dir = \"logs/fit/\" + datetime.datetime.now().strftime(\"%Y%m%d-%H%M%S\")\n",
    "    tensorboard_callback = tf.keras.callbacks.TensorBoard(log_dir=log_dir, histogram_freq=1)\n",
    "    checkpoint_dir = os.path.dirname(checkpoint_path)\n",
    "\n",
    "\n",
    "\n",
    "    callbacks = [\n",
    "        tf.keras.callbacks.ModelCheckpoint(filepath=checkpoint_path,\n",
    "                                                     save_weights_only=True,\n",
    "                                                     verbose=1),\n",
    "        tf.keras.callbacks.ReduceLROnPlateau(\n",
    "            monitor=\"val_loss\", factor=0.5, patience=10, min_lr=0.0001\n",
    "        ),\n",
    "        tf.keras.callbacks.EarlyStopping(monitor='val_loss', patience=25, verbose=1,restore_best_weights=True,mode='min'),\n",
    "        tensorboard_callback,\n",
    "        #custom_validation_loss,\n",
    "    ]\n",
    "\n",
    "    model = create_small_model(input_shape=X_train.shape[1:])\n",
    "    model.compile(\n",
    "        optimizer=tf.keras.optimizers.Adam(learning_rate=0.001),\n",
    "        loss=weighted_bincrossentropy,\n",
    "        metrics=[fscore,auc],\n",
    "        weighted_metrics = 'acc' ,\n",
    "    )\n",
    "\n",
    "\n",
    "    history = model.fit(\n",
    "        X_train,\n",
    "        np.array(y_train),\n",
    "        batch_size=batch_size,\n",
    "        epochs=epochs,\n",
    "        callbacks=callbacks,\n",
    "        validation_data=(X_val,np.array(y_val)),\n",
    "        verbose=0,\n",
    "        #class_weight = class_weights,\n",
    "    )\n",
    "\n",
    "    model.save_weights(dir_path + \"new_loss_patience25_compress12_dropout01/\"+\"M_\"+str(0)+\"_restored_weight\"+\"_cp.ckpt\")\n",
    "\n"
   ]
  },
  {
   "cell_type": "code",
   "execution_count": 45,
   "id": "e20d53bb",
   "metadata": {
    "ExecuteTime": {
     "end_time": "2023-04-28T19:37:10.225225Z",
     "start_time": "2023-04-28T19:37:09.972845Z"
    }
   },
   "outputs": [
    {
     "data": {
      "image/png": "[encoded data removed]",
      "text/plain": [
       "<Figure size 2000x300 with 2 Axes>"
      ]
     },
     "metadata": {},
     "output_type": "display_data"
    }
   ],
   "source": [
    "fig, ax = plt.subplots(1, 2, figsize=(20, 3))\n",
    "ax = ax.ravel()\n",
    "\n",
    "for i, met in enumerate(['acc', 'loss']):\n",
    "    ax[i].plot(history.history[met])\n",
    "    ax[i].plot(history.history['val_' + met])\n",
    "    ax[i].set_title('Model {}'.format(met))\n",
    "    ax[i].set_xlabel('epochs')\n",
    "    ax[i].set_ylabel(met)\n",
    "    ax[i].legend(['train', 'val'])\n",
    "    \n"
   ]
  },
  {
   "cell_type": "code",
   "execution_count": 46,
   "id": "279aec22",
   "metadata": {},
   "outputs": [
    {
     "data": {
      "image/png": "[encoded data removed]",
      "text/plain": [
       "<Figure size 2000x300 with 2 Axes>"
      ]
     },
     "metadata": {},
     "output_type": "display_data"
    }
   ],
   "source": [
    "fig, ax = plt.subplots(1, 2, figsize=(20, 3))\n",
    "ax = ax.ravel()\n",
    "\n",
    "for i, met in enumerate(['auc', 'loss']):\n",
    "    ax[i].plot(history.history[met])\n",
    "    ax[i].plot(history.history['val_' + met])\n",
    "    ax[i].set_title('Model {}'.format(met))\n",
    "    ax[i].set_xlabel('epochs')\n",
    "    ax[i].set_ylabel(met)\n",
    "    ax[i].legend(['train', 'val'])"
   ]
  },
  {
   "cell_type": "code",
   "execution_count": 71,
   "id": "d9c5f0a0",
   "metadata": {
    "scrolled": true
   },
   "outputs": [
    {
     "name": "stdout",
     "output_type": "stream",
     "text": [
      "Epoch 1/73\n",
      "454/455 [============================>.] - ETA: 0s - loss: 0.3277 - auc: 0.7994 - acc: 0.8630\n",
      "Epoch 1: saving model to checkpoint_dir/20230727-165208LSTM_test_patience15_compress12_dropout02_aftermerge_i_continue/M_0_cp.ckpt\n",
      "455/455 [==============================] - 110s 180ms/step - loss: 0.3277 - auc: 0.7994 - acc: 0.8630 - val_loss: 0.6807 - val_auc: 0.7415 - val_acc: 0.8600 - lr: 5.0000e-04\n",
      "Epoch 2/73\n",
      "455/455 [==============================] - ETA: 0s - loss: 0.3335 - auc: 0.8160 - acc: 0.8606\n",
      "Epoch 2: saving model to checkpoint_dir/20230727-165208LSTM_test_patience15_compress12_dropout02_aftermerge_i_continue/M_0_cp.ckpt\n",
      "455/455 [==============================] - 81s 178ms/step - loss: 0.3335 - auc: 0.8160 - acc: 0.8606 - val_loss: 0.6485 - val_auc: 0.7393 - val_acc: 0.8453 - lr: 5.0000e-04\n",
      "Epoch 3/73\n",
      "454/455 [============================>.] - ETA: 0s - loss: 0.3248 - auc: 0.8267 - acc: 0.8594\n",
      "Epoch 3: saving model to checkpoint_dir/20230727-165208LSTM_test_patience15_compress12_dropout02_aftermerge_i_continue/M_0_cp.ckpt\n",
      "455/455 [==============================] - 80s 177ms/step - loss: 0.3247 - auc: 0.8267 - acc: 0.8594 - val_loss: 0.6506 - val_auc: 0.7395 - val_acc: 0.8441 - lr: 5.0000e-04\n",
      "Epoch 4/73\n",
      "454/455 [============================>.] - ETA: 0s - loss: 0.3180 - auc: 0.8295 - acc: 0.8648\n",
      "Epoch 4: saving model to checkpoint_dir/20230727-165208LSTM_test_patience15_compress12_dropout02_aftermerge_i_continue/M_0_cp.ckpt\n",
      "455/455 [==============================] - 80s 177ms/step - loss: 0.3183 - auc: 0.8294 - acc: 0.8648 - val_loss: 0.5383 - val_auc: 0.7278 - val_acc: 0.7088 - lr: 5.0000e-04\n",
      "Epoch 5/73\n",
      "454/455 [============================>.] - ETA: 0s - loss: 0.3056 - auc: 0.8412 - acc: 0.8662\n",
      "Epoch 5: saving model to checkpoint_dir/20230727-165208LSTM_test_patience15_compress12_dropout02_aftermerge_i_continue/M_0_cp.ckpt\n",
      "455/455 [==============================] - 81s 177ms/step - loss: 0.3056 - auc: 0.8412 - acc: 0.8662 - val_loss: 0.6250 - val_auc: 0.7396 - val_acc: 0.8385 - lr: 5.0000e-04\n",
      "Epoch 6/73\n",
      "454/455 [============================>.] - ETA: 0s - loss: 0.3131 - auc: 0.8367 - acc: 0.8685\n",
      "Epoch 6: saving model to checkpoint_dir/20230727-165208LSTM_test_patience15_compress12_dropout02_aftermerge_i_continue/M_0_cp.ckpt\n",
      "455/455 [==============================] - 81s 178ms/step - loss: 0.3131 - auc: 0.8367 - acc: 0.8685 - val_loss: 0.5389 - val_auc: 0.7367 - val_acc: 0.7857 - lr: 5.0000e-04\n",
      "Epoch 7/73\n",
      "454/455 [============================>.] - ETA: 0s - loss: 0.2930 - auc: 0.8474 - acc: 0.8747\n",
      "Epoch 7: saving model to checkpoint_dir/20230727-165208LSTM_test_patience15_compress12_dropout02_aftermerge_i_continue/M_0_cp.ckpt\n",
      "455/455 [==============================] - 80s 177ms/step - loss: 0.2930 - auc: 0.8474 - acc: 0.8747 - val_loss: 0.7147 - val_auc: 0.7347 - val_acc: 0.8393 - lr: 5.0000e-04\n",
      "Epoch 8/73\n",
      "454/455 [============================>.] - ETA: 0s - loss: 0.2897 - auc: 0.8554 - acc: 0.8739\n",
      "Epoch 8: saving model to checkpoint_dir/20230727-165208LSTM_test_patience15_compress12_dropout02_aftermerge_i_continue/M_0_cp.ckpt\n",
      "455/455 [==============================] - 80s 177ms/step - loss: 0.2900 - auc: 0.8552 - acc: 0.8738 - val_loss: 0.6365 - val_auc: 0.7360 - val_acc: 0.8497 - lr: 5.0000e-04\n",
      "Epoch 9/73\n",
      "454/455 [============================>.] - ETA: 0s - loss: 0.2937 - auc: 0.8476 - acc: 0.8738\n",
      "Epoch 9: saving model to checkpoint_dir/20230727-165208LSTM_test_patience15_compress12_dropout02_aftermerge_i_continue/M_0_cp.ckpt\n",
      "455/455 [==============================] - 80s 177ms/step - loss: 0.2937 - auc: 0.8476 - acc: 0.8738 - val_loss: 0.5781 - val_auc: 0.7319 - val_acc: 0.7848 - lr: 5.0000e-04\n",
      "Epoch 10/73\n",
      "455/455 [==============================] - ETA: 0s - loss: 0.2870 - auc: 0.8517 - acc: 0.8746\n",
      "Epoch 10: saving model to checkpoint_dir/20230727-165208LSTM_test_patience15_compress12_dropout02_aftermerge_i_continue/M_0_cp.ckpt\n",
      "455/455 [==============================] - 80s 177ms/step - loss: 0.2870 - auc: 0.8517 - acc: 0.8746 - val_loss: 0.5595 - val_auc: 0.7331 - val_acc: 0.7879 - lr: 5.0000e-04\n",
      "Epoch 11/73\n",
      "455/455 [==============================] - ETA: 0s - loss: 0.2839 - auc: 0.8522 - acc: 0.8795\n",
      "Epoch 11: saving model to checkpoint_dir/20230727-165208LSTM_test_patience15_compress12_dropout02_aftermerge_i_continue/M_0_cp.ckpt\n",
      "455/455 [==============================] - 81s 177ms/step - loss: 0.2839 - auc: 0.8522 - acc: 0.8795 - val_loss: 0.5970 - val_auc: 0.7247 - val_acc: 0.7803 - lr: 5.0000e-04\n",
      "Epoch 12/73\n",
      " 85/455 [====>.........................] - ETA: 1:00 - loss: 0.2773 - auc: 0.8613 - acc: 0.8831"
     ]
    },
    {
     "ename": "KeyboardInterrupt",
     "evalue": "",
     "output_type": "error",
     "traceback": [
      "\u001b[0;31m---------------------------------------------------------------------------\u001b[0m",
      "\u001b[0;31mKeyboardInterrupt\u001b[0m                         Traceback (most recent call last)",
      "Cell \u001b[0;32mIn[71], line 21\u001b[0m\n\u001b[1;32m      8\u001b[0m checkpoint_path \u001b[38;5;241m=\u001b[39m \u001b[38;5;124m\"\u001b[39m\u001b[38;5;124mcheckpoint_dir/20230727-165208LSTM_test_patience15_compress12_dropout02_aftermerge_i_continue/M_0_cp.ckpt\u001b[39m\u001b[38;5;124m\"\u001b[39m\n\u001b[1;32m      9\u001b[0m callbacks \u001b[38;5;241m=\u001b[39m [\n\u001b[1;32m     10\u001b[0m     tf\u001b[38;5;241m.\u001b[39mkeras\u001b[38;5;241m.\u001b[39mcallbacks\u001b[38;5;241m.\u001b[39mModelCheckpoint(filepath\u001b[38;5;241m=\u001b[39mcheckpoint_path,\n\u001b[1;32m     11\u001b[0m                                                  save_weights_only\u001b[38;5;241m=\u001b[39m\u001b[38;5;28;01mTrue\u001b[39;00m,\n\u001b[0;32m   (...)\u001b[0m\n\u001b[1;32m     18\u001b[0m     \u001b[38;5;66;03m#custom_validation_loss,\u001b[39;00m\n\u001b[1;32m     19\u001b[0m ]\n\u001b[0;32m---> 21\u001b[0m history \u001b[38;5;241m=\u001b[39m \u001b[43mmodel\u001b[49m\u001b[38;5;241;43m.\u001b[39;49m\u001b[43mfit\u001b[49m\u001b[43m(\u001b[49m\n\u001b[1;32m     22\u001b[0m \u001b[43m    \u001b[49m\u001b[43mX_train\u001b[49m\u001b[43m,\u001b[49m\n\u001b[1;32m     23\u001b[0m \u001b[43m    \u001b[49m\u001b[43mnp\u001b[49m\u001b[38;5;241;43m.\u001b[39;49m\u001b[43marray\u001b[49m\u001b[43m(\u001b[49m\u001b[43my_train\u001b[49m\u001b[43m)\u001b[49m\u001b[43m,\u001b[49m\n\u001b[1;32m     24\u001b[0m \u001b[43m    \u001b[49m\u001b[43mbatch_size\u001b[49m\u001b[38;5;241;43m=\u001b[39;49m\u001b[38;5;241;43m32\u001b[39;49m\u001b[43m,\u001b[49m\n\u001b[1;32m     25\u001b[0m \u001b[43m    \u001b[49m\u001b[43mepochs\u001b[49m\u001b[38;5;241;43m=\u001b[39;49m\u001b[38;5;241;43m73\u001b[39;49m\u001b[43m,\u001b[49m\n\u001b[1;32m     26\u001b[0m \u001b[43m    \u001b[49m\u001b[43mcallbacks\u001b[49m\u001b[38;5;241;43m=\u001b[39;49m\u001b[43mcallbacks\u001b[49m\u001b[43m,\u001b[49m\n\u001b[1;32m     27\u001b[0m \u001b[43m    \u001b[49m\u001b[43mvalidation_data\u001b[49m\u001b[38;5;241;43m=\u001b[39;49m\u001b[43m(\u001b[49m\u001b[43mX_val\u001b[49m\u001b[43m,\u001b[49m\u001b[43mnp\u001b[49m\u001b[38;5;241;43m.\u001b[39;49m\u001b[43marray\u001b[49m\u001b[43m(\u001b[49m\u001b[43my_val\u001b[49m\u001b[43m)\u001b[49m\u001b[43m)\u001b[49m\u001b[43m,\u001b[49m\n\u001b[1;32m     28\u001b[0m \u001b[43m    \u001b[49m\u001b[43mverbose\u001b[49m\u001b[38;5;241;43m=\u001b[39;49m\u001b[38;5;241;43m1\u001b[39;49m\u001b[43m,\u001b[49m\n\u001b[1;32m     29\u001b[0m \u001b[43m    \u001b[49m\u001b[38;5;66;43;03m#class_weight = class_weights,\u001b[39;49;00m\n\u001b[1;32m     30\u001b[0m \u001b[43m)\u001b[49m\n\u001b[1;32m     32\u001b[0m model\u001b[38;5;241m.\u001b[39msave_weights(\u001b[38;5;124m\"\u001b[39m\u001b[38;5;124mcheckpoint_dir/20230727-165208LSTM_test_patience15_compress12_dropout02_aftermerge_i_continue/M_0_restored_weight_cp.ckpt\u001b[39m\u001b[38;5;124m\"\u001b[39m)\n",
      "File \u001b[0;32m~/anaconda3/lib/python3.10/site-packages/keras/src/utils/traceback_utils.py:65\u001b[0m, in \u001b[0;36mfilter_traceback.<locals>.error_handler\u001b[0;34m(*args, **kwargs)\u001b[0m\n\u001b[1;32m     63\u001b[0m filtered_tb \u001b[38;5;241m=\u001b[39m \u001b[38;5;28;01mNone\u001b[39;00m\n\u001b[1;32m     64\u001b[0m \u001b[38;5;28;01mtry\u001b[39;00m:\n\u001b[0;32m---> 65\u001b[0m     \u001b[38;5;28;01mreturn\u001b[39;00m \u001b[43mfn\u001b[49m\u001b[43m(\u001b[49m\u001b[38;5;241;43m*\u001b[39;49m\u001b[43margs\u001b[49m\u001b[43m,\u001b[49m\u001b[43m \u001b[49m\u001b[38;5;241;43m*\u001b[39;49m\u001b[38;5;241;43m*\u001b[39;49m\u001b[43mkwargs\u001b[49m\u001b[43m)\u001b[49m\n\u001b[1;32m     66\u001b[0m \u001b[38;5;28;01mexcept\u001b[39;00m \u001b[38;5;167;01mException\u001b[39;00m \u001b[38;5;28;01mas\u001b[39;00m e:\n\u001b[1;32m     67\u001b[0m     filtered_tb \u001b[38;5;241m=\u001b[39m _process_traceback_frames(e\u001b[38;5;241m.\u001b[39m__traceback__)\n",
      "File \u001b[0;32m~/anaconda3/lib/python3.10/site-packages/keras/src/engine/training.py:1748\u001b[0m, in \u001b[0;36mModel.fit\u001b[0;34m(self, x, y, batch_size, epochs, verbose, callbacks, validation_split, validation_data, shuffle, class_weight, sample_weight, initial_epoch, steps_per_epoch, validation_steps, validation_batch_size, validation_freq, max_queue_size, workers, use_multiprocessing)\u001b[0m\n\u001b[1;32m   1746\u001b[0m logs \u001b[38;5;241m=\u001b[39m tmp_logs\n\u001b[1;32m   1747\u001b[0m end_step \u001b[38;5;241m=\u001b[39m step \u001b[38;5;241m+\u001b[39m data_handler\u001b[38;5;241m.\u001b[39mstep_increment\n\u001b[0;32m-> 1748\u001b[0m \u001b[43mcallbacks\u001b[49m\u001b[38;5;241;43m.\u001b[39;49m\u001b[43mon_train_batch_end\u001b[49m\u001b[43m(\u001b[49m\u001b[43mend_step\u001b[49m\u001b[43m,\u001b[49m\u001b[43m \u001b[49m\u001b[43mlogs\u001b[49m\u001b[43m)\u001b[49m\n\u001b[1;32m   1749\u001b[0m \u001b[38;5;28;01mif\u001b[39;00m \u001b[38;5;28mself\u001b[39m\u001b[38;5;241m.\u001b[39mstop_training:\n\u001b[1;32m   1750\u001b[0m     \u001b[38;5;28;01mbreak\u001b[39;00m\n",
      "File \u001b[0;32m~/anaconda3/lib/python3.10/site-packages/keras/src/callbacks.py:475\u001b[0m, in \u001b[0;36mCallbackList.on_train_batch_end\u001b[0;34m(self, batch, logs)\u001b[0m\n\u001b[1;32m    468\u001b[0m \u001b[38;5;250m\u001b[39m\u001b[38;5;124;03m\"\"\"Calls the `on_train_batch_end` methods of its callbacks.\u001b[39;00m\n\u001b[1;32m    469\u001b[0m \n\u001b[1;32m    470\u001b[0m \u001b[38;5;124;03mArgs:\u001b[39;00m\n\u001b[1;32m    471\u001b[0m \u001b[38;5;124;03m    batch: Integer, index of batch within the current epoch.\u001b[39;00m\n\u001b[1;32m    472\u001b[0m \u001b[38;5;124;03m    logs: Dict. Aggregated metric results up until this batch.\u001b[39;00m\n\u001b[1;32m    473\u001b[0m \u001b[38;5;124;03m\"\"\"\u001b[39;00m\n\u001b[1;32m    474\u001b[0m \u001b[38;5;28;01mif\u001b[39;00m \u001b[38;5;28mself\u001b[39m\u001b[38;5;241m.\u001b[39m_should_call_train_batch_hooks:\n\u001b[0;32m--> 475\u001b[0m     \u001b[38;5;28;43mself\u001b[39;49m\u001b[38;5;241;43m.\u001b[39;49m\u001b[43m_call_batch_hook\u001b[49m\u001b[43m(\u001b[49m\u001b[43mModeKeys\u001b[49m\u001b[38;5;241;43m.\u001b[39;49m\u001b[43mTRAIN\u001b[49m\u001b[43m,\u001b[49m\u001b[43m \u001b[49m\u001b[38;5;124;43m\"\u001b[39;49m\u001b[38;5;124;43mend\u001b[39;49m\u001b[38;5;124;43m\"\u001b[39;49m\u001b[43m,\u001b[49m\u001b[43m \u001b[49m\u001b[43mbatch\u001b[49m\u001b[43m,\u001b[49m\u001b[43m \u001b[49m\u001b[43mlogs\u001b[49m\u001b[38;5;241;43m=\u001b[39;49m\u001b[43mlogs\u001b[49m\u001b[43m)\u001b[49m\n",
      "File \u001b[0;32m~/anaconda3/lib/python3.10/site-packages/keras/src/callbacks.py:322\u001b[0m, in \u001b[0;36mCallbackList._call_batch_hook\u001b[0;34m(self, mode, hook, batch, logs)\u001b[0m\n\u001b[1;32m    320\u001b[0m     \u001b[38;5;28mself\u001b[39m\u001b[38;5;241m.\u001b[39m_call_batch_begin_hook(mode, batch, logs)\n\u001b[1;32m    321\u001b[0m \u001b[38;5;28;01melif\u001b[39;00m hook \u001b[38;5;241m==\u001b[39m \u001b[38;5;124m\"\u001b[39m\u001b[38;5;124mend\u001b[39m\u001b[38;5;124m\"\u001b[39m:\n\u001b[0;32m--> 322\u001b[0m     \u001b[38;5;28;43mself\u001b[39;49m\u001b[38;5;241;43m.\u001b[39;49m\u001b[43m_call_batch_end_hook\u001b[49m\u001b[43m(\u001b[49m\u001b[43mmode\u001b[49m\u001b[43m,\u001b[49m\u001b[43m \u001b[49m\u001b[43mbatch\u001b[49m\u001b[43m,\u001b[49m\u001b[43m \u001b[49m\u001b[43mlogs\u001b[49m\u001b[43m)\u001b[49m\n\u001b[1;32m    323\u001b[0m \u001b[38;5;28;01melse\u001b[39;00m:\n\u001b[1;32m    324\u001b[0m     \u001b[38;5;28;01mraise\u001b[39;00m \u001b[38;5;167;01mValueError\u001b[39;00m(\n\u001b[1;32m    325\u001b[0m         \u001b[38;5;124mf\u001b[39m\u001b[38;5;124m\"\u001b[39m\u001b[38;5;124mUnrecognized hook: \u001b[39m\u001b[38;5;132;01m{\u001b[39;00mhook\u001b[38;5;132;01m}\u001b[39;00m\u001b[38;5;124m. \u001b[39m\u001b[38;5;124m\"\u001b[39m\n\u001b[1;32m    326\u001b[0m         \u001b[38;5;124m'\u001b[39m\u001b[38;5;124mExpected values are [\u001b[39m\u001b[38;5;124m\"\u001b[39m\u001b[38;5;124mbegin\u001b[39m\u001b[38;5;124m\"\u001b[39m\u001b[38;5;124m, \u001b[39m\u001b[38;5;124m\"\u001b[39m\u001b[38;5;124mend\u001b[39m\u001b[38;5;124m\"\u001b[39m\u001b[38;5;124m]\u001b[39m\u001b[38;5;124m'\u001b[39m\n\u001b[1;32m    327\u001b[0m     )\n",
      "File \u001b[0;32m~/anaconda3/lib/python3.10/site-packages/keras/src/callbacks.py:345\u001b[0m, in \u001b[0;36mCallbackList._call_batch_end_hook\u001b[0;34m(self, mode, batch, logs)\u001b[0m\n\u001b[1;32m    342\u001b[0m     batch_time \u001b[38;5;241m=\u001b[39m time\u001b[38;5;241m.\u001b[39mtime() \u001b[38;5;241m-\u001b[39m \u001b[38;5;28mself\u001b[39m\u001b[38;5;241m.\u001b[39m_batch_start_time\n\u001b[1;32m    343\u001b[0m     \u001b[38;5;28mself\u001b[39m\u001b[38;5;241m.\u001b[39m_batch_times\u001b[38;5;241m.\u001b[39mappend(batch_time)\n\u001b[0;32m--> 345\u001b[0m \u001b[38;5;28;43mself\u001b[39;49m\u001b[38;5;241;43m.\u001b[39;49m\u001b[43m_call_batch_hook_helper\u001b[49m\u001b[43m(\u001b[49m\u001b[43mhook_name\u001b[49m\u001b[43m,\u001b[49m\u001b[43m \u001b[49m\u001b[43mbatch\u001b[49m\u001b[43m,\u001b[49m\u001b[43m \u001b[49m\u001b[43mlogs\u001b[49m\u001b[43m)\u001b[49m\n\u001b[1;32m    347\u001b[0m \u001b[38;5;28;01mif\u001b[39;00m \u001b[38;5;28mlen\u001b[39m(\u001b[38;5;28mself\u001b[39m\u001b[38;5;241m.\u001b[39m_batch_times) \u001b[38;5;241m>\u001b[39m\u001b[38;5;241m=\u001b[39m \u001b[38;5;28mself\u001b[39m\u001b[38;5;241m.\u001b[39m_num_batches_for_timing_check:\n\u001b[1;32m    348\u001b[0m     end_hook_name \u001b[38;5;241m=\u001b[39m hook_name\n",
      "File \u001b[0;32m~/anaconda3/lib/python3.10/site-packages/keras/src/callbacks.py:393\u001b[0m, in \u001b[0;36mCallbackList._call_batch_hook_helper\u001b[0;34m(self, hook_name, batch, logs)\u001b[0m\n\u001b[1;32m    391\u001b[0m \u001b[38;5;28;01mfor\u001b[39;00m callback \u001b[38;5;129;01min\u001b[39;00m \u001b[38;5;28mself\u001b[39m\u001b[38;5;241m.\u001b[39mcallbacks:\n\u001b[1;32m    392\u001b[0m     hook \u001b[38;5;241m=\u001b[39m \u001b[38;5;28mgetattr\u001b[39m(callback, hook_name)\n\u001b[0;32m--> 393\u001b[0m     \u001b[43mhook\u001b[49m\u001b[43m(\u001b[49m\u001b[43mbatch\u001b[49m\u001b[43m,\u001b[49m\u001b[43m \u001b[49m\u001b[43mlogs\u001b[49m\u001b[43m)\u001b[49m\n\u001b[1;32m    395\u001b[0m \u001b[38;5;28;01mif\u001b[39;00m \u001b[38;5;28mself\u001b[39m\u001b[38;5;241m.\u001b[39m_check_timing:\n\u001b[1;32m    396\u001b[0m     \u001b[38;5;28;01mif\u001b[39;00m hook_name \u001b[38;5;129;01mnot\u001b[39;00m \u001b[38;5;129;01min\u001b[39;00m \u001b[38;5;28mself\u001b[39m\u001b[38;5;241m.\u001b[39m_hook_times:\n",
      "File \u001b[0;32m~/anaconda3/lib/python3.10/site-packages/keras/src/callbacks.py:1093\u001b[0m, in \u001b[0;36mProgbarLogger.on_train_batch_end\u001b[0;34m(self, batch, logs)\u001b[0m\n\u001b[1;32m   1092\u001b[0m \u001b[38;5;28;01mdef\u001b[39;00m \u001b[38;5;21mon_train_batch_end\u001b[39m(\u001b[38;5;28mself\u001b[39m, batch, logs\u001b[38;5;241m=\u001b[39m\u001b[38;5;28;01mNone\u001b[39;00m):\n\u001b[0;32m-> 1093\u001b[0m     \u001b[38;5;28;43mself\u001b[39;49m\u001b[38;5;241;43m.\u001b[39;49m\u001b[43m_batch_update_progbar\u001b[49m\u001b[43m(\u001b[49m\u001b[43mbatch\u001b[49m\u001b[43m,\u001b[49m\u001b[43m \u001b[49m\u001b[43mlogs\u001b[49m\u001b[43m)\u001b[49m\n",
      "File \u001b[0;32m~/anaconda3/lib/python3.10/site-packages/keras/src/callbacks.py:1169\u001b[0m, in \u001b[0;36mProgbarLogger._batch_update_progbar\u001b[0;34m(self, batch, logs)\u001b[0m\n\u001b[1;32m   1165\u001b[0m     \u001b[38;5;28mself\u001b[39m\u001b[38;5;241m.\u001b[39mseen \u001b[38;5;241m+\u001b[39m\u001b[38;5;241m=\u001b[39m add_seen\n\u001b[1;32m   1167\u001b[0m \u001b[38;5;28;01mif\u001b[39;00m \u001b[38;5;28mself\u001b[39m\u001b[38;5;241m.\u001b[39mverbose \u001b[38;5;241m==\u001b[39m \u001b[38;5;241m1\u001b[39m:\n\u001b[1;32m   1168\u001b[0m     \u001b[38;5;66;03m# Only block async when verbose = 1.\u001b[39;00m\n\u001b[0;32m-> 1169\u001b[0m     logs \u001b[38;5;241m=\u001b[39m \u001b[43mtf_utils\u001b[49m\u001b[38;5;241;43m.\u001b[39;49m\u001b[43msync_to_numpy_or_python_type\u001b[49m\u001b[43m(\u001b[49m\u001b[43mlogs\u001b[49m\u001b[43m)\u001b[49m\n\u001b[1;32m   1170\u001b[0m     \u001b[38;5;28mself\u001b[39m\u001b[38;5;241m.\u001b[39mprogbar\u001b[38;5;241m.\u001b[39mupdate(\u001b[38;5;28mself\u001b[39m\u001b[38;5;241m.\u001b[39mseen, \u001b[38;5;28mlist\u001b[39m(logs\u001b[38;5;241m.\u001b[39mitems()), finalize\u001b[38;5;241m=\u001b[39m\u001b[38;5;28;01mFalse\u001b[39;00m)\n",
      "File \u001b[0;32m~/anaconda3/lib/python3.10/site-packages/keras/src/utils/tf_utils.py:694\u001b[0m, in \u001b[0;36msync_to_numpy_or_python_type\u001b[0;34m(tensors)\u001b[0m\n\u001b[1;32m    691\u001b[0m         \u001b[38;5;28;01mreturn\u001b[39;00m t\n\u001b[1;32m    692\u001b[0m     \u001b[38;5;28;01mreturn\u001b[39;00m t\u001b[38;5;241m.\u001b[39mitem() \u001b[38;5;28;01mif\u001b[39;00m np\u001b[38;5;241m.\u001b[39mndim(t) \u001b[38;5;241m==\u001b[39m \u001b[38;5;241m0\u001b[39m \u001b[38;5;28;01melse\u001b[39;00m t\n\u001b[0;32m--> 694\u001b[0m \u001b[38;5;28;01mreturn\u001b[39;00m \u001b[43mtf\u001b[49m\u001b[38;5;241;43m.\u001b[39;49m\u001b[43mnest\u001b[49m\u001b[38;5;241;43m.\u001b[39;49m\u001b[43mmap_structure\u001b[49m\u001b[43m(\u001b[49m\u001b[43m_to_single_numpy_or_python_type\u001b[49m\u001b[43m,\u001b[49m\u001b[43m \u001b[49m\u001b[43mtensors\u001b[49m\u001b[43m)\u001b[49m\n",
      "File \u001b[0;32m~/anaconda3/lib/python3.10/site-packages/tensorflow/python/util/nest.py:624\u001b[0m, in \u001b[0;36mmap_structure\u001b[0;34m(func, *structure, **kwargs)\u001b[0m\n\u001b[1;32m    538\u001b[0m \u001b[38;5;129m@tf_export\u001b[39m(\u001b[38;5;124m\"\u001b[39m\u001b[38;5;124mnest.map_structure\u001b[39m\u001b[38;5;124m\"\u001b[39m)\n\u001b[1;32m    539\u001b[0m \u001b[38;5;28;01mdef\u001b[39;00m \u001b[38;5;21mmap_structure\u001b[39m(func, \u001b[38;5;241m*\u001b[39mstructure, \u001b[38;5;241m*\u001b[39m\u001b[38;5;241m*\u001b[39mkwargs):\n\u001b[1;32m    540\u001b[0m \u001b[38;5;250m  \u001b[39m\u001b[38;5;124;03m\"\"\"Creates a new structure by applying `func` to each atom in `structure`.\u001b[39;00m\n\u001b[1;32m    541\u001b[0m \n\u001b[1;32m    542\u001b[0m \u001b[38;5;124;03m  Refer to [tf.nest](https://www.tensorflow.org/api_docs/python/tf/nest)\u001b[39;00m\n\u001b[0;32m   (...)\u001b[0m\n\u001b[1;32m    622\u001b[0m \u001b[38;5;124;03m    ValueError: If wrong keyword arguments are provided.\u001b[39;00m\n\u001b[1;32m    623\u001b[0m \u001b[38;5;124;03m  \"\"\"\u001b[39;00m\n\u001b[0;32m--> 624\u001b[0m   \u001b[38;5;28;01mreturn\u001b[39;00m \u001b[43mnest_util\u001b[49m\u001b[38;5;241;43m.\u001b[39;49m\u001b[43mmap_structure\u001b[49m\u001b[43m(\u001b[49m\n\u001b[1;32m    625\u001b[0m \u001b[43m      \u001b[49m\u001b[43mnest_util\u001b[49m\u001b[38;5;241;43m.\u001b[39;49m\u001b[43mModality\u001b[49m\u001b[38;5;241;43m.\u001b[39;49m\u001b[43mCORE\u001b[49m\u001b[43m,\u001b[49m\u001b[43m \u001b[49m\u001b[43mfunc\u001b[49m\u001b[43m,\u001b[49m\u001b[43m \u001b[49m\u001b[38;5;241;43m*\u001b[39;49m\u001b[43mstructure\u001b[49m\u001b[43m,\u001b[49m\u001b[43m \u001b[49m\u001b[38;5;241;43m*\u001b[39;49m\u001b[38;5;241;43m*\u001b[39;49m\u001b[43mkwargs\u001b[49m\n\u001b[1;32m    626\u001b[0m \u001b[43m  \u001b[49m\u001b[43m)\u001b[49m\n",
      "File \u001b[0;32m~/anaconda3/lib/python3.10/site-packages/tensorflow/python/util/nest_util.py:1054\u001b[0m, in \u001b[0;36mmap_structure\u001b[0;34m(modality, func, *structure, **kwargs)\u001b[0m\n\u001b[1;32m    957\u001b[0m \u001b[38;5;250m\u001b[39m\u001b[38;5;124;03m\"\"\"Creates a new structure by applying `func` to each atom in `structure`.\u001b[39;00m\n\u001b[1;32m    958\u001b[0m \n\u001b[1;32m    959\u001b[0m \u001b[38;5;124;03m- For Modality.CORE: Refer to\u001b[39;00m\n\u001b[0;32m   (...)\u001b[0m\n\u001b[1;32m   1051\u001b[0m \u001b[38;5;124;03m  ValueError: If wrong keyword arguments are provided.\u001b[39;00m\n\u001b[1;32m   1052\u001b[0m \u001b[38;5;124;03m\"\"\"\u001b[39;00m\n\u001b[1;32m   1053\u001b[0m \u001b[38;5;28;01mif\u001b[39;00m modality \u001b[38;5;241m==\u001b[39m Modality\u001b[38;5;241m.\u001b[39mCORE:\n\u001b[0;32m-> 1054\u001b[0m   \u001b[38;5;28;01mreturn\u001b[39;00m \u001b[43m_tf_core_map_structure\u001b[49m\u001b[43m(\u001b[49m\u001b[43mfunc\u001b[49m\u001b[43m,\u001b[49m\u001b[43m \u001b[49m\u001b[38;5;241;43m*\u001b[39;49m\u001b[43mstructure\u001b[49m\u001b[43m,\u001b[49m\u001b[43m \u001b[49m\u001b[38;5;241;43m*\u001b[39;49m\u001b[38;5;241;43m*\u001b[39;49m\u001b[43mkwargs\u001b[49m\u001b[43m)\u001b[49m\n\u001b[1;32m   1055\u001b[0m \u001b[38;5;28;01melif\u001b[39;00m modality \u001b[38;5;241m==\u001b[39m Modality\u001b[38;5;241m.\u001b[39mDATA:\n\u001b[1;32m   1056\u001b[0m   \u001b[38;5;28;01mreturn\u001b[39;00m _tf_data_map_structure(func, \u001b[38;5;241m*\u001b[39mstructure, \u001b[38;5;241m*\u001b[39m\u001b[38;5;241m*\u001b[39mkwargs)\n",
      "File \u001b[0;32m~/anaconda3/lib/python3.10/site-packages/tensorflow/python/util/nest_util.py:1094\u001b[0m, in \u001b[0;36m_tf_core_map_structure\u001b[0;34m(func, *structure, **kwargs)\u001b[0m\n\u001b[1;32m   1089\u001b[0m flat_structure \u001b[38;5;241m=\u001b[39m (_tf_core_flatten(s, expand_composites) \u001b[38;5;28;01mfor\u001b[39;00m s \u001b[38;5;129;01min\u001b[39;00m structure)\n\u001b[1;32m   1090\u001b[0m entries \u001b[38;5;241m=\u001b[39m \u001b[38;5;28mzip\u001b[39m(\u001b[38;5;241m*\u001b[39mflat_structure)\n\u001b[1;32m   1092\u001b[0m \u001b[38;5;28;01mreturn\u001b[39;00m _tf_core_pack_sequence_as(\n\u001b[1;32m   1093\u001b[0m     structure[\u001b[38;5;241m0\u001b[39m],\n\u001b[0;32m-> 1094\u001b[0m     [func(\u001b[38;5;241m*\u001b[39mx) \u001b[38;5;28;01mfor\u001b[39;00m x \u001b[38;5;129;01min\u001b[39;00m entries],\n\u001b[1;32m   1095\u001b[0m     expand_composites\u001b[38;5;241m=\u001b[39mexpand_composites,\n\u001b[1;32m   1096\u001b[0m )\n",
      "File \u001b[0;32m~/anaconda3/lib/python3.10/site-packages/tensorflow/python/util/nest_util.py:1094\u001b[0m, in \u001b[0;36m<listcomp>\u001b[0;34m(.0)\u001b[0m\n\u001b[1;32m   1089\u001b[0m flat_structure \u001b[38;5;241m=\u001b[39m (_tf_core_flatten(s, expand_composites) \u001b[38;5;28;01mfor\u001b[39;00m s \u001b[38;5;129;01min\u001b[39;00m structure)\n\u001b[1;32m   1090\u001b[0m entries \u001b[38;5;241m=\u001b[39m \u001b[38;5;28mzip\u001b[39m(\u001b[38;5;241m*\u001b[39mflat_structure)\n\u001b[1;32m   1092\u001b[0m \u001b[38;5;28;01mreturn\u001b[39;00m _tf_core_pack_sequence_as(\n\u001b[1;32m   1093\u001b[0m     structure[\u001b[38;5;241m0\u001b[39m],\n\u001b[0;32m-> 1094\u001b[0m     [\u001b[43mfunc\u001b[49m\u001b[43m(\u001b[49m\u001b[38;5;241;43m*\u001b[39;49m\u001b[43mx\u001b[49m\u001b[43m)\u001b[49m \u001b[38;5;28;01mfor\u001b[39;00m x \u001b[38;5;129;01min\u001b[39;00m entries],\n\u001b[1;32m   1095\u001b[0m     expand_composites\u001b[38;5;241m=\u001b[39mexpand_composites,\n\u001b[1;32m   1096\u001b[0m )\n",
      "File \u001b[0;32m~/anaconda3/lib/python3.10/site-packages/keras/src/utils/tf_utils.py:687\u001b[0m, in \u001b[0;36msync_to_numpy_or_python_type.<locals>._to_single_numpy_or_python_type\u001b[0;34m(t)\u001b[0m\n\u001b[1;32m    684\u001b[0m \u001b[38;5;28;01mdef\u001b[39;00m \u001b[38;5;21m_to_single_numpy_or_python_type\u001b[39m(t):\n\u001b[1;32m    685\u001b[0m     \u001b[38;5;66;03m# Don't turn ragged or sparse tensors to NumPy.\u001b[39;00m\n\u001b[1;32m    686\u001b[0m     \u001b[38;5;28;01mif\u001b[39;00m \u001b[38;5;28misinstance\u001b[39m(t, tf\u001b[38;5;241m.\u001b[39mTensor):\n\u001b[0;32m--> 687\u001b[0m         t \u001b[38;5;241m=\u001b[39m \u001b[43mt\u001b[49m\u001b[38;5;241;43m.\u001b[39;49m\u001b[43mnumpy\u001b[49m\u001b[43m(\u001b[49m\u001b[43m)\u001b[49m\n\u001b[1;32m    688\u001b[0m     \u001b[38;5;66;03m# Strings, ragged and sparse tensors don't have .item(). Return them\u001b[39;00m\n\u001b[1;32m    689\u001b[0m     \u001b[38;5;66;03m# as-is.\u001b[39;00m\n\u001b[1;32m    690\u001b[0m     \u001b[38;5;28;01mif\u001b[39;00m \u001b[38;5;129;01mnot\u001b[39;00m \u001b[38;5;28misinstance\u001b[39m(t, (np\u001b[38;5;241m.\u001b[39mndarray, np\u001b[38;5;241m.\u001b[39mgeneric)):\n",
      "File \u001b[0;32m~/anaconda3/lib/python3.10/site-packages/tensorflow/python/framework/ops.py:1141\u001b[0m, in \u001b[0;36m_EagerTensorBase.numpy\u001b[0;34m(self)\u001b[0m\n\u001b[1;32m   1118\u001b[0m \u001b[38;5;250m\u001b[39m\u001b[38;5;124;03m\"\"\"Copy of the contents of this Tensor into a NumPy array or scalar.\u001b[39;00m\n\u001b[1;32m   1119\u001b[0m \n\u001b[1;32m   1120\u001b[0m \u001b[38;5;124;03mUnlike NumPy arrays, Tensors are immutable, so this method has to copy\u001b[39;00m\n\u001b[0;32m   (...)\u001b[0m\n\u001b[1;32m   1138\u001b[0m \u001b[38;5;124;03m    NumPy dtype.\u001b[39;00m\n\u001b[1;32m   1139\u001b[0m \u001b[38;5;124;03m\"\"\"\u001b[39;00m\n\u001b[1;32m   1140\u001b[0m \u001b[38;5;66;03m# TODO(slebedev): Consider avoiding a copy for non-CPU or remote tensors.\u001b[39;00m\n\u001b[0;32m-> 1141\u001b[0m maybe_arr \u001b[38;5;241m=\u001b[39m \u001b[38;5;28;43mself\u001b[39;49m\u001b[38;5;241;43m.\u001b[39;49m\u001b[43m_numpy\u001b[49m\u001b[43m(\u001b[49m\u001b[43m)\u001b[49m  \u001b[38;5;66;03m# pylint: disable=protected-access\u001b[39;00m\n\u001b[1;32m   1142\u001b[0m \u001b[38;5;28;01mreturn\u001b[39;00m maybe_arr\u001b[38;5;241m.\u001b[39mcopy() \u001b[38;5;28;01mif\u001b[39;00m \u001b[38;5;28misinstance\u001b[39m(maybe_arr, np\u001b[38;5;241m.\u001b[39mndarray) \u001b[38;5;28;01melse\u001b[39;00m maybe_arr\n",
      "File \u001b[0;32m~/anaconda3/lib/python3.10/site-packages/tensorflow/python/framework/ops.py:1107\u001b[0m, in \u001b[0;36m_EagerTensorBase._numpy\u001b[0;34m(self)\u001b[0m\n\u001b[1;32m   1105\u001b[0m \u001b[38;5;28;01mdef\u001b[39;00m \u001b[38;5;21m_numpy\u001b[39m(\u001b[38;5;28mself\u001b[39m):\n\u001b[1;32m   1106\u001b[0m   \u001b[38;5;28;01mtry\u001b[39;00m:\n\u001b[0;32m-> 1107\u001b[0m     \u001b[38;5;28;01mreturn\u001b[39;00m \u001b[38;5;28;43mself\u001b[39;49m\u001b[38;5;241;43m.\u001b[39;49m\u001b[43m_numpy_internal\u001b[49m\u001b[43m(\u001b[49m\u001b[43m)\u001b[49m\n\u001b[1;32m   1108\u001b[0m   \u001b[38;5;28;01mexcept\u001b[39;00m core\u001b[38;5;241m.\u001b[39m_NotOkStatusException \u001b[38;5;28;01mas\u001b[39;00m e:  \u001b[38;5;66;03m# pylint: disable=protected-access\u001b[39;00m\n\u001b[1;32m   1109\u001b[0m     \u001b[38;5;28;01mraise\u001b[39;00m core\u001b[38;5;241m.\u001b[39m_status_to_exception(e) \u001b[38;5;28;01mfrom\u001b[39;00m \u001b[38;5;28;01mNone\u001b[39;00m\n",
      "\u001b[0;31mKeyboardInterrupt\u001b[0m: "
     ]
    }
   ],
   "source": [
    "model.load_weights(\"checkpoint_dir/20230727-165208LSTM_test_patience15_compress12_dropout02_aftermerge_i/M_0_cp.ckpt\")\n",
    "model.compile(\n",
    "    optimizer=tf.keras.optimizers.Adam(learning_rate=0.001),\n",
    "    loss=weighted_bincrossentropy,\n",
    "    metrics=[auc],\n",
    "    weighted_metrics = 'acc' ,\n",
    ")\n",
    "checkpoint_path = \"checkpoint_dir/20230727-165208LSTM_test_patience15_compress12_dropout02_aftermerge_i_continue/M_0_cp.ckpt\"\n",
    "callbacks = [\n",
    "    tf.keras.callbacks.ModelCheckpoint(filepath=checkpoint_path,\n",
    "                                                 save_weights_only=True,\n",
    "                                                 verbose=1),\n",
    "    tf.keras.callbacks.ReduceLROnPlateau(\n",
    "        monitor=\"val_loss\", factor=0.5, patience=10, min_lr=0.0001\n",
    "    ),\n",
    "    tf.keras.callbacks.EarlyStopping(monitor='val_loss', patience=25, verbose=1,restore_best_weights=True,mode='min'),\n",
    "    #tensorboard_callback,\n",
    "    #custom_validation_loss,\n",
    "]\n",
    "\n",
    "history = model.fit(\n",
    "    X_train,\n",
    "    np.array(y_train),\n",
    "    batch_size=32,\n",
    "    epochs=73,\n",
    "    callbacks=callbacks,\n",
    "    validation_data=(X_val,np.array(y_val)),\n",
    "    verbose=1,\n",
    "    #class_weight = class_weights,\n",
    ")\n",
    "\n",
    "model.save_weights(\"checkpoint_dir/20230727-165208LSTM_test_patience15_compress12_dropout02_aftermerge_i_continue/M_0_restored_weight_cp.ckpt\")\n",
    "\n"
   ]
  },
  {
   "cell_type": "code",
   "execution_count": 47,
   "id": "a78fd5e7",
   "metadata": {
    "scrolled": true
   },
   "outputs": [
    {
     "name": "stdout",
     "output_type": "stream",
     "text": [
      "152/152 [==============================] - 4s 26ms/step - loss: 0.5423 - fbeta_score: 0.6326 - auc: 0.7148 - acc: 0.7944\n"
     ]
    },
    {
     "data": {
      "text/plain": [
       "[0.5422962307929993,\n",
       " 0.6325515508651733,\n",
       " 0.7147872447967529,\n",
       " 0.7944079041481018]"
      ]
     },
     "execution_count": 47,
     "metadata": {},
     "output_type": "execute_result"
    }
   ],
   "source": [
    "model.evaluate(X_test, y_test) "
   ]
  },
  {
   "cell_type": "code",
   "execution_count": 48,
   "id": "eb2ab815",
   "metadata": {
    "ExecuteTime": {
     "end_time": "2023-04-28T19:37:17.560656Z",
     "start_time": "2023-04-28T19:37:17.279104Z"
    },
    "colab": {
     "base_uri": "https://localhost:8080/"
    },
    "id": "PYQLQItpOKBp",
    "outputId": "617b07c3-a5a4-45db-cce1-e3aa4dc1a1af",
    "scrolled": true
   },
   "outputs": [
    {
     "name": "stdout",
     "output_type": "stream",
     "text": [
      "152/152 [==============================] - 4s 24ms/step\n",
      "[[0.57153803]\n",
      " [0.3536995 ]\n",
      " [0.12283016]\n",
      " ...\n",
      " [0.06724702]\n",
      " [0.16473596]\n",
      " [0.18583317]]\n"
     ]
    }
   ],
   "source": [
    "pred = model.predict(X_test)\n",
    "print(pred)"
   ]
  },
  {
   "cell_type": "code",
   "execution_count": 26,
   "id": "868fa208",
   "metadata": {},
   "outputs": [],
   "source": [
    "importlib.reload(Chatgpt_model)\n",
    "from Chatgpt_model import *\n",
    "importlib.reload(metrics_loss_functions)\n",
    "from metrics_loss_functions import *\n",
    "\n",
    "model6 = create_small_model_6(input_shape=X_train.shape[1:])\n",
    "model6.compile(\n",
    "    optimizer=tf.keras.optimizers.Adam(learning_rate=0.001),\n",
    "    loss=\"binary_crossentropy\",\n",
    "    metrics=[auc],\n",
    "    weighted_metrics = 'acc' ,\n",
    ")\n",
    "model12 = create_small_model(input_shape=X_train.shape[1:])\n",
    "model12.compile(\n",
    "    optimizer=tf.keras.optimizers.Adam(learning_rate=0.001),\n",
    "    loss=\"binary_crossentropy\",\n",
    "    metrics=[auc],\n",
    "    weighted_metrics = 'acc' ,\n",
    ")\n",
    "\n",
    "\n"
   ]
  },
  {
   "cell_type": "code",
   "execution_count": 27,
   "id": "091aaead",
   "metadata": {},
   "outputs": [
    {
     "name": "stdout",
     "output_type": "stream",
     "text": [
      "Résultats modèle  0  : \n",
      "151/151 [==============================] - 5s 24ms/step - loss: 0.4547 - auc: 0.7128 - acc: 0.8161\n",
      "152/152 [==============================] - 4s 24ms/step - loss: 0.4704 - auc: 0.7230 - acc: 0.8104\n",
      "Résultats modèle  1  : \n",
      "151/151 [==============================] - 4s 25ms/step - loss: 0.4082 - auc: 0.7343 - acc: 0.8159\n",
      "152/152 [==============================] - 4s 26ms/step - loss: 0.4191 - auc: 0.7220 - acc: 0.8150\n",
      "Résultats modèle  2  : \n",
      "151/151 [==============================] - 5s 32ms/step - loss: 0.4400 - auc: 0.7034 - acc: 0.7998\n",
      "152/152 [==============================] - 4s 25ms/step - loss: 0.4618 - auc: 0.6884 - acc: 0.7864\n",
      "Résultats modèle  3  : \n",
      "151/151 [==============================] - 3s 23ms/step - loss: 0.5027 - auc: 0.7358 - acc: 0.7550\n",
      "152/152 [==============================] - 4s 23ms/step - loss: 0.5319 - auc: 0.7171 - acc: 0.7325\n",
      "Résultats modèle  4  : \n",
      "151/151 [==============================] - 3s 23ms/step - loss: 0.4857 - auc: 0.6939 - acc: 0.7828\n",
      "152/152 [==============================] - 3s 23ms/step - loss: 0.4916 - auc: 0.6936 - acc: 0.7745\n"
     ]
    },
    {
     "data": {
      "text/plain": [
       "'    \\n    if i==1:\\n        model12.load_weights(paths[i])    \\n        print(\"Résultats modèle \",i,\" : \")\\n        model12.evaluate(X_val,y_val)\\n        model12.evaluate(X_test,y_test)\\n        preds.append(model12.predict(X_test,verbose=0))\\n'"
      ]
     },
     "execution_count": 27,
     "metadata": {},
     "output_type": "execute_result"
    }
   ],
   "source": [
    "\n",
    "paths=[]\n",
    "paths.append(\"checkpoint_dir/20230728-020158new_loss_patience25_compress6_dropout01/M_0_restored_weight_cp.ckpt\")\n",
    "paths.append(\"checkpoint_dir/20230728-101829new_loss_patience25_compress6_dropout01/M_0_restored_weight_cp.ckpt\")\n",
    "paths.append(\"checkpoint_dir/20230728-114213new_loss_patience25_compress6_dropout01/M_0_restored_weight_cp.ckpt\")\n",
    "paths.append(\"checkpoint_dir/20230728-114213new_loss_patience25_compress6_dropout01/M_1_restored_weight_cp.ckpt\")\n",
    "paths.append(\"checkpoint_dir/20230728-114213new_loss_patience25_compress6_dropout01/M_2_restored_weight_cp.ckpt\")\n",
    "\n",
    "preds=[]\n",
    "\n",
    "\n",
    "\n",
    "for i in range(len(paths)):\n",
    "    model6.load_weights(paths[i])    \n",
    "    print(\"Résultats modèle \",i,\" : \")\n",
    "    model6.evaluate(X_val,y_val)\n",
    "    model6.evaluate(X_test,y_test)\n",
    "    preds.append(model6.predict(X_test,verbose=0))\n",
    "\"\"\"    \n",
    "    if i==1:\n",
    "        model12.load_weights(paths[i])    \n",
    "        print(\"Résultats modèle \",i,\" : \")\n",
    "        model12.evaluate(X_val,y_val)\n",
    "        model12.evaluate(X_test,y_test)\n",
    "        preds.append(model12.predict(X_test,verbose=0))\n",
    "\"\"\""
   ]
  },
  {
   "cell_type": "code",
   "execution_count": 56,
   "id": "b28cbdb2",
   "metadata": {},
   "outputs": [
    {
     "data": {
      "text/plain": [
       "'\\npred_0 = get_patients_pred(preds[0],df_test)\\npred_1 = get_patients_pred(preds[1],df_test)\\npred_2 = get_patients_pred(preds[2],df_test)\\npred_3 = get_patients_pred(preds[3],df_test)\\npred_4 = get_patients_pred(preds[4],df_test)\\n\\npred_0 = (preds[0] > 0.5)*1\\npred_1 = (preds[1] > 0.5)*1\\npred_2 = (preds[2] > 0.5)*1\\npred_3 = (preds[3] > 0.5)*1\\npred_4 = (preds[4] > 0.5)*1\\n\\npred = np.add(pred_0, pred_1,pred_2)\\npred = np.add(pred,pred_3,pred_4)\\npred = pred/5\\n'"
      ]
     },
     "execution_count": 56,
     "metadata": {},
     "output_type": "execute_result"
    }
   ],
   "source": [
    "importlib.reload(results_functions)\n",
    "from results_functions import *\n",
    "\n",
    "n=4\n",
    "pred=preds[n]\n",
    "\"\"\"\n",
    "pred_0 = get_patients_pred(preds[0],df_test)\n",
    "pred_1 = get_patients_pred(preds[1],df_test)\n",
    "pred_2 = get_patients_pred(preds[2],df_test)\n",
    "pred_3 = get_patients_pred(preds[3],df_test)\n",
    "pred_4 = get_patients_pred(preds[4],df_test)\n",
    "\n",
    "pred_0 = (preds[0] > 0.5)*1\n",
    "pred_1 = (preds[1] > 0.5)*1\n",
    "pred_2 = (preds[2] > 0.5)*1\n",
    "pred_3 = (preds[3] > 0.5)*1\n",
    "pred_4 = (preds[4] > 0.5)*1\n",
    "\n",
    "pred = np.add(pred_0, pred_1,pred_2)\n",
    "pred = np.add(pred,pred_3,pred_4)\n",
    "pred = pred/5\n",
    "\"\"\"\n",
    "#pred = (pred > 0.5)*1"
   ]
  },
  {
   "cell_type": "code",
   "execution_count": 49,
   "id": "6ca0eb6f",
   "metadata": {
    "ExecuteTime": {
     "end_time": "2023-04-28T19:37:18.942364Z",
     "start_time": "2023-04-28T19:37:18.903410Z"
    },
    "id": "Dh7gibaQiOsw"
   },
   "outputs": [],
   "source": [
    "list_patient_rows = list(df_test.groupby(['patient_id'])['patient_id'].count())"
   ]
  },
  {
   "cell_type": "code",
   "execution_count": 50,
   "id": "d087f498",
   "metadata": {
    "ExecuteTime": {
     "end_time": "2023-04-28T19:37:19.839449Z",
     "start_time": "2023-04-28T19:37:19.836902Z"
    },
    "id": "FBeasPNClnpb"
   },
   "outputs": [],
   "source": [
    "pred_groupby_patient = np.split(pred,cumulative(list_patient_rows))\n",
    "pred_groupby_patient = pred_groupby_patient[:-1]\n",
    "\n",
    "df_test = df_test.astype({'murmur':'int'})\n",
    "y_test_grouped = df_test[['patient_id','murmur']].drop_duplicates()['murmur'].to_list()"
   ]
  },
  {
   "cell_type": "code",
   "execution_count": 51,
   "id": "2d28d67a",
   "metadata": {
    "ExecuteTime": {
     "end_time": "2023-04-28T19:37:21.314585Z",
     "start_time": "2023-04-28T19:37:21.291913Z"
    },
    "id": "TYCSAcHFzHLy"
   },
   "outputs": [],
   "source": [
    "pred1 = mean_pred(pred_groupby_patient)\n",
    "pred2 = majority_pred(pred_groupby_patient)"
   ]
  },
  {
   "cell_type": "code",
   "execution_count": 52,
   "id": "8d0c063f",
   "metadata": {
    "ExecuteTime": {
     "end_time": "2023-04-28T19:29:59.110704Z",
     "start_time": "2023-04-28T19:29:58.979913Z"
    },
    "colab": {
     "base_uri": "https://localhost:8080/"
    },
    "id": "UoHq89-17e8x",
    "outputId": "de9a2982-fd6d-43c6-ee32-54ad1a9f6761",
    "scrolled": true
   },
   "outputs": [
    {
     "name": "stdout",
     "output_type": "stream",
     "text": [
      "[0, 0, 0, 0, 1, 0, 0, 1, 1, 1, 1, 0, 0, 0, 0, 1, 1, 0, 0, 0, 1, 0, 0, 0, 0, 1, 0, 0, 0, 1, 1, 0, 0, 0, 0, 1, 1, 0, 0, 0, 0, 0, 0, 0, 0, 0, 0, 1, 0, 0, 0, 0, 0, 0, 0, 0, 0, 0, 0, 0, 0, 0, 0, 0, 0, 0, 0, 0, 0, 0, 1, 0, 0, 0, 0, 0, 0, 1, 1, 0, 0, 0, 0, 1, 0, 0, 1, 0, 0, 1, 1, 0, 0, 0, 0, 0, 0, 1, 0, 0, 0, 0, 0, 0, 0, 1, 1, 0, 0, 1, 0, 1, 1, 0, 0, 1, 1, 0, 0, 1, 0, 0, 0, 0, 0, 0, 0, 0, 0, 0, 0, 0, 0, 0, 0, 1, 0, 0, 1, 1, 0, 0, 0, 0, 1, 0, 0, 0, 0, 0, 0, 0, 0, 0, 0, 0, 0, 1, 0, 0, 0, 0, 0, 0, 0, 0, 0, 0, 0, 0, 1, 0, 0, 0, 0]\n",
      "Accuracy score of mean_pred :  0.8742857142857143\n",
      "Accuracy score of majority_pred :  0.8571428571428571\n",
      "Weighted accuracy score of majority_pred :  0.8063492063492064\n"
     ]
    }
   ],
   "source": [
    "print(pred1)\n",
    "#print(pred2)\n",
    "#print(y_test_grouped)\n",
    "y_true = pred2\n",
    "y_pred = y_test_grouped\n",
    "# compute the confusion matrix\n",
    "cm = confusion_matrix(y_true, y_pred)\n",
    "tn, fp, fn, tp = cm.ravel()\n",
    "weight_positive = 5\n",
    "weight_negative = 1\n",
    "weighted_accuracy = (weight_positive * tp + weight_negative * tn) / (weight_positive * (tp + fn) + weight_negative * (tn + fp))\n",
    "\n",
    "\n",
    "print(\"Accuracy score of mean_pred : \",accuracy_score(pred1 , y_test_grouped))\n",
    "print(\"Accuracy score of majority_pred : \",accuracy_score(pred2 , y_test_grouped))\n",
    "#print(\"Weighted accuracy score of majority_pred : \",balanced_accuracy_score(pred2 , y_test_grouped))\n",
    "print(\"Weighted accuracy score of majority_pred : \",weighted_accuracy)"
   ]
  },
  {
   "cell_type": "code",
   "execution_count": 53,
   "id": "3eeccb46",
   "metadata": {},
   "outputs": [
    {
     "data": {
      "text/plain": [
       "0.8097999999999999"
      ]
     },
     "execution_count": 53,
     "metadata": {},
     "output_type": "execute_result"
    }
   ],
   "source": [
    "a = 0.814 + 0.91 + 0.814 + 0.733 + 0.778\n",
    "a/5"
   ]
  },
  {
   "cell_type": "code",
   "execution_count": 54,
   "id": "4245a532",
   "metadata": {},
   "outputs": [
    {
     "data": {
      "image/png": "[encoded data removed]",
      "text/plain": [
       "<Figure size 1500x1000 with 4 Axes>"
      ]
     },
     "metadata": {},
     "output_type": "display_data"
    }
   ],
   "source": [
    "fig, axes = plt.subplots(nrows=1, ncols=2, figsize=(15,10))\n",
    "\n",
    "\n",
    "ConfusionMatrixDisplay.from_predictions(y_test_grouped, pred2,ax=axes[0],\n",
    "                                        cmap='Blues', normalize = None)\n",
    "\n",
    "ConfusionMatrixDisplay.from_predictions(y_test_grouped, pred2,ax=axes[1],\n",
    "                                        cmap='Blues', normalize = 'true')\n",
    "\n",
    "plt.tight_layout()  \n",
    "plt.show()"
   ]
  },
  {
   "cell_type": "code",
   "execution_count": 55,
   "id": "2c6e7833",
   "metadata": {},
   "outputs": [],
   "source": [
    "def compute_confusion_matrix(labels, outputs):\n",
    "    assert(np.shape(labels)[0] == np.shape(outputs)[0])\n",
    "    assert(all(value in (0, 1, True, False) for value in np.unique(labels)))\n",
    "    assert(all(value in (0, 1, True, False) for value in np.unique(outputs)))\n",
    "\n",
    "    num_patients = np.shape(labels)[0]\n",
    "    num_label_classes = np.shape(labels)[1]\n",
    "    num_output_classes = np.shape(outputs)[1]\n",
    "\n",
    "    A = np.zeros((num_output_classes, num_label_classes))\n",
    "    for k in range(num_patients):\n",
    "        for i in range(num_output_classes):\n",
    "            for j in range(num_label_classes):\n",
    "                if outputs[k, i] == 1 and labels[k, j] == 1:\n",
    "                    A[i, j] += 1\n",
    "\n",
    "    return A"
   ]
  },
  {
   "cell_type": "code",
   "execution_count": 56,
   "id": "f5ab43a6",
   "metadata": {},
   "outputs": [
    {
     "data": {
      "text/plain": [
       "array([[124.,   9.],\n",
       "       [ 16.,  26.]])"
      ]
     },
     "execution_count": 56,
     "metadata": {},
     "output_type": "execute_result"
    }
   ],
   "source": [
    "from sklearn.preprocessing import LabelBinarizer\n",
    "\n",
    "def reshape_binary(bin_list):\n",
    "    labels = bin_list  # your binary labels\n",
    "    lb = LabelBinarizer()\n",
    "    labels = lb.fit_transform(labels)\n",
    "    # If your labels are all 0's and 1's, then `LabelBinarizer` will output a 2D array with one column.\n",
    "    # Since your function expects labels for both classes, you need to add the second column manually.\n",
    "    if labels.shape[1] == 1:\n",
    "        labels = np.hstack((1 - labels, labels))  # add second column as the negation of the first column\n",
    "    return labels\n",
    "\n",
    "resh_labels = reshape_binary(y_true)\n",
    "resh_pred = reshape_binary(y_pred)\n",
    "compute_confusion_matrix(resh_labels, resh_pred)"
   ]
  },
  {
   "cell_type": "code",
   "execution_count": 41,
   "id": "73fc8281",
   "metadata": {},
   "outputs": [],
   "source": [
    "def compute_weighted_accuracy(labels, outputs):\n",
    "    \n",
    "    weights = np.array([[1,5], [1,5]])\n",
    "    # Compute confusion matrix.\n",
    "    assert(np.shape(labels) == np.shape(outputs))\n",
    "    A = compute_confusion_matrix(labels, outputs)\n",
    "\n",
    "    # Multiply the confusion matrix by the weight matrix.\n",
    "    assert(np.shape(A) == np.shape(weights))\n",
    "    B = weights * A\n",
    "\n",
    "    # Compute weighted_accuracy.\n",
    "    if np.sum(B) > 0:\n",
    "        weighted_accuracy = np.trace(B) / np.sum(B)\n",
    "    else:\n",
    "        weighted_accuracy = float('nan')\n",
    "\n",
    "    return weighted_accuracy"
   ]
  },
  {
   "cell_type": "code",
   "execution_count": 62,
   "id": "3dee41e9",
   "metadata": {},
   "outputs": [
    {
     "data": {
      "text/plain": [
       "0.8176638176638177"
      ]
     },
     "execution_count": 62,
     "metadata": {},
     "output_type": "execute_result"
    }
   ],
   "source": [
    "compute_weighted_accuracy(resh_labels, resh_pred)"
   ]
  },
  {
   "cell_type": "code",
   "execution_count": null,
   "id": "66c96970",
   "metadata": {},
   "outputs": [],
   "source": []
  }
 ],
 "metadata": {
  "kernelspec": {
   "display_name": "Python 3 (ipykernel)",
   "language": "python",
   "name": "python3"
  },
  "language_info": {
   "codemirror_mode": {
    "name": "ipython",
    "version": 3
   },
   "file_extension": ".py",
   "mimetype": "text/x-python",
   "name": "python",
   "nbconvert_exporter": "python",
   "pygments_lexer": "ipython3",
   "version": "3.10.9"
  }
 },
 "nbformat": 4,
 "nbformat_minor": 5
}
