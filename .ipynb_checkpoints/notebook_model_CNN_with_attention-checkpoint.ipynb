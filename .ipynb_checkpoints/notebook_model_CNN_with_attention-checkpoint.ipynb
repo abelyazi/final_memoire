{
 "cells": [
  {
   "cell_type": "code",
   "execution_count": 1,
   "id": "0b997f16",
   "metadata": {},
   "outputs": [],
   "source": [
    "%load_ext tensorboard"
   ]
  },
  {
   "cell_type": "code",
   "execution_count": 2,
   "id": "eada695a",
   "metadata": {
    "ExecuteTime": {
     "end_time": "2023-06-22T20:27:28.338325Z",
     "start_time": "2023-06-22T20:27:28.325752Z"
    },
    "id": "QRGvE-Pt3x3c"
   },
   "outputs": [
    {
     "name": "stderr",
     "output_type": "stream",
     "text": [
      "2023-07-26 02:21:25.020835: I tensorflow/core/util/port.cc:110] oneDNN custom operations are on. You may see slightly different numerical results due to floating-point round-off errors from different computation orders. To turn them off, set the environment variable `TF_ENABLE_ONEDNN_OPTS=0`.\n",
      "2023-07-26 02:21:25.042371: I tensorflow/core/platform/cpu_feature_guard.cc:182] This TensorFlow binary is optimized to use available CPU instructions in performance-critical operations.\n",
      "To enable the following instructions: AVX2 AVX_VNNI FMA, in other operations, rebuild TensorFlow with the appropriate compiler flags.\n",
      "2023-07-26 02:21:25.399940: W tensorflow/compiler/tf2tensorrt/utils/py_utils.cc:38] TF-TRT Warning: Could not find TensorRT\n"
     ]
    },
    {
     "name": "stdout",
     "output_type": "stream",
     "text": [
      "Num GPUs Available:  1\n"
     ]
    },
    {
     "name": "stderr",
     "output_type": "stream",
     "text": [
      "2023-07-26 02:21:26.851051: I tensorflow/compiler/xla/stream_executor/cuda/cuda_gpu_executor.cc:995] successful NUMA node read from SysFS had negative value (-1), but there must be at least one NUMA node, so returning NUMA node zero. See more at https://github.com/torvalds/linux/blob/v6.0/Documentation/ABI/testing/sysfs-bus-pci#L344-L355\n",
      "2023-07-26 02:21:26.851582: I tensorflow/compiler/xla/stream_executor/cuda/cuda_gpu_executor.cc:995] successful NUMA node read from SysFS had negative value (-1), but there must be at least one NUMA node, so returning NUMA node zero. See more at https://github.com/torvalds/linux/blob/v6.0/Documentation/ABI/testing/sysfs-bus-pci#L344-L355\n",
      "2023-07-26 02:21:26.851811: I tensorflow/compiler/xla/stream_executor/cuda/cuda_gpu_executor.cc:995] successful NUMA node read from SysFS had negative value (-1), but there must be at least one NUMA node, so returning NUMA node zero. See more at https://github.com/torvalds/linux/blob/v6.0/Documentation/ABI/testing/sysfs-bus-pci#L344-L355\n"
     ]
    }
   ],
   "source": [
    "import sys\n",
    "import tensorflow as tf\n",
    "import matplotlib.pyplot as plt\n",
    "from sklearn import metrics\n",
    "from sklearn.impute import SimpleImputer\n",
    "from sklearn.metrics import accuracy_score\n",
    "import numpy as np, scipy as sp, scipy.stats, os, sys, joblib\n",
    "import os, numpy as np, scipy as sp, scipy.io, scipy.io.wavfile\n",
    "from sklearn.ensemble import RandomForestClassifier\n",
    "from sklearn.model_selection import train_test_split\n",
    "from sklearn.metrics import ConfusionMatrixDisplay\n",
    "from sklearn.metrics import confusion_matrix\n",
    "from sklearn.metrics import balanced_accuracy_score\n",
    "from sklearn.utils import class_weight\n",
    "import random\n",
    "import pandas as pd\n",
    "import importlib\n",
    "import datetime\n",
    "import useful_functions\n",
    "import preprocessing_functions\n",
    "import Chatgpt_model\n",
    "import results_functions\n",
    "import metrics_loss_functions\n",
    "print(\"Num GPUs Available: \", len(tf.config.list_physical_devices('GPU')))"
   ]
  },
  {
   "cell_type": "code",
   "execution_count": 3,
   "id": "89021430",
   "metadata": {
    "ExecuteTime": {
     "end_time": "2023-06-22T20:28:02.185714Z",
     "start_time": "2023-06-22T20:28:02.152645Z"
    }
   },
   "outputs": [],
   "source": [
    "importlib.reload(useful_functions)\n",
    "importlib.reload(preprocessing_functions)\n",
    "importlib.reload(Chatgpt_model)\n",
    "from useful_functions import *\n",
    "from preprocessing_functions import *\n",
    "from Chatgpt_model import *"
   ]
  },
  {
   "cell_type": "code",
   "execution_count": 4,
   "id": "a411c3a7",
   "metadata": {},
   "outputs": [],
   "source": [
    " # Define the data and model foldes.\n",
    "data_folder = r\"../training_data\"\n",
    "model_folder = r\"../model\"\n",
    "wind_size = 6000\n",
    "verbose = 3"
   ]
  },
  {
   "cell_type": "code",
   "execution_count": 5,
   "id": "c8b4da30",
   "metadata": {},
   "outputs": [
    {
     "data": {
      "text/html": [
       "<div>\n",
       "<style scoped>\n",
       "    .dataframe tbody tr th:only-of-type {\n",
       "        vertical-align: middle;\n",
       "    }\n",
       "\n",
       "    .dataframe tbody tr th {\n",
       "        vertical-align: top;\n",
       "    }\n",
       "\n",
       "    .dataframe thead th {\n",
       "        text-align: right;\n",
       "    }\n",
       "</style>\n",
       "<table border=\"1\" class=\"dataframe\">\n",
       "  <thead>\n",
       "    <tr style=\"text-align: right;\">\n",
       "      <th></th>\n",
       "      <th>patient_id</th>\n",
       "      <th>recording_type</th>\n",
       "      <th>recording</th>\n",
       "      <th>murmur</th>\n",
       "    </tr>\n",
       "  </thead>\n",
       "  <tbody>\n",
       "    <tr>\n",
       "      <th>0</th>\n",
       "      <td>2530.0</td>\n",
       "      <td>1.0</td>\n",
       "      <td>[254.62053374948147, 332.41397606699405, -727....</td>\n",
       "      <td>0.0</td>\n",
       "    </tr>\n",
       "    <tr>\n",
       "      <th>1</th>\n",
       "      <td>2530.0</td>\n",
       "      <td>1.0</td>\n",
       "      <td>[20.550841480663475, -18.884669077279337, 152....</td>\n",
       "      <td>0.0</td>\n",
       "    </tr>\n",
       "    <tr>\n",
       "      <th>2</th>\n",
       "      <td>2530.0</td>\n",
       "      <td>1.0</td>\n",
       "      <td>[2296.0082592261, 1161.8953810714854, 106.9764...</td>\n",
       "      <td>0.0</td>\n",
       "    </tr>\n",
       "    <tr>\n",
       "      <th>3</th>\n",
       "      <td>2530.0</td>\n",
       "      <td>1.0</td>\n",
       "      <td>[-1.2132347511973676, -24.042684343382245, -14...</td>\n",
       "      <td>0.0</td>\n",
       "    </tr>\n",
       "    <tr>\n",
       "      <th>4</th>\n",
       "      <td>2530.0</td>\n",
       "      <td>1.0</td>\n",
       "      <td>[219.40892010033423, 106.21377642082071, 296.9...</td>\n",
       "      <td>0.0</td>\n",
       "    </tr>\n",
       "  </tbody>\n",
       "</table>\n",
       "</div>"
      ],
      "text/plain": [
       "   patient_id  recording_type  \\\n",
       "0      2530.0             1.0   \n",
       "1      2530.0             1.0   \n",
       "2      2530.0             1.0   \n",
       "3      2530.0             1.0   \n",
       "4      2530.0             1.0   \n",
       "\n",
       "                                           recording  murmur  \n",
       "0  [254.62053374948147, 332.41397606699405, -727....     0.0  \n",
       "1  [20.550841480663475, -18.884669077279337, 152....     0.0  \n",
       "2  [2296.0082592261, 1161.8953810714854, 106.9764...     0.0  \n",
       "3  [-1.2132347511973676, -24.042684343382245, -14...     0.0  \n",
       "4  [219.40892010033423, 106.21377642082071, 296.9...     0.0  "
      ]
     },
     "execution_count": 5,
     "metadata": {},
     "output_type": "execute_result"
    }
   ],
   "source": [
    "recordings,patient_label,patient_id = create_rec_patient_list(data_folder)\n",
    "df = build_dataset_df(recordings,patient_id,patient_label,wind_size)\n",
    "df.head()"
   ]
  },
  {
   "cell_type": "code",
   "execution_count": 6,
   "id": "8c066276",
   "metadata": {
    "ExecuteTime": {
     "end_time": "2023-04-28T19:30:19.950046Z",
     "start_time": "2023-04-28T19:30:19.849971Z"
    },
    "id": "P9HTtXrm78dV"
   },
   "outputs": [],
   "source": [
    "# check correctness of dataframe loaded\n",
    "for i in range(df.shape[0]):\n",
    "  if len(df[\"recording\"][i]) != wind_size:\n",
    "    print(\"problem sir\")"
   ]
  },
  {
   "cell_type": "code",
   "execution_count": 7,
   "id": "704c5b24",
   "metadata": {
    "ExecuteTime": {
     "end_time": "2023-04-28T19:30:20.212107Z",
     "start_time": "2023-04-28T19:30:20.210980Z"
    },
    "id": "fElXRT5T4a36"
   },
   "outputs": [],
   "source": [
    "# select only two columns\n",
    "new_df = df[['patient_id', 'murmur']]\n",
    "new_df = new_df.drop_duplicates()\n",
    "new_df = new_df.reset_index(drop=True)"
   ]
  },
  {
   "cell_type": "code",
   "execution_count": 8,
   "id": "cf46440a",
   "metadata": {
    "ExecuteTime": {
     "end_time": "2023-04-28T19:30:20.478399Z",
     "start_time": "2023-04-28T19:30:20.402161Z"
    },
    "colab": {
     "base_uri": "https://localhost:8080/"
    },
    "id": "6T9wZX1WyE83",
    "outputId": "d3fbb777-7c62-410b-fc50-0621a5692645"
   },
   "outputs": [
    {
     "name": "stdout",
     "output_type": "stream",
     "text": [
      "179\n",
      "695\n"
     ]
    }
   ],
   "source": [
    "# check murmur/non-murmur balance\n",
    "nb_murmur_present = (new_df.loc[new_df['murmur'] == 1]).shape[0]\n",
    "nb_murmur_absent = (new_df.loc[new_df['murmur'] == 0]).shape[0]\n",
    "print(nb_murmur_present)\n",
    "print(nb_murmur_absent)"
   ]
  },
  {
   "cell_type": "code",
   "execution_count": 9,
   "id": "af1d9aaa",
   "metadata": {
    "ExecuteTime": {
     "end_time": "2023-04-28T19:30:20.729364Z",
     "start_time": "2023-04-28T19:30:20.665901Z"
    },
    "colab": {
     "base_uri": "https://localhost:8080/",
     "height": 424
    },
    "id": "mzg9rqHzxyal",
    "outputId": "b703a36e-c0e1-42f6-bf19-54cf7bd0851e"
   },
   "outputs": [
    {
     "data": {
      "text/html": [
       "<div>\n",
       "<style scoped>\n",
       "    .dataframe tbody tr th:only-of-type {\n",
       "        vertical-align: middle;\n",
       "    }\n",
       "\n",
       "    .dataframe tbody tr th {\n",
       "        vertical-align: top;\n",
       "    }\n",
       "\n",
       "    .dataframe thead th {\n",
       "        text-align: right;\n",
       "    }\n",
       "</style>\n",
       "<table border=\"1\" class=\"dataframe\">\n",
       "  <thead>\n",
       "    <tr style=\"text-align: right;\">\n",
       "      <th></th>\n",
       "      <th>patient_id</th>\n",
       "      <th>murmur</th>\n",
       "    </tr>\n",
       "  </thead>\n",
       "  <tbody>\n",
       "    <tr>\n",
       "      <th>0</th>\n",
       "      <td>2530.0</td>\n",
       "      <td>0.0</td>\n",
       "    </tr>\n",
       "    <tr>\n",
       "      <th>1</th>\n",
       "      <td>9979.0</td>\n",
       "      <td>1.0</td>\n",
       "    </tr>\n",
       "    <tr>\n",
       "      <th>2</th>\n",
       "      <td>13918.0</td>\n",
       "      <td>1.0</td>\n",
       "    </tr>\n",
       "    <tr>\n",
       "      <th>3</th>\n",
       "      <td>14241.0</td>\n",
       "      <td>1.0</td>\n",
       "    </tr>\n",
       "    <tr>\n",
       "      <th>4</th>\n",
       "      <td>14998.0</td>\n",
       "      <td>0.0</td>\n",
       "    </tr>\n",
       "    <tr>\n",
       "      <th>...</th>\n",
       "      <td>...</td>\n",
       "      <td>...</td>\n",
       "    </tr>\n",
       "    <tr>\n",
       "      <th>869</th>\n",
       "      <td>85340.0</td>\n",
       "      <td>0.0</td>\n",
       "    </tr>\n",
       "    <tr>\n",
       "      <th>870</th>\n",
       "      <td>85341.0</td>\n",
       "      <td>0.0</td>\n",
       "    </tr>\n",
       "    <tr>\n",
       "      <th>871</th>\n",
       "      <td>85343.0</td>\n",
       "      <td>1.0</td>\n",
       "    </tr>\n",
       "    <tr>\n",
       "      <th>872</th>\n",
       "      <td>85345.0</td>\n",
       "      <td>0.0</td>\n",
       "    </tr>\n",
       "    <tr>\n",
       "      <th>873</th>\n",
       "      <td>85349.0</td>\n",
       "      <td>0.0</td>\n",
       "    </tr>\n",
       "  </tbody>\n",
       "</table>\n",
       "<p>874 rows × 2 columns</p>\n",
       "</div>"
      ],
      "text/plain": [
       "     patient_id  murmur\n",
       "0        2530.0     0.0\n",
       "1        9979.0     1.0\n",
       "2       13918.0     1.0\n",
       "3       14241.0     1.0\n",
       "4       14998.0     0.0\n",
       "..          ...     ...\n",
       "869     85340.0     0.0\n",
       "870     85341.0     0.0\n",
       "871     85343.0     1.0\n",
       "872     85345.0     0.0\n",
       "873     85349.0     0.0\n",
       "\n",
       "[874 rows x 2 columns]"
      ]
     },
     "execution_count": 9,
     "metadata": {},
     "output_type": "execute_result"
    }
   ],
   "source": [
    "# display\n",
    "new_df"
   ]
  },
  {
   "cell_type": "code",
   "execution_count": 10,
   "id": "52368980",
   "metadata": {
    "ExecuteTime": {
     "end_time": "2023-04-28T19:30:20.900406Z",
     "start_time": "2023-04-28T19:30:20.872700Z"
    },
    "id": "Un2S1LxU675v"
   },
   "outputs": [],
   "source": [
    "# complete list of distinct patient id's and corresponding label\n",
    "list_id = new_df['patient_id']\n",
    "list_label = new_df['murmur']"
   ]
  },
  {
   "cell_type": "code",
   "execution_count": 11,
   "id": "814df570",
   "metadata": {
    "ExecuteTime": {
     "end_time": "2023-04-28T19:30:22.427855Z",
     "start_time": "2023-04-28T19:30:22.330256Z"
    },
    "id": "uR6aqz5g9oOj"
   },
   "outputs": [],
   "source": [
    "id_train, id_valtest, label_train, label_valtest = train_test_split(list_id, list_label , test_size=0.4, random_state=42)\n",
    "id_val, id_test, label_val, label_test = train_test_split(id_valtest, label_valtest , test_size=0.5, random_state=42)"
   ]
  },
  {
   "cell_type": "code",
   "execution_count": 12,
   "id": "7f3253d4",
   "metadata": {
    "ExecuteTime": {
     "end_time": "2023-04-28T19:30:22.805600Z",
     "start_time": "2023-04-28T19:30:22.633347Z"
    },
    "id": "BlEJD1ce4H1O"
   },
   "outputs": [],
   "source": [
    "def select_rows(id_list,dframe):\n",
    "  #for id in list_id:\n",
    "  sub_df = dframe.loc[dframe['patient_id'].isin([int(id) for id in id_list])]\n",
    "  return sub_df\n",
    "\n",
    "df_train = select_rows(id_train,df)\n",
    "df_val = select_rows(id_val,df)\n",
    "df_test = select_rows(id_test,df)"
   ]
  },
  {
   "cell_type": "code",
   "execution_count": 13,
   "id": "65d7faab",
   "metadata": {
    "ExecuteTime": {
     "end_time": "2023-04-28T19:30:23.019154Z",
     "start_time": "2023-04-28T19:30:22.890730Z"
    },
    "colab": {
     "base_uri": "https://localhost:8080/"
    },
    "id": "E2w-MxY1_ClQ",
    "outputId": "d8b06ceb-2d69-4941-a7dd-cb34b1591e7f"
   },
   "outputs": [
    {
     "name": "stdout",
     "output_type": "stream",
     "text": [
      "Number of Murmur present :  2697\n",
      "Number of Murmur absent :  11832\n"
     ]
    }
   ],
   "source": [
    "print(\"Number of Murmur present : \",(df_train.loc[df_train['murmur'] == 1]).shape[0])\n",
    "print(\"Number of Murmur absent : \",(df_train.loc[df_train['murmur'] == 0]).shape[0])"
   ]
  },
  {
   "cell_type": "code",
   "execution_count": 14,
   "id": "fa107a23",
   "metadata": {
    "ExecuteTime": {
     "end_time": "2023-04-28T19:30:23.135492Z",
     "start_time": "2023-04-28T19:30:23.031706Z"
    },
    "id": "jfbOL3Un_ESV"
   },
   "outputs": [],
   "source": [
    "X_train = np.vstack(df_train['recording'])\n",
    "y_train = np.array(df_train['murmur'])\n",
    "\n",
    "X_val = np.vstack(df_val['recording'])\n",
    "y_val = np.array(df_val['murmur'])\n",
    "\n",
    "X_test = np.vstack(df_test['recording'])\n",
    "y_test = np.array(df_test['murmur'])"
   ]
  },
  {
   "cell_type": "code",
   "execution_count": 15,
   "id": "4221bb83",
   "metadata": {},
   "outputs": [
    {
     "name": "stdout",
     "output_type": "stream",
     "text": [
      "<class 'numpy.ndarray'>\n",
      "<class 'numpy.ndarray'>\n"
     ]
    }
   ],
   "source": [
    "print(type(y_val))\n",
    "print(type(np.array(y_val)))"
   ]
  },
  {
   "cell_type": "code",
   "execution_count": 16,
   "id": "29aaaf54",
   "metadata": {
    "ExecuteTime": {
     "end_time": "2023-04-28T19:30:23.394668Z",
     "start_time": "2023-04-28T19:30:23.343654Z"
    },
    "id": "YAlU7MUoCi6r"
   },
   "outputs": [],
   "source": [
    "X_train = X_train.reshape(len(X_train),len(X_train[1]),1)\n",
    "X_val = X_val.reshape(len(X_val),len(X_val[1]),1)\n",
    "X_test = X_test.reshape(len(X_test),len(X_test[1]),1)"
   ]
  },
  {
   "cell_type": "code",
   "execution_count": 280,
   "id": "751d25ab",
   "metadata": {
    "ExecuteTime": {
     "end_time": "2023-04-28T19:30:23.566721Z",
     "start_time": "2023-04-28T19:30:23.565669Z"
    }
   },
   "outputs": [
    {
     "data": {
      "text/plain": [
       "(14529, 6000, 1)"
      ]
     },
     "execution_count": 280,
     "metadata": {},
     "output_type": "execute_result"
    }
   ],
   "source": [
    "X_train.shape"
   ]
  },
  {
   "cell_type": "code",
   "execution_count": 288,
   "id": "fd4719ea",
   "metadata": {
    "ExecuteTime": {
     "end_time": "2023-04-28T19:30:23.833671Z",
     "start_time": "2023-04-28T19:30:23.810191Z"
    }
   },
   "outputs": [],
   "source": [
    "importlib.reload(Chatgpt_model)\n",
    "from Chatgpt_model import *\n",
    "\n",
    "model = create_small_model(input_shape=X_train.shape[1:])\n",
    "\n",
    "\n",
    "#model = make_model(input_shape=X_train.shape[1:])"
   ]
  },
  {
   "cell_type": "code",
   "execution_count": 289,
   "id": "847851a7",
   "metadata": {
    "ExecuteTime": {
     "end_time": "2023-04-28T19:30:24.050572Z",
     "start_time": "2023-04-28T19:30:24.031597Z"
    },
    "colab": {
     "base_uri": "https://localhost:8080/"
    },
    "id": "f_gayKfl_qdh",
    "outputId": "cbb9656e-720f-4852-ab80-34cda175fbff",
    "scrolled": true
   },
   "outputs": [
    {
     "name": "stdout",
     "output_type": "stream",
     "text": [
      "Model: \"model_27\"\n",
      "__________________________________________________________________________________________________\n",
      " Layer (type)                Output Shape                 Param #   Connected to                  \n",
      "==================================================================================================\n",
      " input_35 (InputLayer)       [(None, 6000, 1)]            0         []                            \n",
      "                                                                                                  \n",
      " conv1d_1702 (Conv1D)        (None, 3000, 12)             96        ['input_35[0][0]']            \n",
      "                                                                                                  \n",
      " max_pooling1d_27 (MaxPooli  (None, 1500, 12)             0         ['conv1d_1702[1][0]']         \n",
      " ng1D)                                                                                            \n",
      "                                                                                                  \n",
      " batch_normalization_2538 (  (None, 1500, 12)             48        ['max_pooling1d_27[1][0]']    \n",
      " BatchNormalization)                                                                              \n",
      "                                                                                                  \n",
      " conv1d_1703 (Conv1D)        (None, 1500, 72)             936       ['batch_normalization_2538[1][\n",
      "                                                                    0]']                          \n",
      "                                                                                                  \n",
      " batch_normalization_2539 (  (None, 1500, 72)             288       ['conv1d_1703[1][0]']         \n",
      " BatchNormalization)                                                                              \n",
      "                                                                                                  \n",
      " re_lu_1728 (ReLU)           (None, 1500, 72)             0         ['batch_normalization_2539[1][\n",
      "                                                                    0]']                          \n",
      "                                                                                                  \n",
      " depthwise_conv1d_810 (Dept  (None, 1500, 72)             288       ['re_lu_1728[1][0]']          \n",
      " hwiseConv1D)                                                                                     \n",
      "                                                                                                  \n",
      " batch_normalization_2540 (  (None, 1500, 72)             288       ['depthwise_conv1d_810[1][0]']\n",
      " BatchNormalization)                                                                              \n",
      "                                                                                                  \n",
      " re_lu_1729 (ReLU)           (None, 1500, 72)             0         ['batch_normalization_2540[1][\n",
      "                                                                    0]']                          \n",
      "                                                                                                  \n",
      " conv1d_1704 (Conv1D)        (None, 1500, 12)             876       ['re_lu_1729[1][0]']          \n",
      "                                                                                                  \n",
      " concatenate_864 (Concatena  (None, 1500, 24)             0         ['max_pooling1d_27[1][0]',    \n",
      " te)                                                                 'conv1d_1704[1][0]']         \n",
      "                                                                                                  \n",
      " batch_normalization_2541 (  (None, 1500, 24)             96        ['concatenate_864[1][0]']     \n",
      " BatchNormalization)                                                                              \n",
      "                                                                                                  \n",
      " conv1d_1705 (Conv1D)        (None, 1500, 144)            3600      ['batch_normalization_2541[1][\n",
      "                                                                    0]']                          \n",
      "                                                                                                  \n",
      " batch_normalization_2542 (  (None, 1500, 144)            576       ['conv1d_1705[1][0]']         \n",
      " BatchNormalization)                                                                              \n",
      "                                                                                                  \n",
      " re_lu_1730 (ReLU)           (None, 1500, 144)            0         ['batch_normalization_2542[1][\n",
      "                                                                    0]']                          \n",
      "                                                                                                  \n",
      " depthwise_conv1d_811 (Dept  (None, 1500, 144)            576       ['re_lu_1730[1][0]']          \n",
      " hwiseConv1D)                                                                                     \n",
      "                                                                                                  \n",
      " batch_normalization_2543 (  (None, 1500, 144)            576       ['depthwise_conv1d_811[1][0]']\n",
      " BatchNormalization)                                                                              \n",
      "                                                                                                  \n",
      " re_lu_1731 (ReLU)           (None, 1500, 144)            0         ['batch_normalization_2543[1][\n",
      "                                                                    0]']                          \n",
      "                                                                                                  \n",
      " conv1d_1706 (Conv1D)        (None, 1500, 12)             1740      ['re_lu_1731[1][0]']          \n",
      "                                                                                                  \n",
      " concatenate_865 (Concatena  (None, 1500, 36)             0         ['max_pooling1d_27[1][0]',    \n",
      " te)                                                                 'conv1d_1704[1][0]',         \n",
      "                                                                     'conv1d_1706[1][0]']         \n",
      "                                                                                                  \n",
      " batch_normalization_2544 (  (None, 1500, 36)             144       ['concatenate_865[1][0]']     \n",
      " BatchNormalization)                                                                              \n",
      "                                                                                                  \n",
      " conv1d_1707 (Conv1D)        (None, 1500, 216)            7992      ['batch_normalization_2544[1][\n",
      "                                                                    0]']                          \n",
      "                                                                                                  \n",
      " batch_normalization_2545 (  (None, 1500, 216)            864       ['conv1d_1707[1][0]']         \n",
      " BatchNormalization)                                                                              \n",
      "                                                                                                  \n",
      " re_lu_1732 (ReLU)           (None, 1500, 216)            0         ['batch_normalization_2545[1][\n",
      "                                                                    0]']                          \n",
      "                                                                                                  \n",
      " depthwise_conv1d_812 (Dept  (None, 1500, 216)            864       ['re_lu_1732[1][0]']          \n",
      " hwiseConv1D)                                                                                     \n",
      "                                                                                                  \n",
      " batch_normalization_2546 (  (None, 1500, 216)            864       ['depthwise_conv1d_812[1][0]']\n",
      " BatchNormalization)                                                                              \n",
      "                                                                                                  \n",
      " re_lu_1733 (ReLU)           (None, 1500, 216)            0         ['batch_normalization_2546[1][\n",
      "                                                                    0]']                          \n"
     ]
    },
    {
     "name": "stdout",
     "output_type": "stream",
     "text": [
      "                                                                                                  \n",
      " conv1d_1708 (Conv1D)        (None, 1500, 12)             2604      ['re_lu_1733[1][0]']          \n",
      "                                                                                                  \n",
      " concatenate_866 (Concatena  (None, 1500, 48)             0         ['max_pooling1d_27[1][0]',    \n",
      " te)                                                                 'conv1d_1704[1][0]',         \n",
      "                                                                     'conv1d_1706[1][0]',         \n",
      "                                                                     'conv1d_1708[1][0]']         \n",
      "                                                                                                  \n",
      " batch_normalization_2547 (  (None, 1500, 48)             192       ['concatenate_866[1][0]']     \n",
      " BatchNormalization)                                                                              \n",
      "                                                                                                  \n",
      " conv1d_1709 (Conv1D)        (None, 1500, 288)            14112     ['batch_normalization_2547[1][\n",
      "                                                                    0]']                          \n",
      "                                                                                                  \n",
      " batch_normalization_2548 (  (None, 1500, 288)            1152      ['conv1d_1709[1][0]']         \n",
      " BatchNormalization)                                                                              \n",
      "                                                                                                  \n",
      " re_lu_1734 (ReLU)           (None, 1500, 288)            0         ['batch_normalization_2548[1][\n",
      "                                                                    0]']                          \n",
      "                                                                                                  \n",
      " depthwise_conv1d_813 (Dept  (None, 1500, 288)            1152      ['re_lu_1734[1][0]']          \n",
      " hwiseConv1D)                                                                                     \n",
      "                                                                                                  \n",
      " batch_normalization_2549 (  (None, 1500, 288)            1152      ['depthwise_conv1d_813[1][0]']\n",
      " BatchNormalization)                                                                              \n",
      "                                                                                                  \n",
      " re_lu_1735 (ReLU)           (None, 1500, 288)            0         ['batch_normalization_2549[1][\n",
      "                                                                    0]']                          \n",
      "                                                                                                  \n",
      " conv1d_1710 (Conv1D)        (None, 1500, 12)             3468      ['re_lu_1735[1][0]']          \n",
      "                                                                                                  \n",
      " concatenate_867 (Concatena  (None, 1500, 60)             0         ['max_pooling1d_27[1][0]',    \n",
      " te)                                                                 'conv1d_1704[1][0]',         \n",
      "                                                                     'conv1d_1706[1][0]',         \n",
      "                                                                     'conv1d_1708[1][0]',         \n",
      "                                                                     'conv1d_1710[1][0]']         \n",
      "                                                                                                  \n",
      " batch_normalization_2550 (  (None, 1500, 60)             240       ['concatenate_867[1][0]']     \n",
      " BatchNormalization)                                                                              \n",
      "                                                                                                  \n",
      " conv1d_1711 (Conv1D)        (None, 1500, 360)            21960     ['batch_normalization_2550[1][\n",
      "                                                                    0]']                          \n",
      "                                                                                                  \n",
      " batch_normalization_2551 (  (None, 1500, 360)            1440      ['conv1d_1711[1][0]']         \n",
      " BatchNormalization)                                                                              \n",
      "                                                                                                  \n",
      " re_lu_1736 (ReLU)           (None, 1500, 360)            0         ['batch_normalization_2551[1][\n",
      "                                                                    0]']                          \n",
      "                                                                                                  \n",
      " depthwise_conv1d_814 (Dept  (None, 1500, 360)            1440      ['re_lu_1736[1][0]']          \n",
      " hwiseConv1D)                                                                                     \n",
      "                                                                                                  \n",
      " batch_normalization_2552 (  (None, 1500, 360)            1440      ['depthwise_conv1d_814[1][0]']\n",
      " BatchNormalization)                                                                              \n",
      "                                                                                                  \n",
      " re_lu_1737 (ReLU)           (None, 1500, 360)            0         ['batch_normalization_2552[1][\n",
      "                                                                    0]']                          \n",
      "                                                                                                  \n",
      " conv1d_1712 (Conv1D)        (None, 1500, 12)             4332      ['re_lu_1737[1][0]']          \n",
      "                                                                                                  \n",
      " concatenate_868 (Concatena  (None, 1500, 36)             0         ['conv1d_1708[1][0]',         \n",
      " te)                                                                 'conv1d_1710[1][0]',         \n",
      "                                                                     'conv1d_1712[1][0]']         \n",
      "                                                                                                  \n",
      " batch_normalization_2553 (  (None, 1500, 36)             144       ['concatenate_868[1][0]']     \n",
      " BatchNormalization)                                                                              \n",
      "                                                                                                  \n",
      " conv1d_1713 (Conv1D)        (None, 1500, 216)            7992      ['batch_normalization_2553[1][\n",
      "                                                                    0]']                          \n",
      "                                                                                                  \n",
      " batch_normalization_2554 (  (None, 1500, 216)            864       ['conv1d_1713[1][0]']         \n",
      " BatchNormalization)                                                                              \n",
      "                                                                                                  \n",
      " re_lu_1738 (ReLU)           (None, 1500, 216)            0         ['batch_normalization_2554[1][\n",
      "                                                                    0]']                          \n",
      "                                                                                                  \n",
      " depthwise_conv1d_815 (Dept  (None, 1500, 216)            864       ['re_lu_1738[1][0]']          \n",
      " hwiseConv1D)                                                                                     \n",
      "                                                                                                  \n",
      " batch_normalization_2555 (  (None, 1500, 216)            864       ['depthwise_conv1d_815[1][0]']\n",
      " BatchNormalization)                                                                              \n",
      "                                                                                                  \n",
      " re_lu_1739 (ReLU)           (None, 1500, 216)            0         ['batch_normalization_2555[1][\n"
     ]
    },
    {
     "name": "stdout",
     "output_type": "stream",
     "text": [
      "                                                                    0]']                          \n",
      "                                                                                                  \n",
      " conv1d_1714 (Conv1D)        (None, 1500, 12)             2604      ['re_lu_1739[1][0]']          \n",
      "                                                                                                  \n",
      " concatenate_869 (Concatena  (None, 1500, 36)             0         ['conv1d_1710[1][0]',         \n",
      " te)                                                                 'conv1d_1712[1][0]',         \n",
      "                                                                     'conv1d_1714[1][0]']         \n",
      "                                                                                                  \n",
      " batch_normalization_2556 (  (None, 1500, 36)             144       ['concatenate_869[1][0]']     \n",
      " BatchNormalization)                                                                              \n",
      "                                                                                                  \n",
      " conv1d_1715 (Conv1D)        (None, 1500, 216)            7992      ['batch_normalization_2556[1][\n",
      "                                                                    0]']                          \n",
      "                                                                                                  \n",
      " batch_normalization_2557 (  (None, 1500, 216)            864       ['conv1d_1715[1][0]']         \n",
      " BatchNormalization)                                                                              \n",
      "                                                                                                  \n",
      " re_lu_1740 (ReLU)           (None, 1500, 216)            0         ['batch_normalization_2557[1][\n",
      "                                                                    0]']                          \n",
      "                                                                                                  \n",
      " depthwise_conv1d_816 (Dept  (None, 1500, 216)            864       ['re_lu_1740[1][0]']          \n",
      " hwiseConv1D)                                                                                     \n",
      "                                                                                                  \n",
      " batch_normalization_2558 (  (None, 1500, 216)            864       ['depthwise_conv1d_816[1][0]']\n",
      " BatchNormalization)                                                                              \n",
      "                                                                                                  \n",
      " re_lu_1741 (ReLU)           (None, 1500, 216)            0         ['batch_normalization_2558[1][\n",
      "                                                                    0]']                          \n",
      "                                                                                                  \n",
      " conv1d_1716 (Conv1D)        (None, 1500, 12)             2604      ['re_lu_1741[1][0]']          \n",
      "                                                                                                  \n",
      " concatenate_870 (Concatena  (None, 1500, 36)             0         ['conv1d_1712[1][0]',         \n",
      " te)                                                                 'conv1d_1714[1][0]',         \n",
      "                                                                     'conv1d_1716[1][0]']         \n",
      "                                                                                                  \n",
      " batch_normalization_2559 (  (None, 1500, 36)             144       ['concatenate_870[1][0]']     \n",
      " BatchNormalization)                                                                              \n",
      "                                                                                                  \n",
      " conv1d_1717 (Conv1D)        (None, 1500, 216)            7992      ['batch_normalization_2559[1][\n",
      "                                                                    0]']                          \n",
      "                                                                                                  \n",
      " batch_normalization_2560 (  (None, 1500, 216)            864       ['conv1d_1717[1][0]']         \n",
      " BatchNormalization)                                                                              \n",
      "                                                                                                  \n",
      " re_lu_1742 (ReLU)           (None, 1500, 216)            0         ['batch_normalization_2560[1][\n",
      "                                                                    0]']                          \n",
      "                                                                                                  \n",
      " depthwise_conv1d_817 (Dept  (None, 1500, 216)            864       ['re_lu_1742[1][0]']          \n",
      " hwiseConv1D)                                                                                     \n",
      "                                                                                                  \n",
      " batch_normalization_2561 (  (None, 1500, 216)            864       ['depthwise_conv1d_817[1][0]']\n",
      " BatchNormalization)                                                                              \n",
      "                                                                                                  \n",
      " re_lu_1743 (ReLU)           (None, 1500, 216)            0         ['batch_normalization_2561[1][\n",
      "                                                                    0]']                          \n",
      "                                                                                                  \n",
      " conv1d_1718 (Conv1D)        (None, 1500, 12)             2604      ['re_lu_1743[1][0]']          \n",
      "                                                                                                  \n",
      " concatenate_871 (Concatena  (None, 1500, 36)             0         ['conv1d_1714[1][0]',         \n",
      " te)                                                                 'conv1d_1716[1][0]',         \n",
      "                                                                     'conv1d_1718[1][0]']         \n",
      "                                                                                                  \n",
      " batch_normalization_2562 (  (None, 1500, 36)             144       ['concatenate_871[1][0]']     \n",
      " BatchNormalization)                                                                              \n",
      "                                                                                                  \n",
      " conv1d_1719 (Conv1D)        (None, 1500, 216)            7992      ['batch_normalization_2562[1][\n",
      "                                                                    0]']                          \n",
      "                                                                                                  \n",
      " batch_normalization_2563 (  (None, 1500, 216)            864       ['conv1d_1719[1][0]']         \n",
      " BatchNormalization)                                                                              \n",
      "                                                                                                  \n",
      " re_lu_1744 (ReLU)           (None, 1500, 216)            0         ['batch_normalization_2563[1][\n",
      "                                                                    0]']                          \n",
      "                                                                                                  \n",
      " depthwise_conv1d_818 (Dept  (None, 1500, 216)            864       ['re_lu_1744[1][0]']          \n",
      " hwiseConv1D)                                                                                     \n",
      "                                                                                                  \n",
      " batch_normalization_2564 (  (None, 1500, 216)            864       ['depthwise_conv1d_818[1][0]']\n",
      " BatchNormalization)                                                                              \n",
      "                                                                                                  \n",
      " re_lu_1745 (ReLU)           (None, 1500, 216)            0         ['batch_normalization_2564[1][\n",
      "                                                                    0]']                          \n",
      "                                                                                                  \n"
     ]
    },
    {
     "name": "stdout",
     "output_type": "stream",
     "text": [
      " conv1d_1720 (Conv1D)        (None, 1500, 12)             2604      ['re_lu_1745[1][0]']          \n",
      "                                                                                                  \n",
      " concatenate_872 (Concatena  (None, 1500, 36)             0         ['conv1d_1716[1][0]',         \n",
      " te)                                                                 'conv1d_1718[1][0]',         \n",
      "                                                                     'conv1d_1720[1][0]']         \n",
      "                                                                                                  \n",
      " batch_normalization_2565 (  (None, 1500, 36)             144       ['concatenate_872[1][0]']     \n",
      " BatchNormalization)                                                                              \n",
      "                                                                                                  \n",
      " conv1d_1721 (Conv1D)        (None, 1500, 216)            7992      ['batch_normalization_2565[1][\n",
      "                                                                    0]']                          \n",
      "                                                                                                  \n",
      " batch_normalization_2566 (  (None, 1500, 216)            864       ['conv1d_1721[1][0]']         \n",
      " BatchNormalization)                                                                              \n",
      "                                                                                                  \n",
      " re_lu_1746 (ReLU)           (None, 1500, 216)            0         ['batch_normalization_2566[1][\n",
      "                                                                    0]']                          \n",
      "                                                                                                  \n",
      " depthwise_conv1d_819 (Dept  (None, 1500, 216)            864       ['re_lu_1746[1][0]']          \n",
      " hwiseConv1D)                                                                                     \n",
      "                                                                                                  \n",
      " batch_normalization_2567 (  (None, 1500, 216)            864       ['depthwise_conv1d_819[1][0]']\n",
      " BatchNormalization)                                                                              \n",
      "                                                                                                  \n",
      " re_lu_1747 (ReLU)           (None, 1500, 216)            0         ['batch_normalization_2567[1][\n",
      "                                                                    0]']                          \n",
      "                                                                                                  \n",
      " conv1d_1722 (Conv1D)        (None, 1500, 12)             2604      ['re_lu_1747[1][0]']          \n",
      "                                                                                                  \n",
      " batch_normalization_2568 (  (None, 1500, 12)             48        ['conv1d_1722[1][0]']         \n",
      " BatchNormalization)                                                                              \n",
      "                                                                                                  \n",
      " re_lu_1748 (ReLU)           (None, 1500, 12)             0         ['batch_normalization_2568[1][\n",
      "                                                                    0]']                          \n",
      "                                                                                                  \n",
      " conv1d_1723 (Conv1D)        (None, 1500, 12)             156       ['re_lu_1748[1][0]']          \n",
      "                                                                                                  \n",
      " global_average_pooling1d_1  (None, 12)                   0         ['conv1d_1723[1][0]']         \n",
      " 35 (GlobalAveragePooling1D                                                                       \n",
      " )                                                                                                \n",
      "                                                                                                  \n",
      " dense_189 (Dense)           (None, 12)                   156       ['global_average_pooling1d_135\n",
      "                                                                    [1][0]']                      \n",
      "                                                                                                  \n",
      " re_lu_1749 (ReLU)           (None, 12)                   0         ['dense_189[1][0]']           \n",
      "                                                                                                  \n",
      " dense_190 (Dense)           (None, 12)                   156       ['re_lu_1749[1][0]']          \n",
      "                                                                                                  \n",
      " tf.math.sigmoid_54 (TFOpLa  (None, 12)                   0         ['dense_190[1][0]']           \n",
      " mbda)                                                                                            \n",
      "                                                                                                  \n",
      " tf.expand_dims_54 (TFOpLam  (None, 12, 1)                0         ['tf.math.sigmoid_54[1][0]']  \n",
      " bda)                                                                                             \n",
      "                                                                                                  \n",
      " tf.linalg.matmul_54 (TFOpL  (None, 1500, 1)              0         ['conv1d_1723[1][0]',         \n",
      " ambda)                                                              'tf.expand_dims_54[1][0]']   \n",
      "                                                                                                  \n",
      " tf.compat.v1.squeeze_54 (T  (None, 1500)                 0         ['tf.linalg.matmul_54[1][0]'] \n",
      " FOpLambda)                                                                                       \n",
      "                                                                                                  \n",
      " tf.reshape_54 (TFOpLambda)  (None, 1500, 1)              0         ['tf.compat.v1.squeeze_54[1][0\n",
      "                                                                    ]']                           \n",
      "                                                                                                  \n",
      " average_pooling1d_54 (Aver  (None, 750, 1)               0         ['tf.reshape_54[1][0]']       \n",
      " agePooling1D)                                                                                    \n",
      "                                                                                                  \n",
      " batch_normalization_2569 (  (None, 750, 1)               4         ['average_pooling1d_54[1][0]']\n",
      " BatchNormalization)                                                                              \n",
      "                                                                                                  \n",
      " conv1d_1724 (Conv1D)        (None, 750, 6)               12        ['batch_normalization_2569[1][\n",
      "                                                                    0]']                          \n",
      "                                                                                                  \n",
      " batch_normalization_2570 (  (None, 750, 6)               24        ['conv1d_1724[1][0]']         \n",
      " BatchNormalization)                                                                              \n",
      "                                                                                                  \n",
      " re_lu_1750 (ReLU)           (None, 750, 6)               0         ['batch_normalization_2570[1][\n",
      "                                                                    0]']                          \n",
      "                                                                                                  \n",
      " depthwise_conv1d_820 (Dept  (None, 750, 6)               24        ['re_lu_1750[1][0]']          \n",
      " hwiseConv1D)                                                                                     \n",
      "                                                                                                  \n",
      " batch_normalization_2571 (  (None, 750, 6)               24        ['depthwise_conv1d_820[1][0]']\n",
      " BatchNormalization)                                                                              \n"
     ]
    },
    {
     "name": "stdout",
     "output_type": "stream",
     "text": [
      "                                                                                                  \n",
      " re_lu_1751 (ReLU)           (None, 750, 6)               0         ['batch_normalization_2571[1][\n",
      "                                                                    0]']                          \n",
      "                                                                                                  \n",
      " conv1d_1725 (Conv1D)        (None, 750, 12)              84        ['re_lu_1751[1][0]']          \n",
      "                                                                                                  \n",
      " concatenate_873 (Concatena  (None, 750, 13)              0         ['average_pooling1d_54[1][0]',\n",
      " te)                                                                 'conv1d_1725[1][0]']         \n",
      "                                                                                                  \n",
      " batch_normalization_2572 (  (None, 750, 13)              52        ['concatenate_873[1][0]']     \n",
      " BatchNormalization)                                                                              \n",
      "                                                                                                  \n",
      " conv1d_1726 (Conv1D)        (None, 750, 78)              1092      ['batch_normalization_2572[1][\n",
      "                                                                    0]']                          \n",
      "                                                                                                  \n",
      " batch_normalization_2573 (  (None, 750, 78)              312       ['conv1d_1726[1][0]']         \n",
      " BatchNormalization)                                                                              \n",
      "                                                                                                  \n",
      " re_lu_1752 (ReLU)           (None, 750, 78)              0         ['batch_normalization_2573[1][\n",
      "                                                                    0]']                          \n",
      "                                                                                                  \n",
      " depthwise_conv1d_821 (Dept  (None, 750, 78)              312       ['re_lu_1752[1][0]']          \n",
      " hwiseConv1D)                                                                                     \n",
      "                                                                                                  \n",
      " batch_normalization_2574 (  (None, 750, 78)              312       ['depthwise_conv1d_821[1][0]']\n",
      " BatchNormalization)                                                                              \n",
      "                                                                                                  \n",
      " re_lu_1753 (ReLU)           (None, 750, 78)              0         ['batch_normalization_2574[1][\n",
      "                                                                    0]']                          \n",
      "                                                                                                  \n",
      " conv1d_1727 (Conv1D)        (None, 750, 12)              948       ['re_lu_1753[1][0]']          \n",
      "                                                                                                  \n",
      " concatenate_874 (Concatena  (None, 750, 25)              0         ['average_pooling1d_54[1][0]',\n",
      " te)                                                                 'conv1d_1725[1][0]',         \n",
      "                                                                     'conv1d_1727[1][0]']         \n",
      "                                                                                                  \n",
      " batch_normalization_2575 (  (None, 750, 25)              100       ['concatenate_874[1][0]']     \n",
      " BatchNormalization)                                                                              \n",
      "                                                                                                  \n",
      " conv1d_1728 (Conv1D)        (None, 750, 150)             3900      ['batch_normalization_2575[1][\n",
      "                                                                    0]']                          \n",
      "                                                                                                  \n",
      " batch_normalization_2576 (  (None, 750, 150)             600       ['conv1d_1728[1][0]']         \n",
      " BatchNormalization)                                                                              \n",
      "                                                                                                  \n",
      " re_lu_1754 (ReLU)           (None, 750, 150)             0         ['batch_normalization_2576[1][\n",
      "                                                                    0]']                          \n",
      "                                                                                                  \n",
      " depthwise_conv1d_822 (Dept  (None, 750, 150)             600       ['re_lu_1754[1][0]']          \n",
      " hwiseConv1D)                                                                                     \n",
      "                                                                                                  \n",
      " batch_normalization_2577 (  (None, 750, 150)             600       ['depthwise_conv1d_822[1][0]']\n",
      " BatchNormalization)                                                                              \n",
      "                                                                                                  \n",
      " re_lu_1755 (ReLU)           (None, 750, 150)             0         ['batch_normalization_2577[1][\n",
      "                                                                    0]']                          \n",
      "                                                                                                  \n",
      " conv1d_1729 (Conv1D)        (None, 750, 12)              1812      ['re_lu_1755[1][0]']          \n",
      "                                                                                                  \n",
      " concatenate_875 (Concatena  (None, 750, 37)              0         ['average_pooling1d_54[1][0]',\n",
      " te)                                                                 'conv1d_1725[1][0]',         \n",
      "                                                                     'conv1d_1727[1][0]',         \n",
      "                                                                     'conv1d_1729[1][0]']         \n",
      "                                                                                                  \n",
      " batch_normalization_2578 (  (None, 750, 37)              148       ['concatenate_875[1][0]']     \n",
      " BatchNormalization)                                                                              \n",
      "                                                                                                  \n",
      " conv1d_1730 (Conv1D)        (None, 750, 222)             8436      ['batch_normalization_2578[1][\n",
      "                                                                    0]']                          \n",
      "                                                                                                  \n",
      " batch_normalization_2579 (  (None, 750, 222)             888       ['conv1d_1730[1][0]']         \n",
      " BatchNormalization)                                                                              \n",
      "                                                                                                  \n",
      " re_lu_1756 (ReLU)           (None, 750, 222)             0         ['batch_normalization_2579[1][\n",
      "                                                                    0]']                          \n",
      "                                                                                                  \n",
      " depthwise_conv1d_823 (Dept  (None, 750, 222)             888       ['re_lu_1756[1][0]']          \n",
      " hwiseConv1D)                                                                                     \n",
      "                                                                                                  \n",
      " batch_normalization_2580 (  (None, 750, 222)             888       ['depthwise_conv1d_823[1][0]']\n",
      " BatchNormalization)                                                                              \n",
      "                                                                                                  \n",
      " re_lu_1757 (ReLU)           (None, 750, 222)             0         ['batch_normalization_2580[1][\n"
     ]
    },
    {
     "name": "stdout",
     "output_type": "stream",
     "text": [
      "                                                                    0]']                          \n",
      "                                                                                                  \n",
      " conv1d_1731 (Conv1D)        (None, 750, 12)              2676      ['re_lu_1757[1][0]']          \n",
      "                                                                                                  \n",
      " concatenate_876 (Concatena  (None, 750, 49)              0         ['average_pooling1d_54[1][0]',\n",
      " te)                                                                 'conv1d_1725[1][0]',         \n",
      "                                                                     'conv1d_1727[1][0]',         \n",
      "                                                                     'conv1d_1729[1][0]',         \n",
      "                                                                     'conv1d_1731[1][0]']         \n",
      "                                                                                                  \n",
      " batch_normalization_2581 (  (None, 750, 49)              196       ['concatenate_876[1][0]']     \n",
      " BatchNormalization)                                                                              \n",
      "                                                                                                  \n",
      " conv1d_1732 (Conv1D)        (None, 750, 294)             14700     ['batch_normalization_2581[1][\n",
      "                                                                    0]']                          \n",
      "                                                                                                  \n",
      " batch_normalization_2582 (  (None, 750, 294)             1176      ['conv1d_1732[1][0]']         \n",
      " BatchNormalization)                                                                              \n",
      "                                                                                                  \n",
      " re_lu_1758 (ReLU)           (None, 750, 294)             0         ['batch_normalization_2582[1][\n",
      "                                                                    0]']                          \n",
      "                                                                                                  \n",
      " depthwise_conv1d_824 (Dept  (None, 750, 294)             1176      ['re_lu_1758[1][0]']          \n",
      " hwiseConv1D)                                                                                     \n",
      "                                                                                                  \n",
      " batch_normalization_2583 (  (None, 750, 294)             1176      ['depthwise_conv1d_824[1][0]']\n",
      " BatchNormalization)                                                                              \n",
      "                                                                                                  \n",
      " re_lu_1759 (ReLU)           (None, 750, 294)             0         ['batch_normalization_2583[1][\n",
      "                                                                    0]']                          \n",
      "                                                                                                  \n",
      " conv1d_1733 (Conv1D)        (None, 750, 12)              3540      ['re_lu_1759[1][0]']          \n",
      "                                                                                                  \n",
      " concatenate_877 (Concatena  (None, 750, 36)              0         ['conv1d_1729[1][0]',         \n",
      " te)                                                                 'conv1d_1731[1][0]',         \n",
      "                                                                     'conv1d_1733[1][0]']         \n",
      "                                                                                                  \n",
      " batch_normalization_2584 (  (None, 750, 36)              144       ['concatenate_877[1][0]']     \n",
      " BatchNormalization)                                                                              \n",
      "                                                                                                  \n",
      " conv1d_1734 (Conv1D)        (None, 750, 216)             7992      ['batch_normalization_2584[1][\n",
      "                                                                    0]']                          \n",
      "                                                                                                  \n",
      " batch_normalization_2585 (  (None, 750, 216)             864       ['conv1d_1734[1][0]']         \n",
      " BatchNormalization)                                                                              \n",
      "                                                                                                  \n",
      " re_lu_1760 (ReLU)           (None, 750, 216)             0         ['batch_normalization_2585[1][\n",
      "                                                                    0]']                          \n",
      "                                                                                                  \n",
      " depthwise_conv1d_825 (Dept  (None, 750, 216)             864       ['re_lu_1760[1][0]']          \n",
      " hwiseConv1D)                                                                                     \n",
      "                                                                                                  \n",
      " batch_normalization_2586 (  (None, 750, 216)             864       ['depthwise_conv1d_825[1][0]']\n",
      " BatchNormalization)                                                                              \n",
      "                                                                                                  \n",
      " re_lu_1761 (ReLU)           (None, 750, 216)             0         ['batch_normalization_2586[1][\n",
      "                                                                    0]']                          \n",
      "                                                                                                  \n",
      " conv1d_1735 (Conv1D)        (None, 750, 12)              2604      ['re_lu_1761[1][0]']          \n",
      "                                                                                                  \n",
      " concatenate_878 (Concatena  (None, 750, 36)              0         ['conv1d_1731[1][0]',         \n",
      " te)                                                                 'conv1d_1733[1][0]',         \n",
      "                                                                     'conv1d_1735[1][0]']         \n",
      "                                                                                                  \n",
      " batch_normalization_2587 (  (None, 750, 36)              144       ['concatenate_878[1][0]']     \n",
      " BatchNormalization)                                                                              \n",
      "                                                                                                  \n",
      " conv1d_1736 (Conv1D)        (None, 750, 216)             7992      ['batch_normalization_2587[1][\n",
      "                                                                    0]']                          \n",
      "                                                                                                  \n",
      " batch_normalization_2588 (  (None, 750, 216)             864       ['conv1d_1736[1][0]']         \n",
      " BatchNormalization)                                                                              \n",
      "                                                                                                  \n",
      " re_lu_1762 (ReLU)           (None, 750, 216)             0         ['batch_normalization_2588[1][\n",
      "                                                                    0]']                          \n",
      "                                                                                                  \n",
      " depthwise_conv1d_826 (Dept  (None, 750, 216)             864       ['re_lu_1762[1][0]']          \n",
      " hwiseConv1D)                                                                                     \n",
      "                                                                                                  \n",
      " batch_normalization_2589 (  (None, 750, 216)             864       ['depthwise_conv1d_826[1][0]']\n",
      " BatchNormalization)                                                                              \n",
      "                                                                                                  \n",
      " re_lu_1763 (ReLU)           (None, 750, 216)             0         ['batch_normalization_2589[1][\n"
     ]
    },
    {
     "name": "stdout",
     "output_type": "stream",
     "text": [
      "                                                                    0]']                          \n",
      "                                                                                                  \n",
      " conv1d_1737 (Conv1D)        (None, 750, 12)              2604      ['re_lu_1763[1][0]']          \n",
      "                                                                                                  \n",
      " concatenate_879 (Concatena  (None, 750, 36)              0         ['conv1d_1733[1][0]',         \n",
      " te)                                                                 'conv1d_1735[1][0]',         \n",
      "                                                                     'conv1d_1737[1][0]']         \n",
      "                                                                                                  \n",
      " batch_normalization_2590 (  (None, 750, 36)              144       ['concatenate_879[1][0]']     \n",
      " BatchNormalization)                                                                              \n",
      "                                                                                                  \n",
      " conv1d_1738 (Conv1D)        (None, 750, 216)             7992      ['batch_normalization_2590[1][\n",
      "                                                                    0]']                          \n",
      "                                                                                                  \n",
      " batch_normalization_2591 (  (None, 750, 216)             864       ['conv1d_1738[1][0]']         \n",
      " BatchNormalization)                                                                              \n",
      "                                                                                                  \n",
      " re_lu_1764 (ReLU)           (None, 750, 216)             0         ['batch_normalization_2591[1][\n",
      "                                                                    0]']                          \n",
      "                                                                                                  \n",
      " depthwise_conv1d_827 (Dept  (None, 750, 216)             864       ['re_lu_1764[1][0]']          \n",
      " hwiseConv1D)                                                                                     \n",
      "                                                                                                  \n",
      " batch_normalization_2592 (  (None, 750, 216)             864       ['depthwise_conv1d_827[1][0]']\n",
      " BatchNormalization)                                                                              \n",
      "                                                                                                  \n",
      " re_lu_1765 (ReLU)           (None, 750, 216)             0         ['batch_normalization_2592[1][\n",
      "                                                                    0]']                          \n",
      "                                                                                                  \n",
      " conv1d_1739 (Conv1D)        (None, 750, 12)              2604      ['re_lu_1765[1][0]']          \n",
      "                                                                                                  \n",
      " concatenate_880 (Concatena  (None, 750, 36)              0         ['conv1d_1735[1][0]',         \n",
      " te)                                                                 'conv1d_1737[1][0]',         \n",
      "                                                                     'conv1d_1739[1][0]']         \n",
      "                                                                                                  \n",
      " batch_normalization_2593 (  (None, 750, 36)              144       ['concatenate_880[1][0]']     \n",
      " BatchNormalization)                                                                              \n",
      "                                                                                                  \n",
      " conv1d_1740 (Conv1D)        (None, 750, 216)             7992      ['batch_normalization_2593[1][\n",
      "                                                                    0]']                          \n",
      "                                                                                                  \n",
      " batch_normalization_2594 (  (None, 750, 216)             864       ['conv1d_1740[1][0]']         \n",
      " BatchNormalization)                                                                              \n",
      "                                                                                                  \n",
      " re_lu_1766 (ReLU)           (None, 750, 216)             0         ['batch_normalization_2594[1][\n",
      "                                                                    0]']                          \n",
      "                                                                                                  \n",
      " depthwise_conv1d_828 (Dept  (None, 750, 216)             864       ['re_lu_1766[1][0]']          \n",
      " hwiseConv1D)                                                                                     \n",
      "                                                                                                  \n",
      " batch_normalization_2595 (  (None, 750, 216)             864       ['depthwise_conv1d_828[1][0]']\n",
      " BatchNormalization)                                                                              \n",
      "                                                                                                  \n",
      " re_lu_1767 (ReLU)           (None, 750, 216)             0         ['batch_normalization_2595[1][\n",
      "                                                                    0]']                          \n",
      "                                                                                                  \n",
      " conv1d_1741 (Conv1D)        (None, 750, 12)              2604      ['re_lu_1767[1][0]']          \n",
      "                                                                                                  \n",
      " concatenate_881 (Concatena  (None, 750, 36)              0         ['conv1d_1737[1][0]',         \n",
      " te)                                                                 'conv1d_1739[1][0]',         \n",
      "                                                                     'conv1d_1741[1][0]']         \n",
      "                                                                                                  \n",
      " batch_normalization_2596 (  (None, 750, 36)              144       ['concatenate_881[1][0]']     \n",
      " BatchNormalization)                                                                              \n",
      "                                                                                                  \n",
      " conv1d_1742 (Conv1D)        (None, 750, 216)             7992      ['batch_normalization_2596[1][\n",
      "                                                                    0]']                          \n",
      "                                                                                                  \n",
      " batch_normalization_2597 (  (None, 750, 216)             864       ['conv1d_1742[1][0]']         \n",
      " BatchNormalization)                                                                              \n",
      "                                                                                                  \n",
      " re_lu_1768 (ReLU)           (None, 750, 216)             0         ['batch_normalization_2597[1][\n",
      "                                                                    0]']                          \n",
      "                                                                                                  \n",
      " depthwise_conv1d_829 (Dept  (None, 750, 216)             864       ['re_lu_1768[1][0]']          \n",
      " hwiseConv1D)                                                                                     \n",
      "                                                                                                  \n",
      " batch_normalization_2598 (  (None, 750, 216)             864       ['depthwise_conv1d_829[1][0]']\n",
      " BatchNormalization)                                                                              \n",
      "                                                                                                  \n",
      " re_lu_1769 (ReLU)           (None, 750, 216)             0         ['batch_normalization_2598[1][\n",
      "                                                                    0]']                          \n",
      "                                                                                                  \n"
     ]
    },
    {
     "name": "stdout",
     "output_type": "stream",
     "text": [
      " conv1d_1743 (Conv1D)        (None, 750, 12)              2604      ['re_lu_1769[1][0]']          \n",
      "                                                                                                  \n",
      " batch_normalization_2599 (  (None, 750, 12)              48        ['conv1d_1743[1][0]']         \n",
      " BatchNormalization)                                                                              \n",
      "                                                                                                  \n",
      " re_lu_1770 (ReLU)           (None, 750, 12)              0         ['batch_normalization_2599[1][\n",
      "                                                                    0]']                          \n",
      "                                                                                                  \n",
      " conv1d_1744 (Conv1D)        (None, 750, 12)              156       ['re_lu_1770[1][0]']          \n",
      "                                                                                                  \n",
      " global_average_pooling1d_1  (None, 12)                   0         ['conv1d_1744[1][0]']         \n",
      " 36 (GlobalAveragePooling1D                                                                       \n",
      " )                                                                                                \n",
      "                                                                                                  \n",
      " dense_191 (Dense)           (None, 12)                   156       ['global_average_pooling1d_136\n",
      "                                                                    [1][0]']                      \n",
      "                                                                                                  \n",
      " re_lu_1771 (ReLU)           (None, 12)                   0         ['dense_191[1][0]']           \n",
      "                                                                                                  \n",
      " dense_192 (Dense)           (None, 12)                   156       ['re_lu_1771[1][0]']          \n",
      "                                                                                                  \n",
      " tf.math.sigmoid_55 (TFOpLa  (None, 12)                   0         ['dense_192[1][0]']           \n",
      " mbda)                                                                                            \n",
      "                                                                                                  \n",
      " tf.expand_dims_55 (TFOpLam  (None, 12, 1)                0         ['tf.math.sigmoid_55[1][0]']  \n",
      " bda)                                                                                             \n",
      "                                                                                                  \n",
      " tf.linalg.matmul_55 (TFOpL  (None, 750, 1)               0         ['conv1d_1744[1][0]',         \n",
      " ambda)                                                              'tf.expand_dims_55[1][0]']   \n",
      "                                                                                                  \n",
      " tf.compat.v1.squeeze_55 (T  (None, 750)                  0         ['tf.linalg.matmul_55[1][0]'] \n",
      " FOpLambda)                                                                                       \n",
      "                                                                                                  \n",
      " tf.reshape_55 (TFOpLambda)  (None, 750, 1)               0         ['tf.compat.v1.squeeze_55[1][0\n",
      "                                                                    ]']                           \n",
      "                                                                                                  \n",
      " average_pooling1d_55 (Aver  (None, 375, 1)               0         ['tf.reshape_55[1][0]']       \n",
      " agePooling1D)                                                                                    \n",
      "                                                                                                  \n",
      " batch_normalization_2600 (  (None, 375, 1)               4         ['average_pooling1d_55[1][0]']\n",
      " BatchNormalization)                                                                              \n",
      "                                                                                                  \n",
      " conv1d_1745 (Conv1D)        (None, 375, 6)               12        ['batch_normalization_2600[1][\n",
      "                                                                    0]']                          \n",
      "                                                                                                  \n",
      " batch_normalization_2601 (  (None, 375, 6)               24        ['conv1d_1745[1][0]']         \n",
      " BatchNormalization)                                                                              \n",
      "                                                                                                  \n",
      " re_lu_1772 (ReLU)           (None, 375, 6)               0         ['batch_normalization_2601[1][\n",
      "                                                                    0]']                          \n",
      "                                                                                                  \n",
      " depthwise_conv1d_830 (Dept  (None, 375, 6)               24        ['re_lu_1772[1][0]']          \n",
      " hwiseConv1D)                                                                                     \n",
      "                                                                                                  \n",
      " batch_normalization_2602 (  (None, 375, 6)               24        ['depthwise_conv1d_830[1][0]']\n",
      " BatchNormalization)                                                                              \n",
      "                                                                                                  \n",
      " re_lu_1773 (ReLU)           (None, 375, 6)               0         ['batch_normalization_2602[1][\n",
      "                                                                    0]']                          \n",
      "                                                                                                  \n",
      " conv1d_1746 (Conv1D)        (None, 375, 12)              84        ['re_lu_1773[1][0]']          \n",
      "                                                                                                  \n",
      " concatenate_882 (Concatena  (None, 375, 13)              0         ['average_pooling1d_55[1][0]',\n",
      " te)                                                                 'conv1d_1746[1][0]']         \n",
      "                                                                                                  \n",
      " batch_normalization_2603 (  (None, 375, 13)              52        ['concatenate_882[1][0]']     \n",
      " BatchNormalization)                                                                              \n",
      "                                                                                                  \n",
      " conv1d_1747 (Conv1D)        (None, 375, 78)              1092      ['batch_normalization_2603[1][\n",
      "                                                                    0]']                          \n",
      "                                                                                                  \n",
      " batch_normalization_2604 (  (None, 375, 78)              312       ['conv1d_1747[1][0]']         \n",
      " BatchNormalization)                                                                              \n",
      "                                                                                                  \n",
      " re_lu_1774 (ReLU)           (None, 375, 78)              0         ['batch_normalization_2604[1][\n",
      "                                                                    0]']                          \n",
      "                                                                                                  \n",
      " depthwise_conv1d_831 (Dept  (None, 375, 78)              312       ['re_lu_1774[1][0]']          \n",
      " hwiseConv1D)                                                                                     \n",
      "                                                                                                  \n",
      " batch_normalization_2605 (  (None, 375, 78)              312       ['depthwise_conv1d_831[1][0]']\n",
      " BatchNormalization)                                                                              \n",
      "                                                                                                  \n"
     ]
    },
    {
     "name": "stdout",
     "output_type": "stream",
     "text": [
      " re_lu_1775 (ReLU)           (None, 375, 78)              0         ['batch_normalization_2605[1][\n",
      "                                                                    0]']                          \n",
      "                                                                                                  \n",
      " conv1d_1748 (Conv1D)        (None, 375, 12)              948       ['re_lu_1775[1][0]']          \n",
      "                                                                                                  \n",
      " concatenate_883 (Concatena  (None, 375, 25)              0         ['average_pooling1d_55[1][0]',\n",
      " te)                                                                 'conv1d_1746[1][0]',         \n",
      "                                                                     'conv1d_1748[1][0]']         \n",
      "                                                                                                  \n",
      " batch_normalization_2606 (  (None, 375, 25)              100       ['concatenate_883[1][0]']     \n",
      " BatchNormalization)                                                                              \n",
      "                                                                                                  \n",
      " conv1d_1749 (Conv1D)        (None, 375, 150)             3900      ['batch_normalization_2606[1][\n",
      "                                                                    0]']                          \n",
      "                                                                                                  \n",
      " batch_normalization_2607 (  (None, 375, 150)             600       ['conv1d_1749[1][0]']         \n",
      " BatchNormalization)                                                                              \n",
      "                                                                                                  \n",
      " re_lu_1776 (ReLU)           (None, 375, 150)             0         ['batch_normalization_2607[1][\n",
      "                                                                    0]']                          \n",
      "                                                                                                  \n",
      " depthwise_conv1d_832 (Dept  (None, 375, 150)             600       ['re_lu_1776[1][0]']          \n",
      " hwiseConv1D)                                                                                     \n",
      "                                                                                                  \n",
      " batch_normalization_2608 (  (None, 375, 150)             600       ['depthwise_conv1d_832[1][0]']\n",
      " BatchNormalization)                                                                              \n",
      "                                                                                                  \n",
      " re_lu_1777 (ReLU)           (None, 375, 150)             0         ['batch_normalization_2608[1][\n",
      "                                                                    0]']                          \n",
      "                                                                                                  \n",
      " conv1d_1750 (Conv1D)        (None, 375, 12)              1812      ['re_lu_1777[1][0]']          \n",
      "                                                                                                  \n",
      " concatenate_884 (Concatena  (None, 375, 37)              0         ['average_pooling1d_55[1][0]',\n",
      " te)                                                                 'conv1d_1746[1][0]',         \n",
      "                                                                     'conv1d_1748[1][0]',         \n",
      "                                                                     'conv1d_1750[1][0]']         \n",
      "                                                                                                  \n",
      " batch_normalization_2609 (  (None, 375, 37)              148       ['concatenate_884[1][0]']     \n",
      " BatchNormalization)                                                                              \n",
      "                                                                                                  \n",
      " conv1d_1751 (Conv1D)        (None, 375, 222)             8436      ['batch_normalization_2609[1][\n",
      "                                                                    0]']                          \n",
      "                                                                                                  \n",
      " batch_normalization_2610 (  (None, 375, 222)             888       ['conv1d_1751[1][0]']         \n",
      " BatchNormalization)                                                                              \n",
      "                                                                                                  \n",
      " re_lu_1778 (ReLU)           (None, 375, 222)             0         ['batch_normalization_2610[1][\n",
      "                                                                    0]']                          \n",
      "                                                                                                  \n",
      " depthwise_conv1d_833 (Dept  (None, 375, 222)             888       ['re_lu_1778[1][0]']          \n",
      " hwiseConv1D)                                                                                     \n",
      "                                                                                                  \n",
      " batch_normalization_2611 (  (None, 375, 222)             888       ['depthwise_conv1d_833[1][0]']\n",
      " BatchNormalization)                                                                              \n",
      "                                                                                                  \n",
      " re_lu_1779 (ReLU)           (None, 375, 222)             0         ['batch_normalization_2611[1][\n",
      "                                                                    0]']                          \n",
      "                                                                                                  \n",
      " conv1d_1752 (Conv1D)        (None, 375, 12)              2676      ['re_lu_1779[1][0]']          \n",
      "                                                                                                  \n",
      " concatenate_885 (Concatena  (None, 375, 49)              0         ['average_pooling1d_55[1][0]',\n",
      " te)                                                                 'conv1d_1746[1][0]',         \n",
      "                                                                     'conv1d_1748[1][0]',         \n",
      "                                                                     'conv1d_1750[1][0]',         \n",
      "                                                                     'conv1d_1752[1][0]']         \n",
      "                                                                                                  \n",
      " batch_normalization_2612 (  (None, 375, 49)              196       ['concatenate_885[1][0]']     \n",
      " BatchNormalization)                                                                              \n",
      "                                                                                                  \n",
      " conv1d_1753 (Conv1D)        (None, 375, 294)             14700     ['batch_normalization_2612[1][\n",
      "                                                                    0]']                          \n",
      "                                                                                                  \n",
      " batch_normalization_2613 (  (None, 375, 294)             1176      ['conv1d_1753[1][0]']         \n",
      " BatchNormalization)                                                                              \n",
      "                                                                                                  \n",
      " re_lu_1780 (ReLU)           (None, 375, 294)             0         ['batch_normalization_2613[1][\n",
      "                                                                    0]']                          \n",
      "                                                                                                  \n",
      " depthwise_conv1d_834 (Dept  (None, 375, 294)             1176      ['re_lu_1780[1][0]']          \n",
      " hwiseConv1D)                                                                                     \n",
      "                                                                                                  \n",
      " batch_normalization_2614 (  (None, 375, 294)             1176      ['depthwise_conv1d_834[1][0]']\n",
      " BatchNormalization)                                                                              \n"
     ]
    },
    {
     "name": "stdout",
     "output_type": "stream",
     "text": [
      "                                                                                                  \n",
      " re_lu_1781 (ReLU)           (None, 375, 294)             0         ['batch_normalization_2614[1][\n",
      "                                                                    0]']                          \n",
      "                                                                                                  \n",
      " conv1d_1754 (Conv1D)        (None, 375, 12)              3540      ['re_lu_1781[1][0]']          \n",
      "                                                                                                  \n",
      " concatenate_886 (Concatena  (None, 375, 36)              0         ['conv1d_1750[1][0]',         \n",
      " te)                                                                 'conv1d_1752[1][0]',         \n",
      "                                                                     'conv1d_1754[1][0]']         \n",
      "                                                                                                  \n",
      " batch_normalization_2615 (  (None, 375, 36)              144       ['concatenate_886[1][0]']     \n",
      " BatchNormalization)                                                                              \n",
      "                                                                                                  \n",
      " conv1d_1755 (Conv1D)        (None, 375, 216)             7992      ['batch_normalization_2615[1][\n",
      "                                                                    0]']                          \n",
      "                                                                                                  \n",
      " batch_normalization_2616 (  (None, 375, 216)             864       ['conv1d_1755[1][0]']         \n",
      " BatchNormalization)                                                                              \n",
      "                                                                                                  \n",
      " re_lu_1782 (ReLU)           (None, 375, 216)             0         ['batch_normalization_2616[1][\n",
      "                                                                    0]']                          \n",
      "                                                                                                  \n",
      " depthwise_conv1d_835 (Dept  (None, 375, 216)             864       ['re_lu_1782[1][0]']          \n",
      " hwiseConv1D)                                                                                     \n",
      "                                                                                                  \n",
      " batch_normalization_2617 (  (None, 375, 216)             864       ['depthwise_conv1d_835[1][0]']\n",
      " BatchNormalization)                                                                              \n",
      "                                                                                                  \n",
      " re_lu_1783 (ReLU)           (None, 375, 216)             0         ['batch_normalization_2617[1][\n",
      "                                                                    0]']                          \n",
      "                                                                                                  \n",
      " conv1d_1756 (Conv1D)        (None, 375, 12)              2604      ['re_lu_1783[1][0]']          \n",
      "                                                                                                  \n",
      " concatenate_887 (Concatena  (None, 375, 36)              0         ['conv1d_1752[1][0]',         \n",
      " te)                                                                 'conv1d_1754[1][0]',         \n",
      "                                                                     'conv1d_1756[1][0]']         \n",
      "                                                                                                  \n",
      " batch_normalization_2618 (  (None, 375, 36)              144       ['concatenate_887[1][0]']     \n",
      " BatchNormalization)                                                                              \n",
      "                                                                                                  \n",
      " conv1d_1757 (Conv1D)        (None, 375, 216)             7992      ['batch_normalization_2618[1][\n",
      "                                                                    0]']                          \n",
      "                                                                                                  \n",
      " batch_normalization_2619 (  (None, 375, 216)             864       ['conv1d_1757[1][0]']         \n",
      " BatchNormalization)                                                                              \n",
      "                                                                                                  \n",
      " re_lu_1784 (ReLU)           (None, 375, 216)             0         ['batch_normalization_2619[1][\n",
      "                                                                    0]']                          \n",
      "                                                                                                  \n",
      " depthwise_conv1d_836 (Dept  (None, 375, 216)             864       ['re_lu_1784[1][0]']          \n",
      " hwiseConv1D)                                                                                     \n",
      "                                                                                                  \n",
      " batch_normalization_2620 (  (None, 375, 216)             864       ['depthwise_conv1d_836[1][0]']\n",
      " BatchNormalization)                                                                              \n",
      "                                                                                                  \n",
      " re_lu_1785 (ReLU)           (None, 375, 216)             0         ['batch_normalization_2620[1][\n",
      "                                                                    0]']                          \n",
      "                                                                                                  \n",
      " conv1d_1758 (Conv1D)        (None, 375, 12)              2604      ['re_lu_1785[1][0]']          \n",
      "                                                                                                  \n",
      " concatenate_888 (Concatena  (None, 375, 36)              0         ['conv1d_1754[1][0]',         \n",
      " te)                                                                 'conv1d_1756[1][0]',         \n",
      "                                                                     'conv1d_1758[1][0]']         \n",
      "                                                                                                  \n",
      " batch_normalization_2621 (  (None, 375, 36)              144       ['concatenate_888[1][0]']     \n",
      " BatchNormalization)                                                                              \n",
      "                                                                                                  \n",
      " conv1d_1759 (Conv1D)        (None, 375, 216)             7992      ['batch_normalization_2621[1][\n",
      "                                                                    0]']                          \n",
      "                                                                                                  \n",
      " batch_normalization_2622 (  (None, 375, 216)             864       ['conv1d_1759[1][0]']         \n",
      " BatchNormalization)                                                                              \n",
      "                                                                                                  \n",
      " re_lu_1786 (ReLU)           (None, 375, 216)             0         ['batch_normalization_2622[1][\n",
      "                                                                    0]']                          \n",
      "                                                                                                  \n",
      " depthwise_conv1d_837 (Dept  (None, 375, 216)             864       ['re_lu_1786[1][0]']          \n",
      " hwiseConv1D)                                                                                     \n",
      "                                                                                                  \n",
      " batch_normalization_2623 (  (None, 375, 216)             864       ['depthwise_conv1d_837[1][0]']\n",
      " BatchNormalization)                                                                              \n",
      "                                                                                                  \n",
      " re_lu_1787 (ReLU)           (None, 375, 216)             0         ['batch_normalization_2623[1][\n"
     ]
    },
    {
     "name": "stdout",
     "output_type": "stream",
     "text": [
      "                                                                    0]']                          \n",
      "                                                                                                  \n",
      " conv1d_1760 (Conv1D)        (None, 375, 12)              2604      ['re_lu_1787[1][0]']          \n",
      "                                                                                                  \n",
      " concatenate_889 (Concatena  (None, 375, 36)              0         ['conv1d_1756[1][0]',         \n",
      " te)                                                                 'conv1d_1758[1][0]',         \n",
      "                                                                     'conv1d_1760[1][0]']         \n",
      "                                                                                                  \n",
      " batch_normalization_2624 (  (None, 375, 36)              144       ['concatenate_889[1][0]']     \n",
      " BatchNormalization)                                                                              \n",
      "                                                                                                  \n",
      " conv1d_1761 (Conv1D)        (None, 375, 216)             7992      ['batch_normalization_2624[1][\n",
      "                                                                    0]']                          \n",
      "                                                                                                  \n",
      " batch_normalization_2625 (  (None, 375, 216)             864       ['conv1d_1761[1][0]']         \n",
      " BatchNormalization)                                                                              \n",
      "                                                                                                  \n",
      " re_lu_1788 (ReLU)           (None, 375, 216)             0         ['batch_normalization_2625[1][\n",
      "                                                                    0]']                          \n",
      "                                                                                                  \n",
      " depthwise_conv1d_838 (Dept  (None, 375, 216)             864       ['re_lu_1788[1][0]']          \n",
      " hwiseConv1D)                                                                                     \n",
      "                                                                                                  \n",
      " batch_normalization_2626 (  (None, 375, 216)             864       ['depthwise_conv1d_838[1][0]']\n",
      " BatchNormalization)                                                                              \n",
      "                                                                                                  \n",
      " re_lu_1789 (ReLU)           (None, 375, 216)             0         ['batch_normalization_2626[1][\n",
      "                                                                    0]']                          \n",
      "                                                                                                  \n",
      " conv1d_1762 (Conv1D)        (None, 375, 12)              2604      ['re_lu_1789[1][0]']          \n",
      "                                                                                                  \n",
      " concatenate_890 (Concatena  (None, 375, 36)              0         ['conv1d_1758[1][0]',         \n",
      " te)                                                                 'conv1d_1760[1][0]',         \n",
      "                                                                     'conv1d_1762[1][0]']         \n",
      "                                                                                                  \n",
      " batch_normalization_2627 (  (None, 375, 36)              144       ['concatenate_890[1][0]']     \n",
      " BatchNormalization)                                                                              \n",
      "                                                                                                  \n",
      " conv1d_1763 (Conv1D)        (None, 375, 216)             7992      ['batch_normalization_2627[1][\n",
      "                                                                    0]']                          \n",
      "                                                                                                  \n",
      " batch_normalization_2628 (  (None, 375, 216)             864       ['conv1d_1763[1][0]']         \n",
      " BatchNormalization)                                                                              \n",
      "                                                                                                  \n",
      " re_lu_1790 (ReLU)           (None, 375, 216)             0         ['batch_normalization_2628[1][\n",
      "                                                                    0]']                          \n",
      "                                                                                                  \n",
      " depthwise_conv1d_839 (Dept  (None, 375, 216)             864       ['re_lu_1790[1][0]']          \n",
      " hwiseConv1D)                                                                                     \n",
      "                                                                                                  \n",
      " batch_normalization_2629 (  (None, 375, 216)             864       ['depthwise_conv1d_839[1][0]']\n",
      " BatchNormalization)                                                                              \n",
      "                                                                                                  \n",
      " re_lu_1791 (ReLU)           (None, 375, 216)             0         ['batch_normalization_2629[1][\n",
      "                                                                    0]']                          \n",
      "                                                                                                  \n",
      " conv1d_1764 (Conv1D)        (None, 375, 12)              2604      ['re_lu_1791[1][0]']          \n",
      "                                                                                                  \n",
      " concatenate_892 (Concatena  (None, 750, 13)              0         ['average_pooling1d_54[1][0]',\n",
      " te)                                                                 'conv1d_1743[1][0]']         \n",
      "                                                                                                  \n",
      " concatenate_893 (Concatena  (None, 375, 13)              0         ['average_pooling1d_55[1][0]',\n",
      " te)                                                                 'conv1d_1764[1][0]']         \n",
      "                                                                                                  \n",
      " concatenate_891 (Concatena  (None, 1500, 24)             0         ['max_pooling1d_27[1][0]',    \n",
      " te)                                                                 'conv1d_1722[1][0]']         \n",
      "                                                                                                  \n",
      " global_average_pooling1d_1  (None, 13)                   0         ['concatenate_892[1][0]']     \n",
      " 38 (GlobalAveragePooling1D                                                                       \n",
      " )                                                                                                \n",
      "                                                                                                  \n",
      " global_average_pooling1d_1  (None, 13)                   0         ['concatenate_893[1][0]']     \n",
      " 39 (GlobalAveragePooling1D                                                                       \n",
      " )                                                                                                \n",
      "                                                                                                  \n",
      " global_average_pooling1d_1  (None, 24)                   0         ['concatenate_891[1][0]']     \n",
      " 37 (GlobalAveragePooling1D                                                                       \n",
      " )                                                                                                \n",
      "                                                                                                  \n",
      " concatenate_894 (Concatena  (None, 26)                   0         ['global_average_pooling1d_138\n",
      " te)                                                                [1][0]',                      \n",
      "                                                                     'global_average_pooling1d_139\n",
      "                                                                    [1][0]']                      \n"
     ]
    },
    {
     "name": "stdout",
     "output_type": "stream",
     "text": [
      "                                                                                                  \n",
      " concatenate_895 (Concatena  (None, 50)                   0         ['global_average_pooling1d_137\n",
      " te)                                                                [1][0]',                      \n",
      "                                                                     'concatenate_894[1][0]']     \n",
      "                                                                                                  \n",
      " dense_193 (Dense)           (None, 30)                   1530      ['concatenate_895[1][0]']     \n",
      "                                                                                                  \n",
      " batch_normalization_2630 (  (None, 30)                   120       ['dense_193[1][0]']           \n",
      " BatchNormalization)                                                                              \n",
      "                                                                                                  \n",
      " dropout_54 (Dropout)        (None, 30)                   0         ['batch_normalization_2630[1][\n",
      "                                                                    0]']                          \n",
      "                                                                                                  \n",
      " dense_194 (Dense)           (None, 15)                   465       ['dropout_54[1][0]']          \n",
      "                                                                                                  \n",
      " batch_normalization_2631 (  (None, 15)                   60        ['dense_194[1][0]']           \n",
      " BatchNormalization)                                                                              \n",
      "                                                                                                  \n",
      " dropout_55 (Dropout)        (None, 15)                   0         ['batch_normalization_2631[1][\n",
      "                                                                    0]']                          \n",
      "                                                                                                  \n",
      " dense_195 (Dense)           (None, 1)                    16        ['dropout_55[1][0]']          \n",
      "                                                                                                  \n",
      "==================================================================================================\n",
      "Total params: 371999 (1.42 MB)\n",
      "Trainable params: 346641 (1.32 MB)\n",
      "Non-trainable params: 25358 (99.05 KB)\n",
      "__________________________________________________________________________________________________\n"
     ]
    }
   ],
   "source": [
    "\n",
    "model.summary()\n"
   ]
  },
  {
   "cell_type": "code",
   "execution_count": 290,
   "id": "c07e1014",
   "metadata": {},
   "outputs": [
    {
     "name": "stdout",
     "output_type": "stream",
     "text": [
      "The tensorboard extension is already loaded. To reload it, use:\n",
      "  %reload_ext tensorboard\n"
     ]
    }
   ],
   "source": [
    "weights = class_weight.compute_class_weight(  class_weight ='balanced',\n",
    "                                    classes = np.unique(y_train),\n",
    "                                    y = y_train)\n",
    "class_weights = dict(zip(np.unique(y_train), weights))\n",
    "class_weights\n",
    "wghts = {0: 0.6139705882352942, 1: 2.693548387096774}\n",
    "\n",
    "# Load the TensorBoard notebook extension\n",
    "%load_ext tensorboard"
   ]
  },
  {
   "cell_type": "code",
   "execution_count": 291,
   "id": "367a6ebf",
   "metadata": {},
   "outputs": [
    {
     "data": {
      "text/plain": [
       "array([0.61397059, 2.69354839])"
      ]
     },
     "execution_count": 291,
     "metadata": {},
     "output_type": "execute_result"
    }
   ],
   "source": [
    "weights"
   ]
  },
  {
   "cell_type": "code",
   "execution_count": 292,
   "id": "a97b51a5",
   "metadata": {},
   "outputs": [],
   "source": [
    "importlib.reload(results_functions)\n",
    "from results_functions import *"
   ]
  },
  {
   "cell_type": "code",
   "execution_count": 293,
   "id": "78b22685",
   "metadata": {},
   "outputs": [],
   "source": [
    "fscore = tf.keras.metrics.FBetaScore(beta=2.0,threshold=0.5, average='weighted')\n",
    "auc = tf.keras.metrics.AUC(name='auc',curve='PR')"
   ]
  },
  {
   "cell_type": "code",
   "execution_count": 294,
   "id": "7465f75c",
   "metadata": {
    "scrolled": true
   },
   "outputs": [
    {
     "ename": "KeyboardInterrupt",
     "evalue": "",
     "output_type": "error",
     "traceback": [
      "\u001b[0;31m---------------------------------------------------------------------------\u001b[0m",
      "\u001b[0;31mKeyboardInterrupt\u001b[0m                         Traceback (most recent call last)",
      "Cell \u001b[0;32mIn[294], line 42\u001b[0m\n\u001b[1;32m     33\u001b[0m model \u001b[38;5;241m=\u001b[39m create_small_model(input_shape\u001b[38;5;241m=\u001b[39mX_train\u001b[38;5;241m.\u001b[39mshape[\u001b[38;5;241m1\u001b[39m:])\n\u001b[1;32m     34\u001b[0m model\u001b[38;5;241m.\u001b[39mcompile(\n\u001b[1;32m     35\u001b[0m     optimizer\u001b[38;5;241m=\u001b[39mtf\u001b[38;5;241m.\u001b[39mkeras\u001b[38;5;241m.\u001b[39moptimizers\u001b[38;5;241m.\u001b[39mAdam(learning_rate\u001b[38;5;241m=\u001b[39m\u001b[38;5;241m0.001\u001b[39m),\n\u001b[1;32m     36\u001b[0m     loss\u001b[38;5;241m=\u001b[39mweighted_bincrossentropy,\n\u001b[1;32m     37\u001b[0m     metrics\u001b[38;5;241m=\u001b[39m[fscore,auc],\n\u001b[1;32m     38\u001b[0m     weighted_metrics \u001b[38;5;241m=\u001b[39m \u001b[38;5;124m'\u001b[39m\u001b[38;5;124macc\u001b[39m\u001b[38;5;124m'\u001b[39m ,\n\u001b[1;32m     39\u001b[0m )\n\u001b[0;32m---> 42\u001b[0m history \u001b[38;5;241m=\u001b[39m \u001b[43mmodel\u001b[49m\u001b[38;5;241;43m.\u001b[39;49m\u001b[43mfit\u001b[49m\u001b[43m(\u001b[49m\n\u001b[1;32m     43\u001b[0m \u001b[43m    \u001b[49m\u001b[43mX_train\u001b[49m\u001b[43m,\u001b[49m\n\u001b[1;32m     44\u001b[0m \u001b[43m    \u001b[49m\u001b[43mnp\u001b[49m\u001b[38;5;241;43m.\u001b[39;49m\u001b[43marray\u001b[49m\u001b[43m(\u001b[49m\u001b[43my_train\u001b[49m\u001b[43m)\u001b[49m\u001b[43m,\u001b[49m\n\u001b[1;32m     45\u001b[0m \u001b[43m    \u001b[49m\u001b[43mbatch_size\u001b[49m\u001b[38;5;241;43m=\u001b[39;49m\u001b[43mbatch_size\u001b[49m\u001b[43m,\u001b[49m\n\u001b[1;32m     46\u001b[0m \u001b[43m    \u001b[49m\u001b[43mepochs\u001b[49m\u001b[38;5;241;43m=\u001b[39;49m\u001b[43mepochs\u001b[49m\u001b[43m,\u001b[49m\n\u001b[1;32m     47\u001b[0m \u001b[43m    \u001b[49m\u001b[43mcallbacks\u001b[49m\u001b[38;5;241;43m=\u001b[39;49m\u001b[43mcallbacks\u001b[49m\u001b[43m,\u001b[49m\n\u001b[1;32m     48\u001b[0m \u001b[43m    \u001b[49m\u001b[43mvalidation_data\u001b[49m\u001b[38;5;241;43m=\u001b[39;49m\u001b[43m(\u001b[49m\u001b[43mX_val\u001b[49m\u001b[43m,\u001b[49m\u001b[43mnp\u001b[49m\u001b[38;5;241;43m.\u001b[39;49m\u001b[43marray\u001b[49m\u001b[43m(\u001b[49m\u001b[43my_val\u001b[49m\u001b[43m)\u001b[49m\u001b[43m)\u001b[49m\u001b[43m,\u001b[49m\n\u001b[1;32m     49\u001b[0m \u001b[43m    \u001b[49m\u001b[43mverbose\u001b[49m\u001b[38;5;241;43m=\u001b[39;49m\u001b[38;5;241;43m0\u001b[39;49m\u001b[43m,\u001b[49m\n\u001b[1;32m     50\u001b[0m \u001b[43m    \u001b[49m\u001b[38;5;66;43;03m#class_weight = class_weights,\u001b[39;49;00m\n\u001b[1;32m     51\u001b[0m \u001b[43m)\u001b[49m\n\u001b[1;32m     53\u001b[0m model\u001b[38;5;241m.\u001b[39msave_weights(dir_path \u001b[38;5;241m+\u001b[39m \u001b[38;5;124m\"\u001b[39m\u001b[38;5;124mnew_weights_patience15_compress12_dropout04/\u001b[39m\u001b[38;5;124m\"\u001b[39m\u001b[38;5;241m+\u001b[39m\u001b[38;5;124m\"\u001b[39m\u001b[38;5;124mM_\u001b[39m\u001b[38;5;124m\"\u001b[39m\u001b[38;5;241m+\u001b[39m\u001b[38;5;28mstr\u001b[39m(\u001b[38;5;241m0\u001b[39m)\u001b[38;5;241m+\u001b[39m\u001b[38;5;124m\"\u001b[39m\u001b[38;5;124m_restored_weight\u001b[39m\u001b[38;5;124m\"\u001b[39m\u001b[38;5;241m+\u001b[39m\u001b[38;5;124m\"\u001b[39m\u001b[38;5;124m_cp.ckpt\u001b[39m\u001b[38;5;124m\"\u001b[39m)\n",
      "File \u001b[0;32m~/anaconda3/lib/python3.10/site-packages/keras/src/utils/traceback_utils.py:65\u001b[0m, in \u001b[0;36mfilter_traceback.<locals>.error_handler\u001b[0;34m(*args, **kwargs)\u001b[0m\n\u001b[1;32m     63\u001b[0m filtered_tb \u001b[38;5;241m=\u001b[39m \u001b[38;5;28;01mNone\u001b[39;00m\n\u001b[1;32m     64\u001b[0m \u001b[38;5;28;01mtry\u001b[39;00m:\n\u001b[0;32m---> 65\u001b[0m     \u001b[38;5;28;01mreturn\u001b[39;00m \u001b[43mfn\u001b[49m\u001b[43m(\u001b[49m\u001b[38;5;241;43m*\u001b[39;49m\u001b[43margs\u001b[49m\u001b[43m,\u001b[49m\u001b[43m \u001b[49m\u001b[38;5;241;43m*\u001b[39;49m\u001b[38;5;241;43m*\u001b[39;49m\u001b[43mkwargs\u001b[49m\u001b[43m)\u001b[49m\n\u001b[1;32m     66\u001b[0m \u001b[38;5;28;01mexcept\u001b[39;00m \u001b[38;5;167;01mException\u001b[39;00m \u001b[38;5;28;01mas\u001b[39;00m e:\n\u001b[1;32m     67\u001b[0m     filtered_tb \u001b[38;5;241m=\u001b[39m _process_traceback_frames(e\u001b[38;5;241m.\u001b[39m__traceback__)\n",
      "File \u001b[0;32m~/anaconda3/lib/python3.10/site-packages/keras/src/engine/training.py:1742\u001b[0m, in \u001b[0;36mModel.fit\u001b[0;34m(self, x, y, batch_size, epochs, verbose, callbacks, validation_split, validation_data, shuffle, class_weight, sample_weight, initial_epoch, steps_per_epoch, validation_steps, validation_batch_size, validation_freq, max_queue_size, workers, use_multiprocessing)\u001b[0m\n\u001b[1;32m   1734\u001b[0m \u001b[38;5;28;01mwith\u001b[39;00m tf\u001b[38;5;241m.\u001b[39mprofiler\u001b[38;5;241m.\u001b[39mexperimental\u001b[38;5;241m.\u001b[39mTrace(\n\u001b[1;32m   1735\u001b[0m     \u001b[38;5;124m\"\u001b[39m\u001b[38;5;124mtrain\u001b[39m\u001b[38;5;124m\"\u001b[39m,\n\u001b[1;32m   1736\u001b[0m     epoch_num\u001b[38;5;241m=\u001b[39mepoch,\n\u001b[0;32m   (...)\u001b[0m\n\u001b[1;32m   1739\u001b[0m     _r\u001b[38;5;241m=\u001b[39m\u001b[38;5;241m1\u001b[39m,\n\u001b[1;32m   1740\u001b[0m ):\n\u001b[1;32m   1741\u001b[0m     callbacks\u001b[38;5;241m.\u001b[39mon_train_batch_begin(step)\n\u001b[0;32m-> 1742\u001b[0m     tmp_logs \u001b[38;5;241m=\u001b[39m \u001b[38;5;28;43mself\u001b[39;49m\u001b[38;5;241;43m.\u001b[39;49m\u001b[43mtrain_function\u001b[49m\u001b[43m(\u001b[49m\u001b[43miterator\u001b[49m\u001b[43m)\u001b[49m\n\u001b[1;32m   1743\u001b[0m     \u001b[38;5;28;01mif\u001b[39;00m data_handler\u001b[38;5;241m.\u001b[39mshould_sync:\n\u001b[1;32m   1744\u001b[0m         context\u001b[38;5;241m.\u001b[39masync_wait()\n",
      "File \u001b[0;32m~/anaconda3/lib/python3.10/site-packages/tensorflow/python/util/traceback_utils.py:150\u001b[0m, in \u001b[0;36mfilter_traceback.<locals>.error_handler\u001b[0;34m(*args, **kwargs)\u001b[0m\n\u001b[1;32m    148\u001b[0m filtered_tb \u001b[38;5;241m=\u001b[39m \u001b[38;5;28;01mNone\u001b[39;00m\n\u001b[1;32m    149\u001b[0m \u001b[38;5;28;01mtry\u001b[39;00m:\n\u001b[0;32m--> 150\u001b[0m   \u001b[38;5;28;01mreturn\u001b[39;00m \u001b[43mfn\u001b[49m\u001b[43m(\u001b[49m\u001b[38;5;241;43m*\u001b[39;49m\u001b[43margs\u001b[49m\u001b[43m,\u001b[49m\u001b[43m \u001b[49m\u001b[38;5;241;43m*\u001b[39;49m\u001b[38;5;241;43m*\u001b[39;49m\u001b[43mkwargs\u001b[49m\u001b[43m)\u001b[49m\n\u001b[1;32m    151\u001b[0m \u001b[38;5;28;01mexcept\u001b[39;00m \u001b[38;5;167;01mException\u001b[39;00m \u001b[38;5;28;01mas\u001b[39;00m e:\n\u001b[1;32m    152\u001b[0m   filtered_tb \u001b[38;5;241m=\u001b[39m _process_traceback_frames(e\u001b[38;5;241m.\u001b[39m__traceback__)\n",
      "File \u001b[0;32m~/anaconda3/lib/python3.10/site-packages/tensorflow/python/eager/polymorphic_function/polymorphic_function.py:825\u001b[0m, in \u001b[0;36mFunction.__call__\u001b[0;34m(self, *args, **kwds)\u001b[0m\n\u001b[1;32m    822\u001b[0m compiler \u001b[38;5;241m=\u001b[39m \u001b[38;5;124m\"\u001b[39m\u001b[38;5;124mxla\u001b[39m\u001b[38;5;124m\"\u001b[39m \u001b[38;5;28;01mif\u001b[39;00m \u001b[38;5;28mself\u001b[39m\u001b[38;5;241m.\u001b[39m_jit_compile \u001b[38;5;28;01melse\u001b[39;00m \u001b[38;5;124m\"\u001b[39m\u001b[38;5;124mnonXla\u001b[39m\u001b[38;5;124m\"\u001b[39m\n\u001b[1;32m    824\u001b[0m \u001b[38;5;28;01mwith\u001b[39;00m OptionalXlaContext(\u001b[38;5;28mself\u001b[39m\u001b[38;5;241m.\u001b[39m_jit_compile):\n\u001b[0;32m--> 825\u001b[0m   result \u001b[38;5;241m=\u001b[39m \u001b[38;5;28;43mself\u001b[39;49m\u001b[38;5;241;43m.\u001b[39;49m\u001b[43m_call\u001b[49m\u001b[43m(\u001b[49m\u001b[38;5;241;43m*\u001b[39;49m\u001b[43margs\u001b[49m\u001b[43m,\u001b[49m\u001b[43m \u001b[49m\u001b[38;5;241;43m*\u001b[39;49m\u001b[38;5;241;43m*\u001b[39;49m\u001b[43mkwds\u001b[49m\u001b[43m)\u001b[49m\n\u001b[1;32m    827\u001b[0m new_tracing_count \u001b[38;5;241m=\u001b[39m \u001b[38;5;28mself\u001b[39m\u001b[38;5;241m.\u001b[39mexperimental_get_tracing_count()\n\u001b[1;32m    828\u001b[0m without_tracing \u001b[38;5;241m=\u001b[39m (tracing_count \u001b[38;5;241m==\u001b[39m new_tracing_count)\n",
      "File \u001b[0;32m~/anaconda3/lib/python3.10/site-packages/tensorflow/python/eager/polymorphic_function/polymorphic_function.py:890\u001b[0m, in \u001b[0;36mFunction._call\u001b[0;34m(self, *args, **kwds)\u001b[0m\n\u001b[1;32m    886\u001b[0m     \u001b[38;5;28;01mpass\u001b[39;00m  \u001b[38;5;66;03m# Fall through to cond-based initialization.\u001b[39;00m\n\u001b[1;32m    887\u001b[0m   \u001b[38;5;28;01melse\u001b[39;00m:\n\u001b[1;32m    888\u001b[0m     \u001b[38;5;66;03m# Lifting succeeded, so variables are initialized and we can run the\u001b[39;00m\n\u001b[1;32m    889\u001b[0m     \u001b[38;5;66;03m# no_variable_creation function.\u001b[39;00m\n\u001b[0;32m--> 890\u001b[0m     \u001b[38;5;28;01mreturn\u001b[39;00m \u001b[38;5;28;43mself\u001b[39;49m\u001b[38;5;241;43m.\u001b[39;49m\u001b[43m_no_variable_creation_fn\u001b[49m\u001b[43m(\u001b[49m\u001b[38;5;241;43m*\u001b[39;49m\u001b[43margs\u001b[49m\u001b[43m,\u001b[49m\u001b[43m \u001b[49m\u001b[38;5;241;43m*\u001b[39;49m\u001b[38;5;241;43m*\u001b[39;49m\u001b[43mkwds\u001b[49m\u001b[43m)\u001b[49m\n\u001b[1;32m    891\u001b[0m \u001b[38;5;28;01melse\u001b[39;00m:\n\u001b[1;32m    892\u001b[0m   _, _, filtered_flat_args \u001b[38;5;241m=\u001b[39m (\n\u001b[1;32m    893\u001b[0m       \u001b[38;5;28mself\u001b[39m\u001b[38;5;241m.\u001b[39m_variable_creation_fn\u001b[38;5;241m.\u001b[39m_function_spec  \u001b[38;5;66;03m# pylint: disable=protected-access\u001b[39;00m\n\u001b[1;32m    894\u001b[0m       \u001b[38;5;241m.\u001b[39mcanonicalize_function_inputs(\n\u001b[1;32m    895\u001b[0m           args, kwds))\n",
      "File \u001b[0;32m~/anaconda3/lib/python3.10/site-packages/tensorflow/python/eager/polymorphic_function/tracing_compiler.py:148\u001b[0m, in \u001b[0;36mTracingCompiler.__call__\u001b[0;34m(self, *args, **kwargs)\u001b[0m\n\u001b[1;32m    145\u001b[0m \u001b[38;5;28;01mwith\u001b[39;00m \u001b[38;5;28mself\u001b[39m\u001b[38;5;241m.\u001b[39m_lock:\n\u001b[1;32m    146\u001b[0m   (concrete_function,\n\u001b[1;32m    147\u001b[0m    filtered_flat_args) \u001b[38;5;241m=\u001b[39m \u001b[38;5;28mself\u001b[39m\u001b[38;5;241m.\u001b[39m_maybe_define_function(args, kwargs)\n\u001b[0;32m--> 148\u001b[0m \u001b[38;5;28;01mreturn\u001b[39;00m \u001b[43mconcrete_function\u001b[49m\u001b[38;5;241;43m.\u001b[39;49m\u001b[43m_call_flat\u001b[49m\u001b[43m(\u001b[49m\n\u001b[1;32m    149\u001b[0m \u001b[43m    \u001b[49m\u001b[43mfiltered_flat_args\u001b[49m\u001b[43m,\u001b[49m\u001b[43m \u001b[49m\u001b[43mcaptured_inputs\u001b[49m\u001b[38;5;241;43m=\u001b[39;49m\u001b[43mconcrete_function\u001b[49m\u001b[38;5;241;43m.\u001b[39;49m\u001b[43mcaptured_inputs\u001b[49m\u001b[43m)\u001b[49m\n",
      "File \u001b[0;32m~/anaconda3/lib/python3.10/site-packages/tensorflow/python/eager/polymorphic_function/monomorphic_function.py:1349\u001b[0m, in \u001b[0;36mConcreteFunction._call_flat\u001b[0;34m(self, args, captured_inputs)\u001b[0m\n\u001b[1;32m   1345\u001b[0m possible_gradient_type \u001b[38;5;241m=\u001b[39m gradients_util\u001b[38;5;241m.\u001b[39mPossibleTapeGradientTypes(args)\n\u001b[1;32m   1346\u001b[0m \u001b[38;5;28;01mif\u001b[39;00m (possible_gradient_type \u001b[38;5;241m==\u001b[39m gradients_util\u001b[38;5;241m.\u001b[39mPOSSIBLE_GRADIENT_TYPES_NONE\n\u001b[1;32m   1347\u001b[0m     \u001b[38;5;129;01mand\u001b[39;00m executing_eagerly):\n\u001b[1;32m   1348\u001b[0m   \u001b[38;5;66;03m# No tape is watching; skip to running the function.\u001b[39;00m\n\u001b[0;32m-> 1349\u001b[0m   \u001b[38;5;28;01mreturn\u001b[39;00m \u001b[38;5;28mself\u001b[39m\u001b[38;5;241m.\u001b[39m_build_call_outputs(\u001b[38;5;28;43mself\u001b[39;49m\u001b[38;5;241;43m.\u001b[39;49m\u001b[43m_inference_function\u001b[49m\u001b[43m(\u001b[49m\u001b[38;5;241;43m*\u001b[39;49m\u001b[43margs\u001b[49m\u001b[43m)\u001b[49m)\n\u001b[1;32m   1350\u001b[0m forward_backward \u001b[38;5;241m=\u001b[39m \u001b[38;5;28mself\u001b[39m\u001b[38;5;241m.\u001b[39m_select_forward_and_backward_functions(\n\u001b[1;32m   1351\u001b[0m     args,\n\u001b[1;32m   1352\u001b[0m     possible_gradient_type,\n\u001b[1;32m   1353\u001b[0m     executing_eagerly)\n\u001b[1;32m   1354\u001b[0m forward_function, args_with_tangents \u001b[38;5;241m=\u001b[39m forward_backward\u001b[38;5;241m.\u001b[39mforward()\n",
      "File \u001b[0;32m~/anaconda3/lib/python3.10/site-packages/tensorflow/python/eager/polymorphic_function/atomic_function.py:196\u001b[0m, in \u001b[0;36mAtomicFunction.__call__\u001b[0;34m(self, *args)\u001b[0m\n\u001b[1;32m    194\u001b[0m \u001b[38;5;28;01mwith\u001b[39;00m record\u001b[38;5;241m.\u001b[39mstop_recording():\n\u001b[1;32m    195\u001b[0m   \u001b[38;5;28;01mif\u001b[39;00m \u001b[38;5;28mself\u001b[39m\u001b[38;5;241m.\u001b[39m_bound_context\u001b[38;5;241m.\u001b[39mexecuting_eagerly():\n\u001b[0;32m--> 196\u001b[0m     outputs \u001b[38;5;241m=\u001b[39m \u001b[38;5;28;43mself\u001b[39;49m\u001b[38;5;241;43m.\u001b[39;49m\u001b[43m_bound_context\u001b[49m\u001b[38;5;241;43m.\u001b[39;49m\u001b[43mcall_function\u001b[49m\u001b[43m(\u001b[49m\n\u001b[1;32m    197\u001b[0m \u001b[43m        \u001b[49m\u001b[38;5;28;43mself\u001b[39;49m\u001b[38;5;241;43m.\u001b[39;49m\u001b[43mname\u001b[49m\u001b[43m,\u001b[49m\n\u001b[1;32m    198\u001b[0m \u001b[43m        \u001b[49m\u001b[38;5;28;43mlist\u001b[39;49m\u001b[43m(\u001b[49m\u001b[43margs\u001b[49m\u001b[43m)\u001b[49m\u001b[43m,\u001b[49m\n\u001b[1;32m    199\u001b[0m \u001b[43m        \u001b[49m\u001b[38;5;28;43mlen\u001b[39;49m\u001b[43m(\u001b[49m\u001b[38;5;28;43mself\u001b[39;49m\u001b[38;5;241;43m.\u001b[39;49m\u001b[43mfunction_type\u001b[49m\u001b[38;5;241;43m.\u001b[39;49m\u001b[43mflat_outputs\u001b[49m\u001b[43m)\u001b[49m\u001b[43m,\u001b[49m\n\u001b[1;32m    200\u001b[0m \u001b[43m    \u001b[49m\u001b[43m)\u001b[49m\n\u001b[1;32m    201\u001b[0m   \u001b[38;5;28;01melse\u001b[39;00m:\n\u001b[1;32m    202\u001b[0m     outputs \u001b[38;5;241m=\u001b[39m make_call_op_in_graph(\u001b[38;5;28mself\u001b[39m, \u001b[38;5;28mlist\u001b[39m(args))\n",
      "File \u001b[0;32m~/anaconda3/lib/python3.10/site-packages/tensorflow/python/eager/context.py:1457\u001b[0m, in \u001b[0;36mContext.call_function\u001b[0;34m(self, name, tensor_inputs, num_outputs)\u001b[0m\n\u001b[1;32m   1455\u001b[0m cancellation_context \u001b[38;5;241m=\u001b[39m cancellation\u001b[38;5;241m.\u001b[39mcontext()\n\u001b[1;32m   1456\u001b[0m \u001b[38;5;28;01mif\u001b[39;00m cancellation_context \u001b[38;5;129;01mis\u001b[39;00m \u001b[38;5;28;01mNone\u001b[39;00m:\n\u001b[0;32m-> 1457\u001b[0m   outputs \u001b[38;5;241m=\u001b[39m \u001b[43mexecute\u001b[49m\u001b[38;5;241;43m.\u001b[39;49m\u001b[43mexecute\u001b[49m\u001b[43m(\u001b[49m\n\u001b[1;32m   1458\u001b[0m \u001b[43m      \u001b[49m\u001b[43mname\u001b[49m\u001b[38;5;241;43m.\u001b[39;49m\u001b[43mdecode\u001b[49m\u001b[43m(\u001b[49m\u001b[38;5;124;43m\"\u001b[39;49m\u001b[38;5;124;43mutf-8\u001b[39;49m\u001b[38;5;124;43m\"\u001b[39;49m\u001b[43m)\u001b[49m\u001b[43m,\u001b[49m\n\u001b[1;32m   1459\u001b[0m \u001b[43m      \u001b[49m\u001b[43mnum_outputs\u001b[49m\u001b[38;5;241;43m=\u001b[39;49m\u001b[43mnum_outputs\u001b[49m\u001b[43m,\u001b[49m\n\u001b[1;32m   1460\u001b[0m \u001b[43m      \u001b[49m\u001b[43minputs\u001b[49m\u001b[38;5;241;43m=\u001b[39;49m\u001b[43mtensor_inputs\u001b[49m\u001b[43m,\u001b[49m\n\u001b[1;32m   1461\u001b[0m \u001b[43m      \u001b[49m\u001b[43mattrs\u001b[49m\u001b[38;5;241;43m=\u001b[39;49m\u001b[43mattrs\u001b[49m\u001b[43m,\u001b[49m\n\u001b[1;32m   1462\u001b[0m \u001b[43m      \u001b[49m\u001b[43mctx\u001b[49m\u001b[38;5;241;43m=\u001b[39;49m\u001b[38;5;28;43mself\u001b[39;49m\u001b[43m,\u001b[49m\n\u001b[1;32m   1463\u001b[0m \u001b[43m  \u001b[49m\u001b[43m)\u001b[49m\n\u001b[1;32m   1464\u001b[0m \u001b[38;5;28;01melse\u001b[39;00m:\n\u001b[1;32m   1465\u001b[0m   outputs \u001b[38;5;241m=\u001b[39m execute\u001b[38;5;241m.\u001b[39mexecute_with_cancellation(\n\u001b[1;32m   1466\u001b[0m       name\u001b[38;5;241m.\u001b[39mdecode(\u001b[38;5;124m\"\u001b[39m\u001b[38;5;124mutf-8\u001b[39m\u001b[38;5;124m\"\u001b[39m),\n\u001b[1;32m   1467\u001b[0m       num_outputs\u001b[38;5;241m=\u001b[39mnum_outputs,\n\u001b[0;32m   (...)\u001b[0m\n\u001b[1;32m   1471\u001b[0m       cancellation_manager\u001b[38;5;241m=\u001b[39mcancellation_context,\n\u001b[1;32m   1472\u001b[0m   )\n",
      "File \u001b[0;32m~/anaconda3/lib/python3.10/site-packages/tensorflow/python/eager/execute.py:53\u001b[0m, in \u001b[0;36mquick_execute\u001b[0;34m(op_name, num_outputs, inputs, attrs, ctx, name)\u001b[0m\n\u001b[1;32m     51\u001b[0m \u001b[38;5;28;01mtry\u001b[39;00m:\n\u001b[1;32m     52\u001b[0m   ctx\u001b[38;5;241m.\u001b[39mensure_initialized()\n\u001b[0;32m---> 53\u001b[0m   tensors \u001b[38;5;241m=\u001b[39m \u001b[43mpywrap_tfe\u001b[49m\u001b[38;5;241;43m.\u001b[39;49m\u001b[43mTFE_Py_Execute\u001b[49m\u001b[43m(\u001b[49m\u001b[43mctx\u001b[49m\u001b[38;5;241;43m.\u001b[39;49m\u001b[43m_handle\u001b[49m\u001b[43m,\u001b[49m\u001b[43m \u001b[49m\u001b[43mdevice_name\u001b[49m\u001b[43m,\u001b[49m\u001b[43m \u001b[49m\u001b[43mop_name\u001b[49m\u001b[43m,\u001b[49m\n\u001b[1;32m     54\u001b[0m \u001b[43m                                      \u001b[49m\u001b[43minputs\u001b[49m\u001b[43m,\u001b[49m\u001b[43m \u001b[49m\u001b[43mattrs\u001b[49m\u001b[43m,\u001b[49m\u001b[43m \u001b[49m\u001b[43mnum_outputs\u001b[49m\u001b[43m)\u001b[49m\n\u001b[1;32m     55\u001b[0m \u001b[38;5;28;01mexcept\u001b[39;00m core\u001b[38;5;241m.\u001b[39m_NotOkStatusException \u001b[38;5;28;01mas\u001b[39;00m e:\n\u001b[1;32m     56\u001b[0m   \u001b[38;5;28;01mif\u001b[39;00m name \u001b[38;5;129;01mis\u001b[39;00m \u001b[38;5;129;01mnot\u001b[39;00m \u001b[38;5;28;01mNone\u001b[39;00m:\n",
      "\u001b[0;31mKeyboardInterrupt\u001b[0m: "
     ]
    }
   ],
   "source": [
    "importlib.reload(Chatgpt_model)\n",
    "from Chatgpt_model import *\n",
    "importlib.reload(metrics_loss_functions)\n",
    "from metrics_loss_functions import *\n",
    "\n",
    "epochs = 100\n",
    "batch_size = 32\n",
    "\n",
    "dir_path = \"checkpoint_dir/\"+ datetime.datetime.now().strftime(\"%Y%m%d-%H%M%S\")\n",
    "\n",
    "\n",
    "#for i in range(5):\n",
    "checkpoint_path = dir_path + \"LSTM_test_patience15_compress12_dropout04/\"+\"M_\"+str(0)+\"_cp.ckpt\"\n",
    "checkpoint_dir = os.path.dirname(checkpoint_path)\n",
    "log_dir = \"logs/fit/\" + datetime.datetime.now().strftime(\"%Y%m%d-%H%M%S\")\n",
    "tensorboard_callback = tf.keras.callbacks.TensorBoard(log_dir=log_dir, histogram_freq=1)\n",
    "checkpoint_dir = os.path.dirname(checkpoint_path)\n",
    "\n",
    "\n",
    "\n",
    "callbacks = [\n",
    "    tf.keras.callbacks.ModelCheckpoint(filepath=checkpoint_path,\n",
    "                                                 save_weights_only=True,\n",
    "                                                 verbose=1),\n",
    "    tf.keras.callbacks.ReduceLROnPlateau(\n",
    "        monitor=\"val_loss\", factor=0.5, patience=10, min_lr=0.0001\n",
    "    ),\n",
    "    tf.keras.callbacks.EarlyStopping(monitor='val_loss', patience=25, verbose=1,restore_best_weights=True,mode='min'),\n",
    "    tensorboard_callback,\n",
    "    #custom_validation_loss,\n",
    "]\n",
    "\n",
    "model = create_small_model(input_shape=X_train.shape[1:])\n",
    "model.compile(\n",
    "    optimizer=tf.keras.optimizers.Adam(learning_rate=0.001),\n",
    "    loss=weighted_bincrossentropy,\n",
    "    metrics=[fscore,auc],\n",
    "    weighted_metrics = 'acc' ,\n",
    ")\n",
    "\n",
    "\n",
    "history = model.fit(\n",
    "    X_train,\n",
    "    np.array(y_train),\n",
    "    batch_size=batch_size,\n",
    "    epochs=epochs,\n",
    "    callbacks=callbacks,\n",
    "    validation_data=(X_val,np.array(y_val)),\n",
    "    verbose=0,\n",
    "    #class_weight = class_weights,\n",
    ")\n",
    "\n",
    "model.save_weights(dir_path + \"LSTM_test_patience15_compress12_dropout04/\"+\"M_\"+str(0)+\"_restored_weight\"+\"_cp.ckpt\")\n",
    "\n"
   ]
  },
  {
   "cell_type": "code",
   "execution_count": 249,
   "id": "e20d53bb",
   "metadata": {
    "ExecuteTime": {
     "end_time": "2023-04-28T19:37:10.225225Z",
     "start_time": "2023-04-28T19:37:09.972845Z"
    }
   },
   "outputs": [
    {
     "data": {
      "image/png": "[encoded data removed]",
      "text/plain": [
       "<Figure size 2000x300 with 2 Axes>"
      ]
     },
     "metadata": {},
     "output_type": "display_data"
    }
   ],
   "source": [
    "fig, ax = plt.subplots(1, 2, figsize=(20, 3))\n",
    "ax = ax.ravel()\n",
    "\n",
    "for i, met in enumerate(['acc', 'loss']):\n",
    "    ax[i].plot(history.history[met])\n",
    "    ax[i].plot(history.history['val_' + met])\n",
    "    ax[i].set_title('Model {}'.format(met))\n",
    "    ax[i].set_xlabel('epochs')\n",
    "    ax[i].set_ylabel(met)\n",
    "    ax[i].legend(['train', 'val'])\n",
    "    \n"
   ]
  },
  {
   "cell_type": "code",
   "execution_count": 250,
   "id": "279aec22",
   "metadata": {},
   "outputs": [
    {
     "data": {
      "image/png": "[encoded data removed]",
      "text/plain": [
       "<Figure size 2000x300 with 2 Axes>"
      ]
     },
     "metadata": {},
     "output_type": "display_data"
    }
   ],
   "source": [
    "fig, ax = plt.subplots(1, 2, figsize=(20, 3))\n",
    "ax = ax.ravel()\n",
    "\n",
    "for i, met in enumerate(['auc', 'loss']):\n",
    "    ax[i].plot(history.history[met])\n",
    "    ax[i].plot(history.history['val_' + met])\n",
    "    ax[i].set_title('Model {}'.format(met))\n",
    "    ax[i].set_xlabel('epochs')\n",
    "    ax[i].set_ylabel(met)\n",
    "    ax[i].legend(['train', 'val'])"
   ]
  },
  {
   "cell_type": "code",
   "execution_count": 251,
   "id": "a78fd5e7",
   "metadata": {
    "scrolled": true
   },
   "outputs": [
    {
     "name": "stdout",
     "output_type": "stream",
     "text": [
      "152/152 [==============================] - 3s 23ms/step - loss: 0.8987 - fbeta_score: 0.6736 - auc: 0.6914 - acc: 0.7323\n"
     ]
    },
    {
     "data": {
      "text/plain": [
       "[0.8986976146697998, 0.673638105392456, 0.6914138197898865, 0.7323190569877625]"
      ]
     },
     "execution_count": 251,
     "metadata": {},
     "output_type": "execute_result"
    }
   ],
   "source": [
    "model.evaluate(X_test, y_test) "
   ]
  },
  {
   "cell_type": "code",
   "execution_count": 252,
   "id": "eb2ab815",
   "metadata": {
    "ExecuteTime": {
     "end_time": "2023-04-28T19:37:17.560656Z",
     "start_time": "2023-04-28T19:37:17.279104Z"
    },
    "colab": {
     "base_uri": "https://localhost:8080/"
    },
    "id": "PYQLQItpOKBp",
    "outputId": "617b07c3-a5a4-45db-cce1-e3aa4dc1a1af",
    "scrolled": true
   },
   "outputs": [
    {
     "name": "stdout",
     "output_type": "stream",
     "text": [
      "152/152 [==============================] - 4s 20ms/step\n",
      "[[0.34882954]\n",
      " [0.6327677 ]\n",
      " [0.25270215]\n",
      " ...\n",
      " [0.474312  ]\n",
      " [0.60532266]\n",
      " [0.8007956 ]]\n"
     ]
    }
   ],
   "source": [
    "pred = model.predict(X_test)\n",
    "print(pred)"
   ]
  },
  {
   "cell_type": "code",
   "execution_count": 127,
   "id": "868fa208",
   "metadata": {},
   "outputs": [],
   "source": [
    "importlib.reload(Chatgpt_model)\n",
    "from Chatgpt_model import *\n",
    "importlib.reload(metrics_loss_functions)\n",
    "from metrics_loss_functions import *\n",
    "\n",
    "model = create_small_model(input_shape=X_train.shape[1:])\n",
    "model.compile(\n",
    "    optimizer=tf.keras.optimizers.Adam(learning_rate=0.001),\n",
    "    loss=\"binary_crossentropy\",\n",
    "    metrics=[fscore,auc],\n",
    "    weighted_metrics = 'acc' ,\n",
    ")\n",
    "\n"
   ]
  },
  {
   "cell_type": "code",
   "execution_count": 160,
   "id": "091aaead",
   "metadata": {},
   "outputs": [
    {
     "name": "stdout",
     "output_type": "stream",
     "text": [
      "Résultats modèle  0  : \n",
      "151/151 [==============================] - 4s 25ms/step - loss: 0.4989 - fbeta_score: 0.6658 - auc: 0.7411 - acc: 0.8151\n",
      "152/152 [==============================] - 3s 22ms/step - loss: 0.5036 - fbeta_score: 0.6732 - auc: 0.7324 - acc: 0.7995\n",
      "Résultats modèle  1  : \n",
      "151/151 [==============================] - 5s 31ms/step - loss: 0.6066 - fbeta_score: 0.6108 - auc: 0.6225 - acc: 0.7107\n",
      "152/152 [==============================] - 5s 30ms/step - loss: 0.6428 - fbeta_score: 0.5822 - auc: 0.5603 - acc: 0.6848\n",
      "Résultats modèle  2  : \n",
      "151/151 [==============================] - 4s 27ms/step - loss: 0.5117 - fbeta_score: 0.6668 - auc: 0.7451 - acc: 0.8111\n",
      "152/152 [==============================] - 3s 22ms/step - loss: 0.5146 - fbeta_score: 0.6546 - auc: 0.7240 - acc: 0.7940\n",
      "Résultats modèle  3  : \n",
      "151/151 [==============================] - 3s 23ms/step - loss: 0.5674 - fbeta_score: 0.6137 - auc: 0.6693 - acc: 0.7180\n",
      "152/152 [==============================] - 4s 25ms/step - loss: 0.6240 - fbeta_score: 0.6114 - auc: 0.6192 - acc: 0.7239\n",
      "Résultats modèle  4  : \n",
      "151/151 [==============================] - 5s 31ms/step - loss: 0.5171 - fbeta_score: 0.6780 - auc: 0.7434 - acc: 0.7867\n",
      "152/152 [==============================] - 3s 22ms/step - loss: 0.5486 - fbeta_score: 0.6490 - auc: 0.7045 - acc: 0.7523\n"
     ]
    }
   ],
   "source": [
    "\n",
    "paths=[]\n",
    "paths.append(\"checkpoint_dir/20230726-171411new_loss_patience25_compress12_dropout04/M_0_restored_weight_cp.ckpt\")\n",
    "paths.append(\"checkpoint_dir/20230726-171411new_loss_patience25_compress12_dropout04/M_1_restored_weight_cp.ckpt\")\n",
    "paths.append(\"checkpoint_dir/20230726-171411new_loss_patience25_compress12_dropout04/M_2_restored_weight_cp.ckpt\")\n",
    "paths.append(\"checkpoint_dir/20230726-171411new_loss_patience25_compress12_dropout04/M_3_restored_weight_cp.ckpt\")\n",
    "paths.append(\"checkpoint_dir/20230726-171411new_loss_patience25_compress12_dropout04/M_4_restored_weight_cp.ckpt\")\n",
    "\n",
    "preds=[]\n",
    "\n",
    "\n",
    "\n",
    "for i in range(len(paths)):\n",
    "    model.load_weights(paths[i])\n",
    "    print(\"Résultats modèle \",i,\" : \")\n",
    "    model.evaluate(X_val,y_val)\n",
    "    model.evaluate(X_test,y_test)\n",
    "    preds.append(model.predict(X_test,verbose=0))\n",
    "    "
   ]
  },
  {
   "cell_type": "code",
   "execution_count": 258,
   "id": "b28cbdb2",
   "metadata": {},
   "outputs": [
    {
     "data": {
      "text/plain": [
       "'\\npred_0 = get_patients_pred(preds[0],df_test)\\npred_1 = get_patients_pred(preds[1],df_test)\\npred_2 = get_patients_pred(preds[2],df_test)\\npred_3 = get_patients_pred(preds[3],df_test)\\npred_4 = get_patients_pred(preds[4],df_test)\\n\\npred_0 = (preds[0] > 0.5)*1\\npred_1 = (preds[1] > 0.5)*1\\npred_2 = (preds[2] > 0.5)*1\\npred_3 = (preds[3] > 0.5)*1\\npred_4 = (preds[4] > 0.5)*1\\n\\npred = np.add(pred_0, pred_1,pred_2)\\npred = np.add(pred,pred_3,pred_4)\\npred = pred/5\\n'"
      ]
     },
     "execution_count": 258,
     "metadata": {},
     "output_type": "execute_result"
    }
   ],
   "source": [
    "importlib.reload(results_functions)\n",
    "from results_functions import *\n",
    "\n",
    "n=0\n",
    "pred=preds[n]\n",
    "\"\"\"\n",
    "pred_0 = get_patients_pred(preds[0],df_test)\n",
    "pred_1 = get_patients_pred(preds[1],df_test)\n",
    "pred_2 = get_patients_pred(preds[2],df_test)\n",
    "pred_3 = get_patients_pred(preds[3],df_test)\n",
    "pred_4 = get_patients_pred(preds[4],df_test)\n",
    "\n",
    "pred_0 = (preds[0] > 0.5)*1\n",
    "pred_1 = (preds[1] > 0.5)*1\n",
    "pred_2 = (preds[2] > 0.5)*1\n",
    "pred_3 = (preds[3] > 0.5)*1\n",
    "pred_4 = (preds[4] > 0.5)*1\n",
    "\n",
    "pred = np.add(pred_0, pred_1,pred_2)\n",
    "pred = np.add(pred,pred_3,pred_4)\n",
    "pred = pred/5\n",
    "\"\"\"\n",
    "#pred = (pred > 0.5)*1"
   ]
  },
  {
   "cell_type": "code",
   "execution_count": 259,
   "id": "6ca0eb6f",
   "metadata": {
    "ExecuteTime": {
     "end_time": "2023-04-28T19:37:18.942364Z",
     "start_time": "2023-04-28T19:37:18.903410Z"
    },
    "id": "Dh7gibaQiOsw"
   },
   "outputs": [],
   "source": [
    "list_patient_rows = list(df_test.groupby(['patient_id'])['patient_id'].count())"
   ]
  },
  {
   "cell_type": "code",
   "execution_count": 260,
   "id": "d087f498",
   "metadata": {
    "ExecuteTime": {
     "end_time": "2023-04-28T19:37:19.839449Z",
     "start_time": "2023-04-28T19:37:19.836902Z"
    },
    "id": "FBeasPNClnpb"
   },
   "outputs": [],
   "source": [
    "pred_groupby_patient = np.split(pred,cumulative(list_patient_rows))\n",
    "pred_groupby_patient = pred_groupby_patient[:-1]\n",
    "\n",
    "df_test = df_test.astype({'murmur':'int'})\n",
    "y_test_grouped = df_test[['patient_id','murmur']].drop_duplicates()['murmur'].to_list()"
   ]
  },
  {
   "cell_type": "code",
   "execution_count": 261,
   "id": "2d28d67a",
   "metadata": {
    "ExecuteTime": {
     "end_time": "2023-04-28T19:37:21.314585Z",
     "start_time": "2023-04-28T19:37:21.291913Z"
    },
    "id": "TYCSAcHFzHLy"
   },
   "outputs": [],
   "source": [
    "pred1 = mean_pred(pred_groupby_patient)\n",
    "pred2 = majority_pred(pred_groupby_patient)"
   ]
  },
  {
   "cell_type": "code",
   "execution_count": 262,
   "id": "8d0c063f",
   "metadata": {
    "ExecuteTime": {
     "end_time": "2023-04-28T19:29:59.110704Z",
     "start_time": "2023-04-28T19:29:58.979913Z"
    },
    "colab": {
     "base_uri": "https://localhost:8080/"
    },
    "id": "UoHq89-17e8x",
    "outputId": "de9a2982-fd6d-43c6-ee32-54ad1a9f6761",
    "scrolled": true
   },
   "outputs": [
    {
     "name": "stdout",
     "output_type": "stream",
     "text": [
      "[0, 0, 0, 0, 1, 0, 0, 1, 1, 1, 1, 0, 1, 0, 0, 1, 1, 0, 0, 0, 1, 0, 0, 0, 0, 0, 0, 0, 0, 1, 1, 0, 0, 0, 0, 0, 1, 0, 0, 0, 0, 0, 0, 0, 0, 0, 0, 1, 1, 0, 0, 0, 0, 0, 0, 0, 0, 0, 0, 0, 0, 0, 0, 0, 0, 0, 0, 0, 0, 0, 1, 0, 0, 0, 0, 0, 0, 1, 1, 0, 0, 0, 1, 1, 0, 0, 1, 1, 0, 1, 1, 0, 0, 0, 0, 0, 0, 1, 0, 0, 0, 0, 0, 0, 0, 1, 1, 0, 0, 1, 0, 1, 1, 0, 0, 1, 1, 1, 0, 1, 0, 0, 0, 0, 0, 0, 1, 0, 0, 0, 1, 0, 0, 0, 0, 1, 0, 0, 1, 1, 0, 0, 0, 0, 1, 0, 1, 0, 0, 0, 0, 0, 0, 0, 0, 0, 0, 1, 0, 0, 0, 1, 0, 0, 0, 0, 0, 0, 0, 1, 1, 0, 0, 0, 0]\n",
      "Accuracy score of mean_pred :  0.8971428571428571\n",
      "Accuracy score of majority_pred :  0.9028571428571428\n",
      "Weighted accuracy score of majority_pred :  0.8650458069062721\n",
      "Weighted accuracy score of majority_pred :  0.8472622478386167\n"
     ]
    }
   ],
   "source": [
    "print(pred1)\n",
    "#print(pred2)\n",
    "#print(y_test_grouped)\n",
    "y_true = pred2\n",
    "y_pred = y_test_grouped\n",
    "# compute the confusion matrix\n",
    "cm = confusion_matrix(y_true, y_pred)\n",
    "tn, fp, fn, tp = cm.ravel()\n",
    "weight_positive = 5\n",
    "weight_negative = 1\n",
    "weighted_accuracy = (weight_positive * tp + weight_negative * tn) / (weight_positive * (tp + fn) + weight_negative * (tn + fp))\n",
    "\n",
    "\n",
    "print(\"Accuracy score of mean_pred : \",accuracy_score(pred1 , y_test_grouped))\n",
    "print(\"Accuracy score of majority_pred : \",accuracy_score(pred2 , y_test_grouped))\n",
    "print(\"Weighted accuracy score of majority_pred : \",balanced_accuracy_score(pred2 , y_test_grouped))\n",
    "print(\"Weighted accuracy score of majority_pred : \",weighted_accuracy)"
   ]
  },
  {
   "cell_type": "code",
   "execution_count": 263,
   "id": "4245a532",
   "metadata": {},
   "outputs": [
    {
     "data": {
      "image/png": "[encoded data removed]",
      "text/plain": [
       "<Figure size 1500x1000 with 4 Axes>"
      ]
     },
     "metadata": {},
     "output_type": "display_data"
    }
   ],
   "source": [
    "fig, axes = plt.subplots(nrows=1, ncols=2, figsize=(15,10))\n",
    "\n",
    "\n",
    "ConfusionMatrixDisplay.from_predictions(y_test_grouped, pred2,ax=axes[0],\n",
    "                                        cmap='Blues', normalize = None)\n",
    "\n",
    "ConfusionMatrixDisplay.from_predictions(y_test_grouped, pred2,ax=axes[1],\n",
    "                                        cmap='Blues', normalize = 'true')\n",
    "\n",
    "plt.tight_layout()  \n",
    "plt.show()"
   ]
  },
  {
   "cell_type": "code",
   "execution_count": 267,
   "id": "2c6e7833",
   "metadata": {},
   "outputs": [],
   "source": [
    "def compute_confusion_matrix(labels, outputs):\n",
    "    assert(np.shape(labels)[0] == np.shape(outputs)[0])\n",
    "    assert(all(value in (0, 1, True, False) for value in np.unique(labels)))\n",
    "    assert(all(value in (0, 1, True, False) for value in np.unique(outputs)))\n",
    "\n",
    "    num_patients = np.shape(labels)[0]\n",
    "    num_label_classes = np.shape(labels)[1]\n",
    "    num_output_classes = np.shape(outputs)[1]\n",
    "\n",
    "    A = np.zeros((num_output_classes, num_label_classes))\n",
    "    for k in range(num_patients):\n",
    "        for i in range(num_output_classes):\n",
    "            for j in range(num_label_classes):\n",
    "                if outputs[k, i] == 1 and labels[k, j] == 1:\n",
    "                    A[i, j] += 1\n",
    "\n",
    "    return A"
   ]
  },
  {
   "cell_type": "code",
   "execution_count": 268,
   "id": "f5ab43a6",
   "metadata": {},
   "outputs": [
    {
     "data": {
      "text/plain": [
       "array([[124.,   9.],\n",
       "       [  8.,  34.]])"
      ]
     },
     "execution_count": 268,
     "metadata": {},
     "output_type": "execute_result"
    }
   ],
   "source": [
    "from sklearn.preprocessing import LabelBinarizer\n",
    "\n",
    "def reshape_binary(bin_list):\n",
    "    labels = bin_list  # your binary labels\n",
    "    lb = LabelBinarizer()\n",
    "    labels = lb.fit_transform(labels)\n",
    "    # If your labels are all 0's and 1's, then `LabelBinarizer` will output a 2D array with one column.\n",
    "    # Since your function expects labels for both classes, you need to add the second column manually.\n",
    "    if labels.shape[1] == 1:\n",
    "        labels = np.hstack((1 - labels, labels))  # add second column as the negation of the first column\n",
    "    return labels\n",
    "\n",
    "resh_labels = reshape_binary(y_true)\n",
    "resh_pred = reshape_binary(y_pred)\n",
    "compute_confusion_matrix(resh_labels, resh_pred)"
   ]
  },
  {
   "cell_type": "code",
   "execution_count": 269,
   "id": "3d75e3b1",
   "metadata": {},
   "outputs": [],
   "source": [
    "def compute_weighted_accuracy(labels, outputs):\n",
    "    \n",
    "    weights = np.array([[1,5], [1,5]])\n",
    "    # Compute confusion matrix.\n",
    "    assert(np.shape(labels) == np.shape(outputs))\n",
    "    A = compute_confusion_matrix(labels, outputs)\n",
    "\n",
    "    # Multiply the confusion matrix by the weight matrix.\n",
    "    assert(np.shape(A) == np.shape(weights))\n",
    "    B = weights * A\n",
    "\n",
    "    # Compute weighted_accuracy.\n",
    "    if np.sum(B) > 0:\n",
    "        weighted_accuracy = np.trace(B) / np.sum(B)\n",
    "    else:\n",
    "        weighted_accuracy = float('nan')\n",
    "\n",
    "    return weighted_accuracy"
   ]
  },
  {
   "cell_type": "code",
   "execution_count": 270,
   "id": "0588a198",
   "metadata": {},
   "outputs": [
    {
     "data": {
      "text/plain": [
       "0.8472622478386167"
      ]
     },
     "execution_count": 270,
     "metadata": {},
     "output_type": "execute_result"
    }
   ],
   "source": [
    "compute_weighted_accuracy(resh_labels, resh_pred)"
   ]
  },
  {
   "cell_type": "code",
   "execution_count": null,
   "id": "91f1d8c3",
   "metadata": {},
   "outputs": [],
   "source": []
  }
 ],
 "metadata": {
  "kernelspec": {
   "display_name": "Python 3 (ipykernel)",
   "language": "python",
   "name": "python3"
  },
  "language_info": {
   "codemirror_mode": {
    "name": "ipython",
    "version": 3
   },
   "file_extension": ".py",
   "mimetype": "text/x-python",
   "name": "python",
   "nbconvert_exporter": "python",
   "pygments_lexer": "ipython3",
   "version": "3.10.9"
  }
 },
 "nbformat": 4,
 "nbformat_minor": 5
}
