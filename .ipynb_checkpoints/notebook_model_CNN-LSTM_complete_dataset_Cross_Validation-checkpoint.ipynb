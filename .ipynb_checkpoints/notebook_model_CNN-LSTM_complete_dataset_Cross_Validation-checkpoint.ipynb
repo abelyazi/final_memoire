{
 "cells": [
  {
   "cell_type": "code",
   "execution_count": 133,
   "id": "eada695a",
   "metadata": {
    "ExecuteTime": {
     "end_time": "2023-06-22T20:27:28.338325Z",
     "start_time": "2023-06-22T20:27:28.325752Z"
    },
    "id": "QRGvE-Pt3x3c"
   },
   "outputs": [
    {
     "name": "stdout",
     "output_type": "stream",
     "text": [
      "Num GPUs Available:  1\n"
     ]
    }
   ],
   "source": [
    "import sys\n",
    "import tensorflow as tf\n",
    "import matplotlib.pyplot as plt\n",
    "from sklearn import metrics\n",
    "from sklearn.impute import SimpleImputer\n",
    "from sklearn.metrics import accuracy_score\n",
    "import numpy as np, scipy as sp, scipy.stats, os, sys, joblib\n",
    "import os, numpy as np, scipy as sp, scipy.io, scipy.io.wavfile\n",
    "from sklearn.ensemble import RandomForestClassifier\n",
    "from sklearn.model_selection import train_test_split\n",
    "from sklearn.metrics import ConfusionMatrixDisplay\n",
    "from sklearn.metrics import confusion_matrix\n",
    "from sklearn.metrics import balanced_accuracy_score\n",
    "from sklearn.utils import class_weight\n",
    "import datetime\n",
    "import random\n",
    "import logging\n",
    "import pandas as pd\n",
    "import importlib\n",
    "import useful_functions\n",
    "import preprocessing_functions\n",
    "import Chatgpt_model\n",
    "import metrics_loss_functions\n",
    "import models\n",
    "import results_functions\n",
    "importlib.reload(results_functions)\n",
    "importlib.reload(models)\n",
    "importlib.reload(metrics_loss_functions)\n",
    "from results_functions import *\n",
    "from models import *\n",
    "\n",
    "from metrics_loss_functions import *\n",
    "importlib.reload(useful_functions)\n",
    "importlib.reload(preprocessing_functions)\n",
    "importlib.reload(Chatgpt_model)\n",
    "from useful_functions import *\n",
    "from preprocessing_functions import *\n",
    "from Chatgpt_model import *\n",
    "import time\n",
    "#import wandb\n",
    "#from wandb.keras import WandbMetricsLogger, WandbModelCheckpoint\n",
    "\n",
    "print(\"Num GPUs Available: \", len(tf.config.list_physical_devices('GPU')))"
   ]
  },
  {
   "cell_type": "code",
   "execution_count": 119,
   "id": "89021430",
   "metadata": {
    "ExecuteTime": {
     "end_time": "2023-06-22T20:28:02.185714Z",
     "start_time": "2023-06-22T20:28:02.152645Z"
    }
   },
   "outputs": [],
   "source": [
    "importlib.reload(useful_functions)\n",
    "importlib.reload(preprocessing_functions)\n",
    "importlib.reload(Chatgpt_model)\n",
    "from useful_functions import *\n",
    "from preprocessing_functions import *\n",
    "from Chatgpt_model import *"
   ]
  },
  {
   "cell_type": "code",
   "execution_count": 120,
   "id": "a411c3a7",
   "metadata": {},
   "outputs": [],
   "source": [
    " # Define the data and model foldes.\n",
    "data_folder = r\"../training_data\"\n",
    "model_folder = r\"../model\"\n",
    "wind_size = 6000\n",
    "verbose = 3"
   ]
  },
  {
   "cell_type": "code",
   "execution_count": 121,
   "id": "c8b4da30",
   "metadata": {},
   "outputs": [
    {
     "name": "stdout",
     "output_type": "stream",
     "text": [
      "Finding data files...\n",
      "Extracting features and labels from the Challenge data...\n",
      "942\n"
     ]
    },
    {
     "data": {
      "text/html": [
       "<div>\n",
       "<style scoped>\n",
       "    .dataframe tbody tr th:only-of-type {\n",
       "        vertical-align: middle;\n",
       "    }\n",
       "\n",
       "    .dataframe tbody tr th {\n",
       "        vertical-align: top;\n",
       "    }\n",
       "\n",
       "    .dataframe thead th {\n",
       "        text-align: right;\n",
       "    }\n",
       "</style>\n",
       "<table border=\"1\" class=\"dataframe\">\n",
       "  <thead>\n",
       "    <tr style=\"text-align: right;\">\n",
       "      <th></th>\n",
       "      <th>patient_id</th>\n",
       "      <th>recording_type</th>\n",
       "      <th>recording</th>\n",
       "      <th>murmur</th>\n",
       "    </tr>\n",
       "  </thead>\n",
       "  <tbody>\n",
       "    <tr>\n",
       "      <th>0</th>\n",
       "      <td>2530.0</td>\n",
       "      <td>1.0</td>\n",
       "      <td>[254.62053374948147, 332.41397606699405, -727....</td>\n",
       "      <td>[0, 0, 1]</td>\n",
       "    </tr>\n",
       "    <tr>\n",
       "      <th>1</th>\n",
       "      <td>2530.0</td>\n",
       "      <td>1.0</td>\n",
       "      <td>[20.550841480663475, -18.884669077279337, 152....</td>\n",
       "      <td>[0, 0, 1]</td>\n",
       "    </tr>\n",
       "    <tr>\n",
       "      <th>2</th>\n",
       "      <td>2530.0</td>\n",
       "      <td>1.0</td>\n",
       "      <td>[2296.0082592261, 1161.8953810714854, 106.9764...</td>\n",
       "      <td>[0, 0, 1]</td>\n",
       "    </tr>\n",
       "    <tr>\n",
       "      <th>3</th>\n",
       "      <td>2530.0</td>\n",
       "      <td>1.0</td>\n",
       "      <td>[-1.2132347511973676, -24.042684343382245, -14...</td>\n",
       "      <td>[0, 0, 1]</td>\n",
       "    </tr>\n",
       "    <tr>\n",
       "      <th>4</th>\n",
       "      <td>2530.0</td>\n",
       "      <td>1.0</td>\n",
       "      <td>[219.40892010033423, 106.21377642082071, 296.9...</td>\n",
       "      <td>[0, 0, 1]</td>\n",
       "    </tr>\n",
       "  </tbody>\n",
       "</table>\n",
       "</div>"
      ],
      "text/plain": [
       "   patient_id  recording_type  \\\n",
       "0      2530.0             1.0   \n",
       "1      2530.0             1.0   \n",
       "2      2530.0             1.0   \n",
       "3      2530.0             1.0   \n",
       "4      2530.0             1.0   \n",
       "\n",
       "                                           recording     murmur  \n",
       "0  [254.62053374948147, 332.41397606699405, -727....  [0, 0, 1]  \n",
       "1  [20.550841480663475, -18.884669077279337, 152....  [0, 0, 1]  \n",
       "2  [2296.0082592261, 1161.8953810714854, 106.9764...  [0, 0, 1]  \n",
       "3  [-1.2132347511973676, -24.042684343382245, -14...  [0, 0, 1]  \n",
       "4  [219.40892010033423, 106.21377642082071, 296.9...  [0, 0, 1]  "
      ]
     },
     "execution_count": 121,
     "metadata": {},
     "output_type": "execute_result"
    }
   ],
   "source": [
    "#recordings,patient_label,patient_id = create_rec_patient_list(data_folder)\n",
    "recordings,patient_label,patient_id = extract_patients(data_folder)\n",
    "#df = build_dataset_df(recordings,patient_id,patient_label,wind_size)\n",
    "df = build_dataset_df3(recordings,patient_id,patient_label,wind_size)\n",
    "\n",
    "df.head()"
   ]
  },
  {
   "cell_type": "code",
   "execution_count": 122,
   "id": "f80a0c75",
   "metadata": {
    "id": "P9HTtXrm78dV"
   },
   "outputs": [],
   "source": [
    "#check correctness of dataframe loaded\n",
    "for i in range(df.shape[0]):\n",
    "  if len(df[\"recording\"][i]) != 6000:\n",
    "    print(\"problem sir\")"
   ]
  },
  {
   "cell_type": "code",
   "execution_count": 123,
   "id": "12cda44f",
   "metadata": {},
   "outputs": [
    {
     "data": {
      "text/plain": [
       "\"nb_murmur_present = (df.loc[df['murmur'] == 1]).shape[0]\\nnb_murmur_absent = (df.loc[df['murmur'] == 0]).shape[0]\\nprint(nb_murmur_present)\\nprint(nb_murmur_absent)\""
      ]
     },
     "execution_count": 123,
     "metadata": {},
     "output_type": "execute_result"
    }
   ],
   "source": [
    "\"\"\"nb_murmur_present = (df.loc[df['murmur'] == 1]).shape[0]\n",
    "nb_murmur_absent = (df.loc[df['murmur'] == 0]).shape[0]\n",
    "print(nb_murmur_present)\n",
    "print(nb_murmur_absent)\"\"\""
   ]
  },
  {
   "cell_type": "code",
   "execution_count": 103,
   "id": "5d65abeb",
   "metadata": {
    "id": "fElXRT5T4a36"
   },
   "outputs": [
    {
     "ename": "TypeError",
     "evalue": "unhashable type: 'numpy.ndarray'",
     "output_type": "error",
     "traceback": [
      "\u001b[0;31m---------------------------------------------------------------------------\u001b[0m",
      "\u001b[0;31mTypeError\u001b[0m                                 Traceback (most recent call last)",
      "Cell \u001b[0;32mIn[103], line 2\u001b[0m\n\u001b[1;32m      1\u001b[0m new_df \u001b[38;5;241m=\u001b[39m df[[\u001b[38;5;124m'\u001b[39m\u001b[38;5;124mpatient_id\u001b[39m\u001b[38;5;124m'\u001b[39m, \u001b[38;5;124m'\u001b[39m\u001b[38;5;124mmurmur\u001b[39m\u001b[38;5;124m'\u001b[39m]]\n\u001b[0;32m----> 2\u001b[0m new_df \u001b[38;5;241m=\u001b[39m new_df\u001b[38;5;241m.\u001b[39mdrop_duplicates()\n",
      "File \u001b[0;32m~/anaconda3/lib/python3.11/site-packages/pandas/util/_decorators.py:331\u001b[0m, in \u001b[0;36mdeprecate_nonkeyword_arguments.<locals>.decorate.<locals>.wrapper\u001b[0;34m(*args, **kwargs)\u001b[0m\n\u001b[1;32m    325\u001b[0m \u001b[38;5;28;01mif\u001b[39;00m \u001b[38;5;28mlen\u001b[39m(args) \u001b[38;5;241m>\u001b[39m num_allow_args:\n\u001b[1;32m    326\u001b[0m     warnings\u001b[38;5;241m.\u001b[39mwarn(\n\u001b[1;32m    327\u001b[0m         msg\u001b[38;5;241m.\u001b[39mformat(arguments\u001b[38;5;241m=\u001b[39m_format_argument_list(allow_args)),\n\u001b[1;32m    328\u001b[0m         \u001b[38;5;167;01mFutureWarning\u001b[39;00m,\n\u001b[1;32m    329\u001b[0m         stacklevel\u001b[38;5;241m=\u001b[39mfind_stack_level(),\n\u001b[1;32m    330\u001b[0m     )\n\u001b[0;32m--> 331\u001b[0m \u001b[38;5;28;01mreturn\u001b[39;00m func(\u001b[38;5;241m*\u001b[39margs, \u001b[38;5;241m*\u001b[39m\u001b[38;5;241m*\u001b[39mkwargs)\n",
      "File \u001b[0;32m~/anaconda3/lib/python3.11/site-packages/pandas/core/frame.py:6672\u001b[0m, in \u001b[0;36mDataFrame.drop_duplicates\u001b[0;34m(self, subset, keep, inplace, ignore_index)\u001b[0m\n\u001b[1;32m   6670\u001b[0m inplace \u001b[38;5;241m=\u001b[39m validate_bool_kwarg(inplace, \u001b[38;5;124m\"\u001b[39m\u001b[38;5;124minplace\u001b[39m\u001b[38;5;124m\"\u001b[39m)\n\u001b[1;32m   6671\u001b[0m ignore_index \u001b[38;5;241m=\u001b[39m validate_bool_kwarg(ignore_index, \u001b[38;5;124m\"\u001b[39m\u001b[38;5;124mignore_index\u001b[39m\u001b[38;5;124m\"\u001b[39m)\n\u001b[0;32m-> 6672\u001b[0m duplicated \u001b[38;5;241m=\u001b[39m \u001b[38;5;28mself\u001b[39m\u001b[38;5;241m.\u001b[39mduplicated(subset, keep\u001b[38;5;241m=\u001b[39mkeep)\n\u001b[1;32m   6674\u001b[0m result \u001b[38;5;241m=\u001b[39m \u001b[38;5;28mself\u001b[39m[\u001b[38;5;241m-\u001b[39mduplicated]\n\u001b[1;32m   6675\u001b[0m \u001b[38;5;28;01mif\u001b[39;00m ignore_index:\n",
      "File \u001b[0;32m~/anaconda3/lib/python3.11/site-packages/pandas/core/frame.py:6814\u001b[0m, in \u001b[0;36mDataFrame.duplicated\u001b[0;34m(self, subset, keep)\u001b[0m\n\u001b[1;32m   6812\u001b[0m \u001b[38;5;28;01melse\u001b[39;00m:\n\u001b[1;32m   6813\u001b[0m     vals \u001b[38;5;241m=\u001b[39m (col\u001b[38;5;241m.\u001b[39mvalues \u001b[38;5;28;01mfor\u001b[39;00m name, col \u001b[38;5;129;01min\u001b[39;00m \u001b[38;5;28mself\u001b[39m\u001b[38;5;241m.\u001b[39mitems() \u001b[38;5;28;01mif\u001b[39;00m name \u001b[38;5;129;01min\u001b[39;00m subset)\n\u001b[0;32m-> 6814\u001b[0m     labels, shape \u001b[38;5;241m=\u001b[39m \u001b[38;5;28mmap\u001b[39m(\u001b[38;5;28mlist\u001b[39m, \u001b[38;5;28mzip\u001b[39m(\u001b[38;5;241m*\u001b[39m\u001b[38;5;28mmap\u001b[39m(f, vals)))\n\u001b[1;32m   6816\u001b[0m     ids \u001b[38;5;241m=\u001b[39m get_group_index(\n\u001b[1;32m   6817\u001b[0m         labels,\n\u001b[1;32m   6818\u001b[0m         \u001b[38;5;66;03m# error: Argument 1 to \"tuple\" has incompatible type \"List[_T]\";\u001b[39;00m\n\u001b[0;32m   (...)\u001b[0m\n\u001b[1;32m   6822\u001b[0m         xnull\u001b[38;5;241m=\u001b[39m\u001b[38;5;28;01mFalse\u001b[39;00m,\n\u001b[1;32m   6823\u001b[0m     )\n\u001b[1;32m   6824\u001b[0m     result \u001b[38;5;241m=\u001b[39m \u001b[38;5;28mself\u001b[39m\u001b[38;5;241m.\u001b[39m_constructor_sliced(duplicated(ids, keep), index\u001b[38;5;241m=\u001b[39m\u001b[38;5;28mself\u001b[39m\u001b[38;5;241m.\u001b[39mindex)\n",
      "File \u001b[0;32m~/anaconda3/lib/python3.11/site-packages/pandas/core/frame.py:6782\u001b[0m, in \u001b[0;36mDataFrame.duplicated.<locals>.f\u001b[0;34m(vals)\u001b[0m\n\u001b[1;32m   6781\u001b[0m \u001b[38;5;28;01mdef\u001b[39;00m \u001b[38;5;21mf\u001b[39m(vals) \u001b[38;5;241m-\u001b[39m\u001b[38;5;241m>\u001b[39m \u001b[38;5;28mtuple\u001b[39m[np\u001b[38;5;241m.\u001b[39mndarray, \u001b[38;5;28mint\u001b[39m]:\n\u001b[0;32m-> 6782\u001b[0m     labels, shape \u001b[38;5;241m=\u001b[39m algorithms\u001b[38;5;241m.\u001b[39mfactorize(vals, size_hint\u001b[38;5;241m=\u001b[39m\u001b[38;5;28mlen\u001b[39m(\u001b[38;5;28mself\u001b[39m))\n\u001b[1;32m   6783\u001b[0m     \u001b[38;5;28;01mreturn\u001b[39;00m labels\u001b[38;5;241m.\u001b[39mastype(\u001b[38;5;124m\"\u001b[39m\u001b[38;5;124mi8\u001b[39m\u001b[38;5;124m\"\u001b[39m, copy\u001b[38;5;241m=\u001b[39m\u001b[38;5;28;01mFalse\u001b[39;00m), \u001b[38;5;28mlen\u001b[39m(shape)\n",
      "File \u001b[0;32m~/anaconda3/lib/python3.11/site-packages/pandas/core/algorithms.py:822\u001b[0m, in \u001b[0;36mfactorize\u001b[0;34m(values, sort, na_sentinel, use_na_sentinel, size_hint)\u001b[0m\n\u001b[1;32m    819\u001b[0m             \u001b[38;5;66;03m# Don't modify (potentially user-provided) array\u001b[39;00m\n\u001b[1;32m    820\u001b[0m             values \u001b[38;5;241m=\u001b[39m np\u001b[38;5;241m.\u001b[39mwhere(null_mask, na_value, values)\n\u001b[0;32m--> 822\u001b[0m     codes, uniques \u001b[38;5;241m=\u001b[39m factorize_array(\n\u001b[1;32m    823\u001b[0m         values,\n\u001b[1;32m    824\u001b[0m         na_sentinel\u001b[38;5;241m=\u001b[39mna_sentinel_arg,\n\u001b[1;32m    825\u001b[0m         size_hint\u001b[38;5;241m=\u001b[39msize_hint,\n\u001b[1;32m    826\u001b[0m     )\n\u001b[1;32m    828\u001b[0m \u001b[38;5;28;01mif\u001b[39;00m sort \u001b[38;5;129;01mand\u001b[39;00m \u001b[38;5;28mlen\u001b[39m(uniques) \u001b[38;5;241m>\u001b[39m \u001b[38;5;241m0\u001b[39m:\n\u001b[1;32m    829\u001b[0m     \u001b[38;5;28;01mif\u001b[39;00m na_sentinel \u001b[38;5;129;01mis\u001b[39;00m \u001b[38;5;28;01mNone\u001b[39;00m:\n\u001b[1;32m    830\u001b[0m         \u001b[38;5;66;03m# TODO: Can remove when na_sentinel=na_sentinel as in TODO above\u001b[39;00m\n",
      "File \u001b[0;32m~/anaconda3/lib/python3.11/site-packages/pandas/core/algorithms.py:578\u001b[0m, in \u001b[0;36mfactorize_array\u001b[0;34m(values, na_sentinel, size_hint, na_value, mask)\u001b[0m\n\u001b[1;32m    575\u001b[0m hash_klass, values \u001b[38;5;241m=\u001b[39m _get_hashtable_algo(values)\n\u001b[1;32m    577\u001b[0m table \u001b[38;5;241m=\u001b[39m hash_klass(size_hint \u001b[38;5;129;01mor\u001b[39;00m \u001b[38;5;28mlen\u001b[39m(values))\n\u001b[0;32m--> 578\u001b[0m uniques, codes \u001b[38;5;241m=\u001b[39m table\u001b[38;5;241m.\u001b[39mfactorize(\n\u001b[1;32m    579\u001b[0m     values,\n\u001b[1;32m    580\u001b[0m     na_sentinel\u001b[38;5;241m=\u001b[39mna_sentinel,\n\u001b[1;32m    581\u001b[0m     na_value\u001b[38;5;241m=\u001b[39mna_value,\n\u001b[1;32m    582\u001b[0m     mask\u001b[38;5;241m=\u001b[39mmask,\n\u001b[1;32m    583\u001b[0m     ignore_na\u001b[38;5;241m=\u001b[39mignore_na,\n\u001b[1;32m    584\u001b[0m )\n\u001b[1;32m    586\u001b[0m \u001b[38;5;66;03m# re-cast e.g. i8->dt64/td64, uint8->bool\u001b[39;00m\n\u001b[1;32m    587\u001b[0m uniques \u001b[38;5;241m=\u001b[39m _reconstruct_data(uniques, original\u001b[38;5;241m.\u001b[39mdtype, original)\n",
      "File \u001b[0;32mpandas/_libs/hashtable_class_helper.pxi:5943\u001b[0m, in \u001b[0;36mpandas._libs.hashtable.PyObjectHashTable.factorize\u001b[0;34m()\u001b[0m\n",
      "File \u001b[0;32mpandas/_libs/hashtable_class_helper.pxi:5857\u001b[0m, in \u001b[0;36mpandas._libs.hashtable.PyObjectHashTable._unique\u001b[0;34m()\u001b[0m\n",
      "\u001b[0;31mTypeError\u001b[0m: unhashable type: 'numpy.ndarray'"
     ]
    }
   ],
   "source": [
    "new_df = df[['patient_id', 'murmur']]\n",
    "new_df = new_df.drop_duplicates()"
   ]
  },
  {
   "cell_type": "code",
   "execution_count": null,
   "id": "f69d3996",
   "metadata": {
    "id": "PHkvtE-h6uwl"
   },
   "outputs": [],
   "source": [
    "new_df = new_df.reset_index(drop=True)"
   ]
  },
  {
   "cell_type": "code",
   "execution_count": null,
   "id": "03546086",
   "metadata": {
    "colab": {
     "base_uri": "https://localhost:8080/"
    },
    "id": "6T9wZX1WyE83",
    "outputId": "076b86ec-0bee-42cc-ace9-e7110a342bf8"
   },
   "outputs": [],
   "source": [
    "nb_murmur_present = (new_df.loc[new_df['murmur'] == (1,0,0)]).shape[0]\n",
    "nb_murmur_unknown = (new_df.loc[new_df['murmur'] == (0,1,0)]).shape[0]\n",
    "nb_murmur_absent = (new_df.loc[new_df['murmur'] == (0,0,1)]).shape[0]\n",
    "print(nb_murmur_present)\n",
    "print(nb_murmur_unknown)\n",
    "print(nb_murmur_absent)"
   ]
  },
  {
   "cell_type": "code",
   "execution_count": null,
   "id": "5ba29dea",
   "metadata": {
    "colab": {
     "base_uri": "https://localhost:8080/",
     "height": 424
    },
    "id": "mzg9rqHzxyal",
    "outputId": "22d218b0-1560-4d6a-e62c-3fae95ff0ecc"
   },
   "outputs": [],
   "source": [
    "new_df"
   ]
  },
  {
   "cell_type": "code",
   "execution_count": null,
   "id": "960107f9",
   "metadata": {
    "id": "Un2S1LxU675v"
   },
   "outputs": [],
   "source": [
    "list_id = np.array(new_df['patient_id'])\n",
    "list_label = np.array(new_df['murmur'])"
   ]
  },
  {
   "cell_type": "code",
   "execution_count": null,
   "id": "810ec18b",
   "metadata": {
    "id": "uR6aqz5g9oOj"
   },
   "outputs": [],
   "source": [
    "id_train, id_valtest, label_train, label_valtest = train_test_split(list_id, list_label , test_size=0.4, random_state=42)\n",
    "id_val, id_test, label_val, label_test = train_test_split(id_valtest, label_valtest , test_size=0.5, random_state=42)"
   ]
  },
  {
   "cell_type": "code",
   "execution_count": null,
   "id": "1860e311",
   "metadata": {
    "id": "BlEJD1ce4H1O"
   },
   "outputs": [],
   "source": [
    "def select_rows(id_list,dframe):\n",
    "  #for id in list_id:\n",
    "  sub_df = df.loc[df['patient_id'].isin([int(id) for id in id_list])]\n",
    "  return sub_df\n",
    "\n"
   ]
  },
  {
   "cell_type": "code",
   "execution_count": null,
   "id": "809a0505",
   "metadata": {
    "colab": {
     "base_uri": "https://localhost:8080/"
    },
    "id": "E2w-MxY1_ClQ",
    "outputId": "7601a9e6-5067-499d-c1a1-9850f8b57ebc"
   },
   "outputs": [],
   "source": [
    "print(\"Nb of rows of murmur absent : \",(df.loc[df['murmur'] == 0]).shape[0])\n",
    "print(\"Nb of rows of murmur present : \",(df.loc[df['murmur'] == 1]).shape[0])"
   ]
  },
  {
   "cell_type": "code",
   "execution_count": 104,
   "id": "7290fe62",
   "metadata": {},
   "outputs": [
    {
     "data": {
      "text/plain": [
       "\"weights = class_weight.compute_class_weight(  class_weight ='balanced',\\n                                    classes = np.unique(y_train),\\n                                    y = y_train)\\nclass_weights = dict(zip(np.unique(y_train), weights))\""
      ]
     },
     "execution_count": 104,
     "metadata": {},
     "output_type": "execute_result"
    }
   ],
   "source": [
    "\"\"\"weights = class_weight.compute_class_weight(  class_weight ='balanced',\n",
    "                                    classes = np.unique(y_train),\n",
    "                                    y = y_train)\n",
    "class_weights = dict(zip(np.unique(y_train), weights))\"\"\""
   ]
  },
  {
   "cell_type": "code",
   "execution_count": 105,
   "id": "9daac46b",
   "metadata": {},
   "outputs": [],
   "source": [
    "from sklearn.model_selection import KFold\n",
    "\n"
   ]
  },
  {
   "cell_type": "code",
   "execution_count": 106,
   "id": "f80cabd5",
   "metadata": {
    "scrolled": true
   },
   "outputs": [
    {
     "name": "stdout",
     "output_type": "stream",
     "text": [
      "Model: \"model_48\"\n",
      "_________________________________________________________________\n",
      " Layer (type)                Output Shape              Param #   \n",
      "=================================================================\n",
      " input_51 (InputLayer)       [(None, 6000, 1)]         0         \n",
      "                                                                 \n",
      " conv1d_258 (Conv1D)         (None, 6000, 128)         512       \n",
      "                                                                 \n",
      " batch_normalization_354 (B  (None, 6000, 128)         512       \n",
      " atchNormalization)                                              \n",
      "                                                                 \n",
      " re_lu_258 (ReLU)            (None, 6000, 128)         0         \n",
      "                                                                 \n",
      " conv1d_259 (Conv1D)         (None, 6000, 128)         49280     \n",
      "                                                                 \n",
      " batch_normalization_355 (B  (None, 6000, 128)         512       \n",
      " atchNormalization)                                              \n",
      "                                                                 \n",
      " re_lu_259 (ReLU)            (None, 6000, 128)         0         \n",
      "                                                                 \n",
      " max_pooling1d_215 (MaxPool  (None, 3000, 128)         0         \n",
      " ing1D)                                                          \n",
      "                                                                 \n",
      " conv1d_260 (Conv1D)         (None, 3000, 256)         98560     \n",
      "                                                                 \n",
      " batch_normalization_356 (B  (None, 3000, 256)         1024      \n",
      " atchNormalization)                                              \n",
      "                                                                 \n",
      " re_lu_260 (ReLU)            (None, 3000, 256)         0         \n",
      "                                                                 \n",
      " max_pooling1d_216 (MaxPool  (None, 1500, 256)         0         \n",
      " ing1D)                                                          \n",
      "                                                                 \n",
      " conv1d_261 (Conv1D)         (None, 1500, 256)         196864    \n",
      "                                                                 \n",
      " batch_normalization_357 (B  (None, 1500, 256)         1024      \n",
      " atchNormalization)                                              \n",
      "                                                                 \n",
      " re_lu_261 (ReLU)            (None, 1500, 256)         0         \n",
      "                                                                 \n",
      " max_pooling1d_217 (MaxPool  (None, 750, 256)          0         \n",
      " ing1D)                                                          \n",
      "                                                                 \n",
      " conv1d_262 (Conv1D)         (None, 750, 512)          393728    \n",
      "                                                                 \n",
      " batch_normalization_358 (B  (None, 750, 512)          2048      \n",
      " atchNormalization)                                              \n",
      "                                                                 \n",
      " re_lu_262 (ReLU)            (None, 750, 512)          0         \n",
      "                                                                 \n",
      " max_pooling1d_218 (MaxPool  (None, 375, 512)          0         \n",
      " ing1D)                                                          \n",
      "                                                                 \n",
      " lstm_100 (LSTM)             (None, 375, 128)          328192    \n",
      "                                                                 \n",
      " dropout_194 (Dropout)       (None, 375, 128)          0         \n",
      "                                                                 \n",
      " lstm_101 (LSTM)             (None, 375, 64)           49408     \n",
      "                                                                 \n",
      " dropout_195 (Dropout)       (None, 375, 64)           0         \n",
      "                                                                 \n",
      " global_average_pooling1d_4  (None, 64)                0         \n",
      " 8 (GlobalAveragePooling1D)                                      \n",
      "                                                                 \n",
      " dense_144 (Dense)           (None, 32)                2080      \n",
      "                                                                 \n",
      " batch_normalization_359 (B  (None, 32)                128       \n",
      " atchNormalization)                                              \n",
      "                                                                 \n",
      " dropout_196 (Dropout)       (None, 32)                0         \n",
      "                                                                 \n",
      " dense_145 (Dense)           (None, 16)                528       \n",
      "                                                                 \n",
      " batch_normalization_360 (B  (None, 16)                64        \n",
      " atchNormalization)                                              \n",
      "                                                                 \n",
      " dropout_197 (Dropout)       (None, 16)                0         \n",
      "                                                                 \n",
      " dense_146 (Dense)           (None, 3)                 51        \n",
      "                                                                 \n",
      "=================================================================\n",
      "Total params: 1124515 (4.29 MB)\n",
      "Trainable params: 1121859 (4.28 MB)\n",
      "Non-trainable params: 2656 (10.38 KB)\n",
      "_________________________________________________________________\n"
     ]
    }
   ],
   "source": [
    "model = bnrelu_model_3(input_shape=(6000,1))\n",
    "model.summary()"
   ]
  },
  {
   "cell_type": "code",
   "execution_count": 110,
   "id": "b36c01ef",
   "metadata": {
    "scrolled": true
   },
   "outputs": [
    {
     "name": "stderr",
     "output_type": "stream",
     "text": [
      "/tmp/ipykernel_3922/2261027850.py:42: SettingWithCopyWarning: \n",
      "A value is trying to be set on a copy of a slice from a DataFrame.\n",
      "Try using .loc[row_indexer,col_indexer] = value instead\n",
      "\n",
      "See the caveats in the documentation: https://pandas.pydata.org/pandas-docs/stable/user_guide/indexing.html#returning-a-view-versus-a-copy\n",
      "  df_train['murmur'] = df_train['murmur'].apply(lambda x: np.array(x, dtype=np.float32))\n",
      "/tmp/ipykernel_3922/2261027850.py:43: SettingWithCopyWarning: \n",
      "A value is trying to be set on a copy of a slice from a DataFrame.\n",
      "Try using .loc[row_indexer,col_indexer] = value instead\n",
      "\n",
      "See the caveats in the documentation: https://pandas.pydata.org/pandas-docs/stable/user_guide/indexing.html#returning-a-view-versus-a-copy\n",
      "  df_val['murmur'] = df_val['murmur'].apply(lambda x: np.array(x, dtype=np.float32))\n",
      "/tmp/ipykernel_3922/2261027850.py:44: SettingWithCopyWarning: \n",
      "A value is trying to be set on a copy of a slice from a DataFrame.\n",
      "Try using .loc[row_indexer,col_indexer] = value instead\n",
      "\n",
      "See the caveats in the documentation: https://pandas.pydata.org/pandas-docs/stable/user_guide/indexing.html#returning-a-view-versus-a-copy\n",
      "  df_test['murmur'] = df_test['murmur'].apply(lambda x: np.array(x, dtype=np.float32))\n"
     ]
    },
    {
     "name": "stdout",
     "output_type": "stream",
     "text": [
      "\n",
      "Epoch 1: saving model to checkpoint_dir/20230821-061600bnrelu_model_final/M_1_cp.ckpt\n",
      "\n",
      "Epoch 2: saving model to checkpoint_dir/20230821-061600bnrelu_model_final/M_1_cp.ckpt\n",
      "\n",
      "Epoch 3: saving model to checkpoint_dir/20230821-061600bnrelu_model_final/M_1_cp.ckpt\n",
      "\n",
      "Epoch 4: saving model to checkpoint_dir/20230821-061600bnrelu_model_final/M_1_cp.ckpt\n",
      "\n",
      "Epoch 5: saving model to checkpoint_dir/20230821-061600bnrelu_model_final/M_1_cp.ckpt\n",
      "\n",
      "Epoch 6: saving model to checkpoint_dir/20230821-061600bnrelu_model_final/M_1_cp.ckpt\n",
      "\n",
      "Epoch 7: saving model to checkpoint_dir/20230821-061600bnrelu_model_final/M_1_cp.ckpt\n",
      "\n",
      "Epoch 8: saving model to checkpoint_dir/20230821-061600bnrelu_model_final/M_1_cp.ckpt\n",
      "\n",
      "Epoch 9: saving model to checkpoint_dir/20230821-061600bnrelu_model_final/M_1_cp.ckpt\n",
      "\n",
      "Epoch 10: saving model to checkpoint_dir/20230821-061600bnrelu_model_final/M_1_cp.ckpt\n",
      "\n",
      "Epoch 11: saving model to checkpoint_dir/20230821-061600bnrelu_model_final/M_1_cp.ckpt\n",
      "\n",
      "Epoch 12: saving model to checkpoint_dir/20230821-061600bnrelu_model_final/M_1_cp.ckpt\n",
      "\n",
      "Epoch 13: saving model to checkpoint_dir/20230821-061600bnrelu_model_final/M_1_cp.ckpt\n",
      "\n",
      "Epoch 14: saving model to checkpoint_dir/20230821-061600bnrelu_model_final/M_1_cp.ckpt\n",
      "\n",
      "Epoch 15: saving model to checkpoint_dir/20230821-061600bnrelu_model_final/M_1_cp.ckpt\n",
      "\n",
      "Epoch 16: saving model to checkpoint_dir/20230821-061600bnrelu_model_final/M_1_cp.ckpt\n",
      "\n",
      "Epoch 17: saving model to checkpoint_dir/20230821-061600bnrelu_model_final/M_1_cp.ckpt\n",
      "\n",
      "Epoch 18: saving model to checkpoint_dir/20230821-061600bnrelu_model_final/M_1_cp.ckpt\n",
      "\n",
      "Epoch 19: saving model to checkpoint_dir/20230821-061600bnrelu_model_final/M_1_cp.ckpt\n",
      "\n",
      "Epoch 20: saving model to checkpoint_dir/20230821-061600bnrelu_model_final/M_1_cp.ckpt\n",
      "\n",
      "Epoch 21: saving model to checkpoint_dir/20230821-061600bnrelu_model_final/M_1_cp.ckpt\n",
      "\n",
      "Epoch 22: saving model to checkpoint_dir/20230821-061600bnrelu_model_final/M_1_cp.ckpt\n",
      "\n",
      "Epoch 23: saving model to checkpoint_dir/20230821-061600bnrelu_model_final/M_1_cp.ckpt\n",
      "\n",
      "Epoch 24: saving model to checkpoint_dir/20230821-061600bnrelu_model_final/M_1_cp.ckpt\n",
      "\n",
      "Epoch 25: saving model to checkpoint_dir/20230821-061600bnrelu_model_final/M_1_cp.ckpt\n",
      "\n",
      "Epoch 26: saving model to checkpoint_dir/20230821-061600bnrelu_model_final/M_1_cp.ckpt\n",
      "Restoring model weights from the end of the best epoch: 16.\n",
      "Epoch 26: early stopping\n",
      "157/157 [==============================] - 3s 18ms/step\n"
     ]
    },
    {
     "ename": "NameError",
     "evalue": "name 'get_mean_maj_preds_3_class' is not defined",
     "output_type": "error",
     "traceback": [
      "\u001b[0;31m---------------------------------------------------------------------------\u001b[0m",
      "\u001b[0;31mNameError\u001b[0m                                 Traceback (most recent call last)",
      "Cell \u001b[0;32mIn[110], line 99\u001b[0m\n\u001b[1;32m     95\u001b[0m model\u001b[38;5;241m.\u001b[39msave_weights(dir_path \u001b[38;5;241m+\u001b[39m \u001b[38;5;124m\"\u001b[39m\u001b[38;5;124mbnrelu_model_final/\u001b[39m\u001b[38;5;124m\"\u001b[39m\u001b[38;5;241m+\u001b[39m\u001b[38;5;124m\"\u001b[39m\u001b[38;5;124mM_\u001b[39m\u001b[38;5;124m\"\u001b[39m\u001b[38;5;241m+\u001b[39m\u001b[38;5;28mstr\u001b[39m(i)\u001b[38;5;241m+\u001b[39m\u001b[38;5;124m\"\u001b[39m\u001b[38;5;124m_restored_weight\u001b[39m\u001b[38;5;124m\"\u001b[39m\u001b[38;5;241m+\u001b[39m\u001b[38;5;124m\"\u001b[39m\u001b[38;5;124m_cp.ckpt\u001b[39m\u001b[38;5;124m\"\u001b[39m)\n\u001b[1;32m     97\u001b[0m pred \u001b[38;5;241m=\u001b[39m model\u001b[38;5;241m.\u001b[39mpredict(X_test)\n\u001b[0;32m---> 99\u001b[0m mean,maj \u001b[38;5;241m=\u001b[39m get_mean_maj_preds_3_class(pred,df_test)\n\u001b[1;32m    100\u001b[0m y_true \u001b[38;5;241m=\u001b[39m get_y_true3(df_test)\n\u001b[1;32m    101\u001b[0m w_acc_maj \u001b[38;5;241m=\u001b[39m compute_weighted_acc_3class(maj,y_true)\n",
      "\u001b[0;31mNameError\u001b[0m: name 'get_mean_maj_preds_3_class' is not defined"
     ]
    }
   ],
   "source": [
    "X = list_id\n",
    "Y = list_label\n",
    "kfold = KFold(n_splits=5, shuffle=True, random_state=random.randint(1, 100))\n",
    "\n",
    "\n",
    "time1 = datetime.datetime.now().strftime(\"%Y%m%d-%H%M%S\")\n",
    "dir_path = \"checkpoint_dir/\"+ time1\n",
    "\n",
    "auc = tf.keras.metrics.AUC(name='auc',curve='PR')\n",
    "\n",
    "\n",
    "total_duration = 0\n",
    "\n",
    "epochs = 100\n",
    "batch_size = 32\n",
    "\n",
    "if not os.path.exists('logdir'):\n",
    "    os.makedirs('logdir')\n",
    "    \n",
    "# Set up the log filename using the current timestamp\n",
    "logger = logging.getLogger()\n",
    "for handler in logger.handlers[:]:\n",
    "    handler.close()\n",
    "    logger.removeHandler(handler)\n",
    "    \n",
    "log_filename = os.path.join('logdir', f'bnrelu_model_final{time1}.log')\n",
    "logging.basicConfig(filename=log_filename, filemode='w', format='%(asctime)s - %(message)s', level=logging.INFO)\n",
    "\n",
    "\n",
    "i=1\n",
    "for train_index, test_index in kfold.split(X,Y):\n",
    "    start_time = time.time()  # Record start time of the loop\n",
    "    X_train, X_test = X[train_index], X[test_index]\n",
    "    y_train, y_test = Y[train_index], Y[test_index]\n",
    "    X_train, X_val, y_train, y_val = train_test_split(X_train, y_train , test_size=0.25, random_state=42)\n",
    "\n",
    "    \n",
    "    df_train = select_rows(X_train,df)\n",
    "    df_val = select_rows(X_val,df)   \n",
    "    df_test = select_rows(X_test,df)\n",
    "    \n",
    "    df_train['murmur'] = df_train['murmur'].apply(lambda x: np.array(x, dtype=np.float32))\n",
    "    df_val['murmur'] = df_val['murmur'].apply(lambda x: np.array(x, dtype=np.float32))\n",
    "    df_test['murmur'] = df_test['murmur'].apply(lambda x: np.array(x, dtype=np.float32))\n",
    "\n",
    "    \n",
    "    \n",
    "    X_train = np.vstack(df_train['recording'].to_numpy())\n",
    "    y_train = np.vstack(df_train['murmur'].to_numpy())\n",
    "\n",
    "    X_val = np.vstack(df_val['recording'].to_numpy())\n",
    "    y_val = np.vstack(df_val['murmur'].to_numpy())\n",
    "\n",
    "    X_test = np.vstack(df_test['recording'].to_numpy())\n",
    "    y_test = np.vstack(df_test['murmur'].to_numpy())\n",
    "    \n",
    "    X_train = X_train.reshape(len(X_train),len(X_train[1]),1)\n",
    "    X_val = X_val.reshape(len(X_val),len(X_val[1]),1)\n",
    "    X_test = X_test.reshape(len(X_test),len(X_test[1]),1)\n",
    "    \n",
    "    checkpoint_path = dir_path + \"bnrelu_model_final/\"+\"M_\"+str(i)+\"_cp.ckpt\"\n",
    "    checkpoint_dir = os.path.dirname(checkpoint_path)\n",
    "    \n",
    "    early_stopping_callback = tf.keras.callbacks.EarlyStopping(monitor='val_loss', patience=10, verbose=1,restore_best_weights=True,mode='min')\n",
    "\n",
    "    callbacks = [\n",
    "    tf.keras.callbacks.ModelCheckpoint(filepath=checkpoint_path,save_weights_only=True,verbose=1),\n",
    "    tf.keras.callbacks.ReduceLROnPlateau(\n",
    "        monitor=\"val_loss\", factor=0.5, patience=10, min_lr=0.0001\n",
    "    ),\n",
    "    early_stopping_callback,\n",
    "    ]\n",
    "    \n",
    "    adam = tf.keras.optimizers.Adam(learning_rate=0.001)\n",
    "    #sgd = tf.keras.optimizers.SGD(learning_rate=0.01)\n",
    "    \n",
    "    model = bnrelu_model_3(input_shape=X_train.shape[1:])\n",
    "    model.compile(\n",
    "        optimizer=adam,\n",
    "        loss=weighted_catcrossentropy,\n",
    "        metrics=[auc],\n",
    "        weighted_metrics = 'acc' ,\n",
    "    )\n",
    "\n",
    "    history = model.fit(\n",
    "        X_train,\n",
    "        y_train,\n",
    "        batch_size=batch_size,\n",
    "        epochs=epochs,\n",
    "        callbacks=callbacks,\n",
    "        validation_data=(X_val,y_val),\n",
    "        verbose=0,\n",
    "    )\n",
    "    \n",
    "    model.save_weights(dir_path + \"bnrelu_model_final/\"+\"M_\"+str(i)+\"_restored_weight\"+\"_cp.ckpt\")\n",
    "    \n",
    "    pred = model.predict(X_test)\n",
    "    \n",
    "    mean,maj = get_mean_maj_preds_3_class(pred,df_test)\n",
    "    y_true = get_y_true3(df_test)\n",
    "    w_acc_maj = compute_weighted_acc_3class(maj,y_true)\n",
    "    w_acc_mean = compute_weighted_acc_3class(mean,y_true)\n",
    "    \n",
    "    # Compute the duration\n",
    "    loop_duration = time.time() - start_time\n",
    "    total_duration += loop_duration  # Add to the total duration\n",
    "                                   \n",
    "    logging.info('Predictions Mean - Set %d: %s', i, mean)\n",
    "    logging.info('Predictions Maj - Set %d: %s', i, maj)\n",
    "    logging.info('Actual Labels - Set %d: %s', i, y_true)\n",
    "    logging.info('Weighted Accuracy Score Mean - Entry %d: %f', i, w_acc_mean)\n",
    "    logging.info('Weighted Accuracy Score Maj - Entry %d: %f', i, w_acc_maj)\n",
    "    if early_stopping_callback.stopped_epoch > 0:  # Means early stopping was triggered\n",
    "        logging.info('Early Stopping at Epoch %d', early_stopping_callback.stopped_epoch)\n",
    "    logging.info('Total duration yet %d: %f seconds', i, total_duration)\n",
    "    \n",
    "    \n",
    "    i = i+1\n"
   ]
  },
  {
   "cell_type": "code",
   "execution_count": 112,
   "id": "02d0e2b1",
   "metadata": {},
   "outputs": [
    {
     "data": {
      "text/plain": [
       "<tensorflow.python.checkpoint.checkpoint.CheckpointLoadStatus at 0x7f3f561774d0>"
      ]
     },
     "execution_count": 112,
     "metadata": {},
     "output_type": "execute_result"
    }
   ],
   "source": [
    "model.load_weights(\"checkpoint_dir/20230821-061600bnrelu_model_final/M_1_cp.ckpt\")"
   ]
  },
  {
   "cell_type": "code",
   "execution_count": 114,
   "id": "fe22339b",
   "metadata": {},
   "outputs": [
    {
     "name": "stdout",
     "output_type": "stream",
     "text": [
      "157/157 [==============================] - 3s 17ms/step\n"
     ]
    }
   ],
   "source": [
    "pred = model.predict(X_test)"
   ]
  },
  {
   "cell_type": "code",
   "execution_count": 134,
   "id": "24ed6713",
   "metadata": {},
   "outputs": [],
   "source": [
    "def get_mean_maj_preds_3_class(model_preds,df_test):\n",
    "    list_patient_rows = list(df_test.groupby(['patient_id'])['patient_id'].count())\n",
    "    pred_groupby_patient = np.split(model_preds,cumulative(list_patient_rows))\n",
    "    pred_groupby_patient = pred_groupby_patient[:-1]\n",
    "    #y_test_grouped = get_y_true3(df_test)\n",
    "    mean_p = mean_pred_3_class(pred_groupby_patient)\n",
    "    maj_p = majority_pred_3_class(pred_groupby_patient)\n",
    "    return mean_p, maj_p"
   ]
  },
  {
   "cell_type": "code",
   "execution_count": 162,
   "id": "97c2e43f",
   "metadata": {},
   "outputs": [],
   "source": [
    "mean, maj = get_mean_maj_preds_3_class(pred,df_test)"
   ]
  },
  {
   "cell_type": "code",
   "execution_count": 164,
   "id": "8af0c960",
   "metadata": {},
   "outputs": [
    {
     "ename": "NameError",
     "evalue": "name 'y_pred' is not defined",
     "output_type": "error",
     "traceback": [
      "\u001b[0;31m---------------------------------------------------------------------------\u001b[0m",
      "\u001b[0;31mNameError\u001b[0m                                 Traceback (most recent call last)",
      "Cell \u001b[0;32mIn[164], line 22\u001b[0m\n\u001b[1;32m     17\u001b[0m     \u001b[38;5;28;01mreturn\u001b[39;00m np\u001b[38;5;241m.\u001b[39mdot(accuracies, weights)\n\u001b[1;32m     20\u001b[0m weights \u001b[38;5;241m=\u001b[39m [\u001b[38;5;241m5\u001b[39m, \u001b[38;5;241m3\u001b[39m, \u001b[38;5;241m1\u001b[39m]\n\u001b[0;32m---> 22\u001b[0m weighted_accuracy(y_true, y_pred, weights)\n",
      "\u001b[0;31mNameError\u001b[0m: name 'y_pred' is not defined"
     ]
    }
   ],
   "source": [
    "def weighted_accuracy(y_true, y_pred, weights):\n",
    "    # Ensure the true and predicted labels are numpy arrays\n",
    "    y_true = np.array(y_true)\n",
    "    y_pred = np.array(y_pred)\n",
    "    \n",
    "    # Check for valid inputs\n",
    "    assert y_true.shape == y_pred.shape, \"y_true and y_pred must have the same shape\"\n",
    "    assert len(weights) == y_true.shape[1], \"Number of weights must match the number of classes\"\n",
    "    \n",
    "    # Compute accuracies for each class\n",
    "    accuracies = []\n",
    "    for i in range(y_true.shape[1]):\n",
    "        accuracy = np.mean((y_true[:, i] == y_pred[:, i]).astype(int))\n",
    "        accuracies.append(accuracy)\n",
    "    \n",
    "    # Compute weighted accuracy\n",
    "    return np.dot(accuracies, weights)\n",
    "\n",
    "\n",
    "weights = [5, 3, 1]\n",
    "\n"
   ]
  },
  {
   "cell_type": "code",
   "execution_count": 166,
   "id": "41565824",
   "metadata": {},
   "outputs": [],
   "source": [
    "def get_y_true3(dftest):\n",
    "    "
   ]
  },
  {
   "cell_type": "code",
   "execution_count": 171,
   "id": "7935aaeb",
   "metadata": {},
   "outputs": [],
   "source": [
    "df_test['murmur'] = df_test['murmur'].apply(tuple)\n",
    "locdf = df_test[[\"patient_id\",\"murmur\"]]\n",
    "locdf = locdf.drop_duplicates()\n",
    "y_test_grouped = locdf['murmur'].to_list()\n",
    "y_test_grouped = [list(i) for i in y_test_grouped]"
   ]
  },
  {
   "cell_type": "code",
   "execution_count": null,
   "id": "46af47aa",
   "metadata": {},
   "outputs": [],
   "source": []
  },
  {
   "cell_type": "code",
   "execution_count": null,
   "id": "06975a94",
   "metadata": {},
   "outputs": [],
   "source": []
  },
  {
   "cell_type": "code",
   "execution_count": null,
   "id": "db8b9e4c",
   "metadata": {},
   "outputs": [],
   "source": []
  },
  {
   "cell_type": "code",
   "execution_count": null,
   "id": "490d10c8",
   "metadata": {},
   "outputs": [],
   "source": []
  },
  {
   "cell_type": "code",
   "execution_count": null,
   "id": "bec01554",
   "metadata": {},
   "outputs": [],
   "source": []
  },
  {
   "cell_type": "code",
   "execution_count": null,
   "id": "c1918500",
   "metadata": {},
   "outputs": [],
   "source": []
  },
  {
   "cell_type": "code",
   "execution_count": null,
   "id": "d60aa0da",
   "metadata": {},
   "outputs": [],
   "source": []
  },
  {
   "cell_type": "code",
   "execution_count": null,
   "id": "dadef0f8",
   "metadata": {},
   "outputs": [],
   "source": []
  },
  {
   "cell_type": "code",
   "execution_count": null,
   "id": "95c1896a",
   "metadata": {},
   "outputs": [],
   "source": []
  },
  {
   "cell_type": "code",
   "execution_count": 108,
   "id": "702049e9",
   "metadata": {
    "scrolled": true
   },
   "outputs": [
    {
     "ename": "ValueError",
     "evalue": "Failed to convert a NumPy array to a Tensor (Unsupported object type numpy.ndarray).",
     "output_type": "error",
     "traceback": [
      "\u001b[0;31m---------------------------------------------------------------------------\u001b[0m",
      "\u001b[0;31mValueError\u001b[0m                                Traceback (most recent call last)",
      "Cell \u001b[0;32mIn[108], line 78\u001b[0m\n\u001b[1;32m     70\u001b[0m model \u001b[38;5;241m=\u001b[39m bnrelu_model_156u(input_shape\u001b[38;5;241m=\u001b[39mX_train\u001b[38;5;241m.\u001b[39mshape[\u001b[38;5;241m1\u001b[39m:])\n\u001b[1;32m     71\u001b[0m model\u001b[38;5;241m.\u001b[39mcompile(\n\u001b[1;32m     72\u001b[0m     optimizer\u001b[38;5;241m=\u001b[39madam,\n\u001b[1;32m     73\u001b[0m     loss\u001b[38;5;241m=\u001b[39mweighted_bincrossentropy,\n\u001b[1;32m     74\u001b[0m     metrics\u001b[38;5;241m=\u001b[39m[auc],\n\u001b[1;32m     75\u001b[0m     weighted_metrics \u001b[38;5;241m=\u001b[39m \u001b[38;5;124m'\u001b[39m\u001b[38;5;124macc\u001b[39m\u001b[38;5;124m'\u001b[39m ,\n\u001b[1;32m     76\u001b[0m )\n\u001b[0;32m---> 78\u001b[0m history \u001b[38;5;241m=\u001b[39m model\u001b[38;5;241m.\u001b[39mfit(\n\u001b[1;32m     79\u001b[0m     X_train,\n\u001b[1;32m     80\u001b[0m     np\u001b[38;5;241m.\u001b[39marray(y_train),\n\u001b[1;32m     81\u001b[0m     batch_size\u001b[38;5;241m=\u001b[39mbatch_size,\n\u001b[1;32m     82\u001b[0m     epochs\u001b[38;5;241m=\u001b[39mepochs,\n\u001b[1;32m     83\u001b[0m     callbacks\u001b[38;5;241m=\u001b[39mcallbacks,\n\u001b[1;32m     84\u001b[0m     validation_data\u001b[38;5;241m=\u001b[39m(X_val,np\u001b[38;5;241m.\u001b[39marray(y_val)),\n\u001b[1;32m     85\u001b[0m     verbose\u001b[38;5;241m=\u001b[39m\u001b[38;5;241m0\u001b[39m,\n\u001b[1;32m     86\u001b[0m )\n\u001b[1;32m     88\u001b[0m model\u001b[38;5;241m.\u001b[39msave_weights(dir_path \u001b[38;5;241m+\u001b[39m \u001b[38;5;124m\"\u001b[39m\u001b[38;5;124mbnrelu_model_156u/\u001b[39m\u001b[38;5;124m\"\u001b[39m\u001b[38;5;241m+\u001b[39m\u001b[38;5;124m\"\u001b[39m\u001b[38;5;124mM_\u001b[39m\u001b[38;5;124m\"\u001b[39m\u001b[38;5;241m+\u001b[39m\u001b[38;5;28mstr\u001b[39m(i)\u001b[38;5;241m+\u001b[39m\u001b[38;5;124m\"\u001b[39m\u001b[38;5;124m_restored_weight\u001b[39m\u001b[38;5;124m\"\u001b[39m\u001b[38;5;241m+\u001b[39m\u001b[38;5;124m\"\u001b[39m\u001b[38;5;124m_cp.ckpt\u001b[39m\u001b[38;5;124m\"\u001b[39m)\n\u001b[1;32m     90\u001b[0m pred \u001b[38;5;241m=\u001b[39m model\u001b[38;5;241m.\u001b[39mpredict(X_test)\n",
      "File \u001b[0;32m~/anaconda3/lib/python3.11/site-packages/keras/src/utils/traceback_utils.py:70\u001b[0m, in \u001b[0;36mfilter_traceback.<locals>.error_handler\u001b[0;34m(*args, **kwargs)\u001b[0m\n\u001b[1;32m     67\u001b[0m     filtered_tb \u001b[38;5;241m=\u001b[39m _process_traceback_frames(e\u001b[38;5;241m.\u001b[39m__traceback__)\n\u001b[1;32m     68\u001b[0m     \u001b[38;5;66;03m# To get the full stack trace, call:\u001b[39;00m\n\u001b[1;32m     69\u001b[0m     \u001b[38;5;66;03m# `tf.debugging.disable_traceback_filtering()`\u001b[39;00m\n\u001b[0;32m---> 70\u001b[0m     \u001b[38;5;28;01mraise\u001b[39;00m e\u001b[38;5;241m.\u001b[39mwith_traceback(filtered_tb) \u001b[38;5;28;01mfrom\u001b[39;00m \u001b[38;5;28;01mNone\u001b[39;00m\n\u001b[1;32m     71\u001b[0m \u001b[38;5;28;01mfinally\u001b[39;00m:\n\u001b[1;32m     72\u001b[0m     \u001b[38;5;28;01mdel\u001b[39;00m filtered_tb\n",
      "File \u001b[0;32m~/anaconda3/lib/python3.11/site-packages/tensorflow/python/framework/constant_op.py:98\u001b[0m, in \u001b[0;36mconvert_to_eager_tensor\u001b[0;34m(value, ctx, dtype)\u001b[0m\n\u001b[1;32m     96\u001b[0m     dtype \u001b[38;5;241m=\u001b[39m dtypes\u001b[38;5;241m.\u001b[39mas_dtype(dtype)\u001b[38;5;241m.\u001b[39mas_datatype_enum\n\u001b[1;32m     97\u001b[0m ctx\u001b[38;5;241m.\u001b[39mensure_initialized()\n\u001b[0;32m---> 98\u001b[0m \u001b[38;5;28;01mreturn\u001b[39;00m ops\u001b[38;5;241m.\u001b[39mEagerTensor(value, ctx\u001b[38;5;241m.\u001b[39mdevice_name, dtype)\n",
      "\u001b[0;31mValueError\u001b[0m: Failed to convert a NumPy array to a Tensor (Unsupported object type numpy.ndarray)."
     ]
    }
   ],
   "source": [
    "X = list_id\n",
    "Y = list_label\n",
    "kfold = KFold(n_splits=5, shuffle=True, random_state=random.randint(1, 100))\n",
    "\n",
    "\n",
    "time1 = datetime.datetime.now().strftime(\"%Y%m%d-%H%M%S\")\n",
    "dir_path = \"checkpoint_dir/\"+ time1\n",
    "\n",
    "auc = tf.keras.metrics.AUC(name='auc',curve='PR')\n",
    "\n",
    "\n",
    "total_duration = 0\n",
    "\n",
    "epochs = 100\n",
    "batch_size = 32\n",
    "\n",
    "if not os.path.exists('logdir'):\n",
    "    os.makedirs('logdir')\n",
    "    \n",
    "# Set up the log filename using the current timestamp\n",
    "logger = logging.getLogger()\n",
    "for handler in logger.handlers[:]:\n",
    "    handler.close()\n",
    "    logger.removeHandler(handler)\n",
    "    \n",
    "log_filename = os.path.join('logdir', f'bnrelu_model_156u{time1}.log')\n",
    "logging.basicConfig(filename=log_filename, filemode='w', format='%(asctime)s - %(message)s', level=logging.INFO)\n",
    "\n",
    "\n",
    "i=1\n",
    "for train_index, test_index in kfold.split(X,Y):\n",
    "    start_time = time.time()  # Record start time of the loop\n",
    "    X_train, X_test = X[train_index], X[test_index]\n",
    "    y_train, y_test = Y[train_index], Y[test_index]\n",
    "    X_train, X_val, y_train, y_val = train_test_split(X_train, y_train , test_size=0.25, random_state=42)\n",
    "\n",
    "    \n",
    "    df_train = select_rows(X_train,df)\n",
    "    df_val = select_rows(X_val,df)\n",
    "    df_test = select_rows(X_test,df)\n",
    "    \n",
    "    X_train = np.vstack(df_train['recording'])\n",
    "    X_train = X_train.reshape(len(X_train),len(X_train[1]),1)\n",
    "    y_train = np.array(df_train['murmur'])\n",
    "    \n",
    "    X_val = np.vstack(df_val['recording'])\n",
    "    X_val = X_val.reshape(len(X_val),len(X_val[1]),1)\n",
    "    y_val = np.array(df_val['murmur'])\n",
    "    \n",
    "    X_test = np.vstack(df_test['recording'])\n",
    "    X_test = X_test.reshape(len(X_test),len(X_test[1]),1)\n",
    "    y_test = np.array(df_test['murmur'])\n",
    "    \n",
    "    checkpoint_path = dir_path + \"bnrelu_model_156u/\"+\"M_\"+str(i)+\"_cp.ckpt\"\n",
    "    checkpoint_dir = os.path.dirname(checkpoint_path)\n",
    "    \n",
    "    early_stopping_callback = tf.keras.callbacks.EarlyStopping(monitor='val_loss', patience=10, verbose=1,restore_best_weights=True,mode='min')\n",
    "\n",
    "    callbacks = [\n",
    "    tf.keras.callbacks.ModelCheckpoint(filepath=checkpoint_path,save_weights_only=True,verbose=1),\n",
    "    tf.keras.callbacks.ReduceLROnPlateau(\n",
    "        monitor=\"val_loss\", factor=0.5, patience=10, min_lr=0.0001\n",
    "    ),\n",
    "    early_stopping_callback,\n",
    "    ]\n",
    "    \n",
    "    adam = tf.keras.optimizers.Adam(learning_rate=0.001)\n",
    "    #sgd = tf.keras.optimizers.SGD(learning_rate=0.01)\n",
    "    \n",
    "    model = bnrelu_model_156u(input_shape=X_train.shape[1:])\n",
    "    model.compile(\n",
    "        optimizer=adam,\n",
    "        loss=weighted_bincrossentropy,\n",
    "        metrics=[auc],\n",
    "        weighted_metrics = 'acc' ,\n",
    "    )\n",
    "\n",
    "    history = model.fit(\n",
    "        X_train,\n",
    "        np.array(y_train),\n",
    "        batch_size=batch_size,\n",
    "        epochs=epochs,\n",
    "        callbacks=callbacks,\n",
    "        validation_data=(X_val,np.array(y_val)),\n",
    "        verbose=0,\n",
    "    )\n",
    "    \n",
    "    model.save_weights(dir_path + \"bnrelu_model_156u/\"+\"M_\"+str(i)+\"_restored_weight\"+\"_cp.ckpt\")\n",
    "    \n",
    "    pred = model.predict(X_test)\n",
    "    \n",
    "    mean,maj = get_mean_maj_preds(pred,df_test)\n",
    "    y_true = get_y_true(df_test)\n",
    "    w_acc_maj = compute_weight_acc(maj,y_true)\n",
    "    w_acc_mean = compute_weight_acc(mean,y_true)\n",
    "    \n",
    "    # Compute the duration\n",
    "    loop_duration = time.time() - start_time\n",
    "    total_duration += loop_duration  # Add to the total duration\n",
    "                                   \n",
    "    logging.info('Predictions Mean - Set %d: %s', i, mean)\n",
    "    logging.info('Predictions Maj - Set %d: %s', i, maj)\n",
    "    logging.info('Actual Labels - Set %d: %s', i, y_true)\n",
    "    logging.info('Weighted Accuracy Score Mean - Entry %d: %f', i, w_acc_mean)\n",
    "    logging.info('Weighted Accuracy Score Maj - Entry %d: %f', i, w_acc_maj)\n",
    "    if early_stopping_callback.stopped_epoch > 0:  # Means early stopping was triggered\n",
    "        logging.info('Early Stopping at Epoch %d', early_stopping_callback.stopped_epoch)\n",
    "    logging.info('Total duration yet %d: %f seconds', i, total_duration)\n",
    "    \n",
    "    \n",
    "    i = i+1\n"
   ]
  },
  {
   "cell_type": "code",
   "execution_count": 38,
   "id": "a8ade76c",
   "metadata": {},
   "outputs": [],
   "source": []
  },
  {
   "cell_type": "code",
   "execution_count": 30,
   "id": "813a5453",
   "metadata": {},
   "outputs": [
    {
     "data": {
      "image/png": "[encoded data removed]",
      "text/plain": [
       "<Figure size 1500x700 with 4 Axes>"
      ]
     },
     "metadata": {},
     "output_type": "display_data"
    }
   ],
   "source": [
    "fig, axes = plt.subplots(nrows=1, ncols=2, figsize=(15,7))\n",
    "\n",
    "\n",
    "ConfusionMatrixDisplay.from_predictions(y_true, pred,ax=axes[0],\n",
    "                                        cmap='Blues', normalize = None)\n",
    "\n",
    "ConfusionMatrixDisplay.from_predictions(y_true, pred,ax=axes[1],\n",
    "                                        cmap='Blues', normalize = 'true')\n",
    "\n",
    "plt.tight_layout()  \n",
    "plt.show()"
   ]
  },
  {
   "cell_type": "code",
   "execution_count": null,
   "id": "65d3dd53",
   "metadata": {},
   "outputs": [],
   "source": [
    "fig, axes = plt.subplots(nrows=1, ncols=2, figsize=(15,7))\n",
    "\n",
    "\n",
    "ConfusionMatrixDisplay.from_predictions(y_true, maj,ax=axes[0],\n",
    "                                        cmap='Blues', normalize = None)\n",
    "\n",
    "ConfusionMatrixDisplay.from_predictions(y_true, maj,ax=axes[1],\n",
    "                                        cmap='Blues', normalize = 'true')\n",
    "\n",
    "plt.tight_layout()  \n",
    "plt.show()"
   ]
  },
  {
   "cell_type": "code",
   "execution_count": 39,
   "id": "275f88ec",
   "metadata": {},
   "outputs": [],
   "source": [
    "log_filename = os.path.join('logdir', f'bnrelu_model_samp1000_adam_{time}.log')\n",
    "logging.basicConfig(filename=log_filename, filemode='w', format='%(asctime)s - %(message)s', level=logging.INFO)\n",
    "\n",
    "logger = logging.getLogger()\n",
    "for handler in logger.handlers[:]:\n",
    "    handler.close()\n",
    "    logger.removeHandler(handler)"
   ]
  },
  {
   "cell_type": "code",
   "execution_count": null,
   "id": "18303272",
   "metadata": {},
   "outputs": [],
   "source": []
  }
 ],
 "metadata": {
  "accelerator": "GPU",
  "colab": {
   "provenance": []
  },
  "gpuClass": "standard",
  "kernelspec": {
   "display_name": "Python 3 (ipykernel)",
   "language": "python",
   "name": "python3"
  },
  "language_info": {
   "codemirror_mode": {
    "name": "ipython",
    "version": 3
   },
   "file_extension": ".py",
   "mimetype": "text/x-python",
   "name": "python",
   "nbconvert_exporter": "python",
   "pygments_lexer": "ipython3",
   "version": "3.11.4"
  }
 },
 "nbformat": 4,
 "nbformat_minor": 5
}
